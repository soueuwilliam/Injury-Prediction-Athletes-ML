{
 "cells": [
  {
   "cell_type": "code",
   "execution_count": 4,
   "metadata": {},
   "outputs": [],
   "source": [
    "import pandas as pd\n",
    "import plotly.express as px"
   ]
  },
  {
   "cell_type": "markdown",
   "metadata": {},
   "source": [
    "# Lendo o arquivo"
   ]
  },
  {
   "cell_type": "code",
   "execution_count": 7,
   "metadata": {},
   "outputs": [],
   "source": [
    "df = pd.read_csv('../data/raw/injury_data.csv')"
   ]
  },
  {
   "cell_type": "code",
   "execution_count": 11,
   "metadata": {},
   "outputs": [
    {
     "name": "stdout",
     "output_type": "stream",
     "text": [
      "<class 'pandas.core.frame.DataFrame'>\n",
      "RangeIndex: 1000 entries, 0 to 999\n",
      "Data columns (total 7 columns):\n",
      " #   Column                Non-Null Count  Dtype  \n",
      "---  ------                --------------  -----  \n",
      " 0   Player_Age            1000 non-null   int64  \n",
      " 1   Player_Weight         1000 non-null   float64\n",
      " 2   Player_Height         1000 non-null   float64\n",
      " 3   Previous_Injuries     1000 non-null   int64  \n",
      " 4   Training_Intensity    1000 non-null   float64\n",
      " 5   Recovery_Time         1000 non-null   int64  \n",
      " 6   Likelihood_of_Injury  1000 non-null   int64  \n",
      "dtypes: float64(3), int64(4)\n",
      "memory usage: 54.8 KB\n"
     ]
    }
   ],
   "source": [
    "df.info()"
   ]
  },
  {
   "cell_type": "markdown",
   "metadata": {},
   "source": [
    "### Idade"
   ]
  },
  {
   "cell_type": "code",
   "execution_count": 13,
   "metadata": {},
   "outputs": [
    {
     "data": {
      "text/plain": [
       "count    1000.000000\n",
       "mean       28.231000\n",
       "std         6.538378\n",
       "min        18.000000\n",
       "25%        22.000000\n",
       "50%        28.000000\n",
       "75%        34.000000\n",
       "max        39.000000\n",
       "Name: Player_Age, dtype: float64"
      ]
     },
     "execution_count": 13,
     "metadata": {},
     "output_type": "execute_result"
    }
   ],
   "source": [
    "df['Player_Age'].describe()"
   ]
  },
  {
   "cell_type": "code",
   "execution_count": 39,
   "metadata": {},
   "outputs": [
    {
     "data": {
      "application/vnd.plotly.v1+json": {
       "config": {
        "plotlyServerURL": "https://plot.ly"
       },
       "data": [
        {
         "alignmentgroup": "True",
         "hovertemplate": "Player_Age=%{y}<extra></extra>",
         "legendgroup": "",
         "marker": {
          "color": "#636efa"
         },
         "name": "",
         "notched": false,
         "offsetgroup": "",
         "orientation": "v",
         "showlegend": false,
         "type": "box",
         "x0": " ",
         "xaxis": "x",
         "y": [
          24,
          37,
          32,
          28,
          25,
          38,
          24,
          36,
          28,
          28,
          38,
          21,
          25,
          20,
          39,
          38,
          19,
          29,
          23,
          19,
          38,
          18,
          29,
          39,
          29,
          34,
          27,
          33,
          32,
          32,
          36,
          29,
          37,
          20,
          22,
          36,
          24,
          38,
          26,
          24,
          35,
          21,
          31,
          35,
          26,
          38,
          19,
          37,
          32,
          24,
          29,
          25,
          32,
          20,
          31,
          34,
          21,
          35,
          25,
          21,
          19,
          23,
          39,
          27,
          21,
          39,
          35,
          29,
          19,
          27,
          21,
          31,
          33,
          32,
          25,
          31,
          25,
          38,
          33,
          30,
          35,
          32,
          38,
          30,
          26,
          32,
          30,
          18,
          24,
          26,
          18,
          29,
          25,
          28,
          36,
          34,
          25,
          20,
          20,
          18,
          22,
          27,
          24,
          26,
          24,
          26,
          25,
          29,
          19,
          18,
          33,
          22,
          20,
          29,
          25,
          39,
          20,
          18,
          20,
          22,
          32,
          31,
          20,
          18,
          22,
          31,
          24,
          26,
          32,
          32,
          27,
          30,
          36,
          24,
          34,
          37,
          21,
          22,
          24,
          30,
          32,
          28,
          21,
          30,
          24,
          36,
          39,
          19,
          27,
          30,
          38,
          23,
          29,
          29,
          37,
          28,
          24,
          18,
          18,
          37,
          30,
          26,
          20,
          24,
          23,
          25,
          26,
          22,
          18,
          36,
          27,
          29,
          32,
          39,
          26,
          37,
          34,
          34,
          37,
          29,
          24,
          19,
          20,
          34,
          22,
          34,
          34,
          34,
          19,
          19,
          39,
          22,
          18,
          18,
          36,
          19,
          38,
          29,
          23,
          21,
          28,
          34,
          23,
          22,
          37,
          19,
          23,
          39,
          28,
          33,
          33,
          18,
          26,
          23,
          33,
          20,
          37,
          21,
          36,
          20,
          36,
          37,
          24,
          37,
          26,
          18,
          25,
          24,
          35,
          25,
          18,
          28,
          35,
          27,
          20,
          24,
          33,
          33,
          37,
          34,
          19,
          18,
          33,
          29,
          22,
          22,
          26,
          26,
          20,
          36,
          33,
          33,
          20,
          37,
          39,
          18,
          37,
          28,
          34,
          25,
          21,
          23,
          25,
          37,
          20,
          33,
          20,
          35,
          31,
          35,
          19,
          39,
          20,
          33,
          26,
          21,
          18,
          21,
          18,
          31,
          38,
          33,
          37,
          25,
          24,
          20,
          34,
          18,
          33,
          29,
          36,
          39,
          39,
          31,
          23,
          23,
          30,
          36,
          39,
          25,
          19,
          38,
          18,
          32,
          18,
          22,
          33,
          36,
          21,
          20,
          34,
          34,
          29,
          31,
          38,
          23,
          20,
          26,
          22,
          34,
          31,
          38,
          20,
          18,
          37,
          38,
          18,
          20,
          35,
          27,
          39,
          20,
          25,
          31,
          35,
          32,
          39,
          19,
          27,
          19,
          34,
          25,
          18,
          26,
          28,
          39,
          33,
          24,
          27,
          20,
          35,
          30,
          24,
          21,
          30,
          37,
          18,
          25,
          31,
          33,
          31,
          29,
          36,
          32,
          19,
          19,
          39,
          36,
          39,
          39,
          34,
          37,
          27,
          23,
          32,
          39,
          28,
          22,
          18,
          25,
          38,
          29,
          29,
          22,
          24,
          21,
          23,
          30,
          37,
          32,
          20,
          25,
          37,
          33,
          30,
          35,
          27,
          36,
          34,
          36,
          22,
          38,
          26,
          29,
          38,
          18,
          18,
          32,
          19,
          39,
          33,
          25,
          30,
          38,
          18,
          33,
          24,
          22,
          39,
          20,
          29,
          33,
          36,
          22,
          39,
          31,
          22,
          32,
          34,
          31,
          37,
          22,
          29,
          33,
          33,
          38,
          24,
          21,
          18,
          22,
          27,
          39,
          22,
          21,
          19,
          37,
          27,
          36,
          18,
          22,
          30,
          21,
          33,
          33,
          19,
          34,
          37,
          29,
          35,
          20,
          18,
          18,
          36,
          28,
          22,
          29,
          20,
          18,
          18,
          25,
          27,
          28,
          29,
          30,
          29,
          31,
          19,
          36,
          35,
          20,
          34,
          25,
          27,
          19,
          36,
          26,
          24,
          21,
          38,
          35,
          30,
          28,
          21,
          38,
          21,
          27,
          22,
          26,
          20,
          34,
          20,
          33,
          21,
          35,
          34,
          24,
          22,
          29,
          34,
          30,
          20,
          26,
          34,
          34,
          37,
          33,
          39,
          30,
          36,
          34,
          21,
          29,
          26,
          36,
          29,
          26,
          24,
          31,
          37,
          36,
          32,
          33,
          38,
          22,
          20,
          29,
          37,
          38,
          21,
          38,
          33,
          24,
          30,
          38,
          27,
          24,
          31,
          22,
          20,
          28,
          28,
          35,
          32,
          29,
          26,
          27,
          29,
          34,
          23,
          24,
          31,
          30,
          25,
          27,
          26,
          35,
          19,
          22,
          22,
          23,
          36,
          25,
          33,
          30,
          18,
          39,
          37,
          34,
          24,
          30,
          21,
          21,
          23,
          36,
          29,
          39,
          24,
          27,
          36,
          24,
          20,
          30,
          30,
          35,
          37,
          25,
          26,
          24,
          18,
          20,
          30,
          34,
          18,
          23,
          38,
          23,
          29,
          30,
          30,
          32,
          38,
          33,
          39,
          38,
          28,
          22,
          21,
          20,
          36,
          37,
          35,
          32,
          26,
          34,
          31,
          32,
          18,
          38,
          39,
          39,
          20,
          33,
          28,
          29,
          27,
          33,
          25,
          23,
          29,
          38,
          25,
          21,
          25,
          35,
          22,
          26,
          21,
          39,
          34,
          26,
          18,
          38,
          37,
          30,
          33,
          30,
          31,
          20,
          23,
          35,
          36,
          22,
          32,
          19,
          27,
          35,
          30,
          22,
          18,
          39,
          18,
          35,
          32,
          34,
          28,
          38,
          39,
          34,
          30,
          18,
          19,
          26,
          20,
          18,
          38,
          33,
          23,
          34,
          22,
          22,
          23,
          20,
          38,
          22,
          38,
          22,
          27,
          27,
          36,
          34,
          38,
          31,
          26,
          31,
          18,
          36,
          30,
          30,
          21,
          18,
          34,
          25,
          19,
          25,
          24,
          19,
          39,
          39,
          20,
          35,
          29,
          18,
          39,
          29,
          22,
          34,
          33,
          32,
          32,
          22,
          38,
          31,
          19,
          28,
          36,
          24,
          23,
          19,
          23,
          35,
          19,
          35,
          32,
          36,
          19,
          37,
          23,
          18,
          32,
          27,
          36,
          34,
          22,
          21,
          27,
          34,
          27,
          34,
          37,
          22,
          19,
          23,
          38,
          19,
          30,
          28,
          28,
          33,
          28,
          36,
          32,
          33,
          28,
          39,
          33,
          25,
          21,
          25,
          21,
          20,
          20,
          35,
          36,
          36,
          38,
          22,
          35,
          27,
          39,
          38,
          23,
          18,
          22,
          26,
          29,
          31,
          19,
          34,
          31,
          30,
          26,
          32,
          39,
          32,
          28,
          33,
          34,
          21,
          18,
          25,
          34,
          20,
          37,
          32,
          32,
          39,
          31,
          31,
          19,
          30,
          31,
          36,
          24,
          20,
          32,
          31,
          28,
          32,
          30,
          35,
          23,
          20,
          36,
          32,
          22,
          27,
          24,
          34,
          24,
          39,
          29,
          34,
          30,
          37,
          21,
          27,
          20,
          26,
          30,
          35,
          32,
          21,
          32,
          39,
          19,
          32,
          25,
          25,
          34,
          29,
          36,
          27,
          26,
          22,
          23,
          37,
          19,
          30,
          23,
          22,
          18,
          38,
          39,
          38,
          23,
          23,
          33,
          21,
          28,
          26,
          20,
          36,
          25,
          22,
          21,
          23,
          19,
          37,
          28,
          21,
          32,
          23,
          39,
          34,
          23,
          36,
          19,
          32,
          28,
          25,
          36,
          30,
          29,
          22,
          23,
          39,
          21,
          36,
          37,
          18,
          37,
          34,
          29,
          32,
          18,
          31,
          23,
          22,
          28,
          21,
          30,
          28,
          20,
          18,
          23,
          35,
          27,
          22,
          27,
          29,
          19,
          30,
          25,
          19,
          37,
          18,
          22,
          26,
          34,
          26,
          28,
          32,
          23,
          20,
          34,
          22,
          29,
          35,
          31,
          38,
          28,
          26,
          19,
          29,
          20,
          20,
          18,
          25,
          39,
          25,
          28,
          26,
          22,
          31,
          20,
          38,
          22,
          22,
          36,
          31,
          21,
          30,
          27,
          35,
          25,
          25,
          24,
          25,
          31,
          36,
          23,
          18,
          32,
          18,
          34,
          18,
          32,
          19,
          31,
          38,
          25,
          25,
          36,
          24,
          36,
          23,
          23,
          20,
          24,
          36
         ],
         "y0": " ",
         "yaxis": "y"
        }
       ],
       "layout": {
        "boxmode": "group",
        "legend": {
         "tracegroupgap": 0
        },
        "margin": {
         "t": 60
        },
        "template": {
         "data": {
          "bar": [
           {
            "error_x": {
             "color": "#2a3f5f"
            },
            "error_y": {
             "color": "#2a3f5f"
            },
            "marker": {
             "line": {
              "color": "#E5ECF6",
              "width": 0.5
             },
             "pattern": {
              "fillmode": "overlay",
              "size": 10,
              "solidity": 0.2
             }
            },
            "type": "bar"
           }
          ],
          "barpolar": [
           {
            "marker": {
             "line": {
              "color": "#E5ECF6",
              "width": 0.5
             },
             "pattern": {
              "fillmode": "overlay",
              "size": 10,
              "solidity": 0.2
             }
            },
            "type": "barpolar"
           }
          ],
          "carpet": [
           {
            "aaxis": {
             "endlinecolor": "#2a3f5f",
             "gridcolor": "white",
             "linecolor": "white",
             "minorgridcolor": "white",
             "startlinecolor": "#2a3f5f"
            },
            "baxis": {
             "endlinecolor": "#2a3f5f",
             "gridcolor": "white",
             "linecolor": "white",
             "minorgridcolor": "white",
             "startlinecolor": "#2a3f5f"
            },
            "type": "carpet"
           }
          ],
          "choropleth": [
           {
            "colorbar": {
             "outlinewidth": 0,
             "ticks": ""
            },
            "type": "choropleth"
           }
          ],
          "contour": [
           {
            "colorbar": {
             "outlinewidth": 0,
             "ticks": ""
            },
            "colorscale": [
             [
              0,
              "#0d0887"
             ],
             [
              0.1111111111111111,
              "#46039f"
             ],
             [
              0.2222222222222222,
              "#7201a8"
             ],
             [
              0.3333333333333333,
              "#9c179e"
             ],
             [
              0.4444444444444444,
              "#bd3786"
             ],
             [
              0.5555555555555556,
              "#d8576b"
             ],
             [
              0.6666666666666666,
              "#ed7953"
             ],
             [
              0.7777777777777778,
              "#fb9f3a"
             ],
             [
              0.8888888888888888,
              "#fdca26"
             ],
             [
              1,
              "#f0f921"
             ]
            ],
            "type": "contour"
           }
          ],
          "contourcarpet": [
           {
            "colorbar": {
             "outlinewidth": 0,
             "ticks": ""
            },
            "type": "contourcarpet"
           }
          ],
          "heatmap": [
           {
            "colorbar": {
             "outlinewidth": 0,
             "ticks": ""
            },
            "colorscale": [
             [
              0,
              "#0d0887"
             ],
             [
              0.1111111111111111,
              "#46039f"
             ],
             [
              0.2222222222222222,
              "#7201a8"
             ],
             [
              0.3333333333333333,
              "#9c179e"
             ],
             [
              0.4444444444444444,
              "#bd3786"
             ],
             [
              0.5555555555555556,
              "#d8576b"
             ],
             [
              0.6666666666666666,
              "#ed7953"
             ],
             [
              0.7777777777777778,
              "#fb9f3a"
             ],
             [
              0.8888888888888888,
              "#fdca26"
             ],
             [
              1,
              "#f0f921"
             ]
            ],
            "type": "heatmap"
           }
          ],
          "heatmapgl": [
           {
            "colorbar": {
             "outlinewidth": 0,
             "ticks": ""
            },
            "colorscale": [
             [
              0,
              "#0d0887"
             ],
             [
              0.1111111111111111,
              "#46039f"
             ],
             [
              0.2222222222222222,
              "#7201a8"
             ],
             [
              0.3333333333333333,
              "#9c179e"
             ],
             [
              0.4444444444444444,
              "#bd3786"
             ],
             [
              0.5555555555555556,
              "#d8576b"
             ],
             [
              0.6666666666666666,
              "#ed7953"
             ],
             [
              0.7777777777777778,
              "#fb9f3a"
             ],
             [
              0.8888888888888888,
              "#fdca26"
             ],
             [
              1,
              "#f0f921"
             ]
            ],
            "type": "heatmapgl"
           }
          ],
          "histogram": [
           {
            "marker": {
             "pattern": {
              "fillmode": "overlay",
              "size": 10,
              "solidity": 0.2
             }
            },
            "type": "histogram"
           }
          ],
          "histogram2d": [
           {
            "colorbar": {
             "outlinewidth": 0,
             "ticks": ""
            },
            "colorscale": [
             [
              0,
              "#0d0887"
             ],
             [
              0.1111111111111111,
              "#46039f"
             ],
             [
              0.2222222222222222,
              "#7201a8"
             ],
             [
              0.3333333333333333,
              "#9c179e"
             ],
             [
              0.4444444444444444,
              "#bd3786"
             ],
             [
              0.5555555555555556,
              "#d8576b"
             ],
             [
              0.6666666666666666,
              "#ed7953"
             ],
             [
              0.7777777777777778,
              "#fb9f3a"
             ],
             [
              0.8888888888888888,
              "#fdca26"
             ],
             [
              1,
              "#f0f921"
             ]
            ],
            "type": "histogram2d"
           }
          ],
          "histogram2dcontour": [
           {
            "colorbar": {
             "outlinewidth": 0,
             "ticks": ""
            },
            "colorscale": [
             [
              0,
              "#0d0887"
             ],
             [
              0.1111111111111111,
              "#46039f"
             ],
             [
              0.2222222222222222,
              "#7201a8"
             ],
             [
              0.3333333333333333,
              "#9c179e"
             ],
             [
              0.4444444444444444,
              "#bd3786"
             ],
             [
              0.5555555555555556,
              "#d8576b"
             ],
             [
              0.6666666666666666,
              "#ed7953"
             ],
             [
              0.7777777777777778,
              "#fb9f3a"
             ],
             [
              0.8888888888888888,
              "#fdca26"
             ],
             [
              1,
              "#f0f921"
             ]
            ],
            "type": "histogram2dcontour"
           }
          ],
          "mesh3d": [
           {
            "colorbar": {
             "outlinewidth": 0,
             "ticks": ""
            },
            "type": "mesh3d"
           }
          ],
          "parcoords": [
           {
            "line": {
             "colorbar": {
              "outlinewidth": 0,
              "ticks": ""
             }
            },
            "type": "parcoords"
           }
          ],
          "pie": [
           {
            "automargin": true,
            "type": "pie"
           }
          ],
          "scatter": [
           {
            "fillpattern": {
             "fillmode": "overlay",
             "size": 10,
             "solidity": 0.2
            },
            "type": "scatter"
           }
          ],
          "scatter3d": [
           {
            "line": {
             "colorbar": {
              "outlinewidth": 0,
              "ticks": ""
             }
            },
            "marker": {
             "colorbar": {
              "outlinewidth": 0,
              "ticks": ""
             }
            },
            "type": "scatter3d"
           }
          ],
          "scattercarpet": [
           {
            "marker": {
             "colorbar": {
              "outlinewidth": 0,
              "ticks": ""
             }
            },
            "type": "scattercarpet"
           }
          ],
          "scattergeo": [
           {
            "marker": {
             "colorbar": {
              "outlinewidth": 0,
              "ticks": ""
             }
            },
            "type": "scattergeo"
           }
          ],
          "scattergl": [
           {
            "marker": {
             "colorbar": {
              "outlinewidth": 0,
              "ticks": ""
             }
            },
            "type": "scattergl"
           }
          ],
          "scattermapbox": [
           {
            "marker": {
             "colorbar": {
              "outlinewidth": 0,
              "ticks": ""
             }
            },
            "type": "scattermapbox"
           }
          ],
          "scatterpolar": [
           {
            "marker": {
             "colorbar": {
              "outlinewidth": 0,
              "ticks": ""
             }
            },
            "type": "scatterpolar"
           }
          ],
          "scatterpolargl": [
           {
            "marker": {
             "colorbar": {
              "outlinewidth": 0,
              "ticks": ""
             }
            },
            "type": "scatterpolargl"
           }
          ],
          "scatterternary": [
           {
            "marker": {
             "colorbar": {
              "outlinewidth": 0,
              "ticks": ""
             }
            },
            "type": "scatterternary"
           }
          ],
          "surface": [
           {
            "colorbar": {
             "outlinewidth": 0,
             "ticks": ""
            },
            "colorscale": [
             [
              0,
              "#0d0887"
             ],
             [
              0.1111111111111111,
              "#46039f"
             ],
             [
              0.2222222222222222,
              "#7201a8"
             ],
             [
              0.3333333333333333,
              "#9c179e"
             ],
             [
              0.4444444444444444,
              "#bd3786"
             ],
             [
              0.5555555555555556,
              "#d8576b"
             ],
             [
              0.6666666666666666,
              "#ed7953"
             ],
             [
              0.7777777777777778,
              "#fb9f3a"
             ],
             [
              0.8888888888888888,
              "#fdca26"
             ],
             [
              1,
              "#f0f921"
             ]
            ],
            "type": "surface"
           }
          ],
          "table": [
           {
            "cells": {
             "fill": {
              "color": "#EBF0F8"
             },
             "line": {
              "color": "white"
             }
            },
            "header": {
             "fill": {
              "color": "#C8D4E3"
             },
             "line": {
              "color": "white"
             }
            },
            "type": "table"
           }
          ]
         },
         "layout": {
          "annotationdefaults": {
           "arrowcolor": "#2a3f5f",
           "arrowhead": 0,
           "arrowwidth": 1
          },
          "autotypenumbers": "strict",
          "coloraxis": {
           "colorbar": {
            "outlinewidth": 0,
            "ticks": ""
           }
          },
          "colorscale": {
           "diverging": [
            [
             0,
             "#8e0152"
            ],
            [
             0.1,
             "#c51b7d"
            ],
            [
             0.2,
             "#de77ae"
            ],
            [
             0.3,
             "#f1b6da"
            ],
            [
             0.4,
             "#fde0ef"
            ],
            [
             0.5,
             "#f7f7f7"
            ],
            [
             0.6,
             "#e6f5d0"
            ],
            [
             0.7,
             "#b8e186"
            ],
            [
             0.8,
             "#7fbc41"
            ],
            [
             0.9,
             "#4d9221"
            ],
            [
             1,
             "#276419"
            ]
           ],
           "sequential": [
            [
             0,
             "#0d0887"
            ],
            [
             0.1111111111111111,
             "#46039f"
            ],
            [
             0.2222222222222222,
             "#7201a8"
            ],
            [
             0.3333333333333333,
             "#9c179e"
            ],
            [
             0.4444444444444444,
             "#bd3786"
            ],
            [
             0.5555555555555556,
             "#d8576b"
            ],
            [
             0.6666666666666666,
             "#ed7953"
            ],
            [
             0.7777777777777778,
             "#fb9f3a"
            ],
            [
             0.8888888888888888,
             "#fdca26"
            ],
            [
             1,
             "#f0f921"
            ]
           ],
           "sequentialminus": [
            [
             0,
             "#0d0887"
            ],
            [
             0.1111111111111111,
             "#46039f"
            ],
            [
             0.2222222222222222,
             "#7201a8"
            ],
            [
             0.3333333333333333,
             "#9c179e"
            ],
            [
             0.4444444444444444,
             "#bd3786"
            ],
            [
             0.5555555555555556,
             "#d8576b"
            ],
            [
             0.6666666666666666,
             "#ed7953"
            ],
            [
             0.7777777777777778,
             "#fb9f3a"
            ],
            [
             0.8888888888888888,
             "#fdca26"
            ],
            [
             1,
             "#f0f921"
            ]
           ]
          },
          "colorway": [
           "#636efa",
           "#EF553B",
           "#00cc96",
           "#ab63fa",
           "#FFA15A",
           "#19d3f3",
           "#FF6692",
           "#B6E880",
           "#FF97FF",
           "#FECB52"
          ],
          "font": {
           "color": "#2a3f5f"
          },
          "geo": {
           "bgcolor": "white",
           "lakecolor": "white",
           "landcolor": "#E5ECF6",
           "showlakes": true,
           "showland": true,
           "subunitcolor": "white"
          },
          "hoverlabel": {
           "align": "left"
          },
          "hovermode": "closest",
          "mapbox": {
           "style": "light"
          },
          "paper_bgcolor": "white",
          "plot_bgcolor": "#E5ECF6",
          "polar": {
           "angularaxis": {
            "gridcolor": "white",
            "linecolor": "white",
            "ticks": ""
           },
           "bgcolor": "#E5ECF6",
           "radialaxis": {
            "gridcolor": "white",
            "linecolor": "white",
            "ticks": ""
           }
          },
          "scene": {
           "xaxis": {
            "backgroundcolor": "#E5ECF6",
            "gridcolor": "white",
            "gridwidth": 2,
            "linecolor": "white",
            "showbackground": true,
            "ticks": "",
            "zerolinecolor": "white"
           },
           "yaxis": {
            "backgroundcolor": "#E5ECF6",
            "gridcolor": "white",
            "gridwidth": 2,
            "linecolor": "white",
            "showbackground": true,
            "ticks": "",
            "zerolinecolor": "white"
           },
           "zaxis": {
            "backgroundcolor": "#E5ECF6",
            "gridcolor": "white",
            "gridwidth": 2,
            "linecolor": "white",
            "showbackground": true,
            "ticks": "",
            "zerolinecolor": "white"
           }
          },
          "shapedefaults": {
           "line": {
            "color": "#2a3f5f"
           }
          },
          "ternary": {
           "aaxis": {
            "gridcolor": "white",
            "linecolor": "white",
            "ticks": ""
           },
           "baxis": {
            "gridcolor": "white",
            "linecolor": "white",
            "ticks": ""
           },
           "bgcolor": "#E5ECF6",
           "caxis": {
            "gridcolor": "white",
            "linecolor": "white",
            "ticks": ""
           }
          },
          "title": {
           "x": 0.05
          },
          "xaxis": {
           "automargin": true,
           "gridcolor": "white",
           "linecolor": "white",
           "ticks": "",
           "title": {
            "standoff": 15
           },
           "zerolinecolor": "white",
           "zerolinewidth": 2
          },
          "yaxis": {
           "automargin": true,
           "gridcolor": "white",
           "linecolor": "white",
           "ticks": "",
           "title": {
            "standoff": 15
           },
           "zerolinecolor": "white",
           "zerolinewidth": 2
          }
         }
        },
        "xaxis": {
         "anchor": "y",
         "domain": [
          0,
          1
         ]
        },
        "yaxis": {
         "anchor": "x",
         "domain": [
          0,
          1
         ],
         "title": {
          "text": "Player_Age"
         }
        }
       }
      }
     },
     "metadata": {},
     "output_type": "display_data"
    }
   ],
   "source": [
    "fig = px.box(df, y='Player_Age')\n",
    "fig.show()"
   ]
  },
  {
   "cell_type": "markdown",
   "metadata": {},
   "source": [
    "### Peso"
   ]
  },
  {
   "cell_type": "code",
   "execution_count": 15,
   "metadata": {},
   "outputs": [
    {
     "data": {
      "text/plain": [
       "count    1000.000000\n",
       "mean       74.794351\n",
       "std         9.892621\n",
       "min        40.191912\n",
       "25%        67.944028\n",
       "50%        75.020569\n",
       "75%        81.302956\n",
       "max       104.650104\n",
       "Name: Player_Weight, dtype: float64"
      ]
     },
     "execution_count": 15,
     "metadata": {},
     "output_type": "execute_result"
    }
   ],
   "source": [
    "df['Player_Weight'].describe()"
   ]
  },
  {
   "cell_type": "code",
   "execution_count": 42,
   "metadata": {},
   "outputs": [
    {
     "data": {
      "application/vnd.plotly.v1+json": {
       "config": {
        "plotlyServerURL": "https://plot.ly"
       },
       "data": [
        {
         "alignmentgroup": "True",
         "hovertemplate": "Player_Weight=%{y}<extra></extra>",
         "legendgroup": "",
         "marker": {
          "color": "#636efa"
         },
         "name": "",
         "notched": false,
         "offsetgroup": "",
         "orientation": "v",
         "showlegend": false,
         "type": "box",
         "x0": " ",
         "xaxis": "x",
         "y": [
          66.25193286255299,
          70.99627126832448,
          80.09378116336106,
          87.47327055231725,
          84.6592200795959,
          75.82054871152798,
          70.12604976078852,
          79.03820558679305,
          64.08609562706529,
          66.82998560739105,
          90.09771312459624,
          79.02034480046922,
          71.52473266227045,
          83.29138684585268,
          87.86974963849593,
          70.5536244175436,
          70.72592057550524,
          69.47354226652995,
          84.63850318715362,
          84.73557447520125,
          88.85903321291099,
          85.08602949848836,
          58.67781920571481,
          77.80964320918198,
          64.41614597152947,
          69.87085625028584,
          76.70594203580863,
          83.35565398349904,
          66.09156657548922,
          51.75280338547599,
          76.80530841805431,
          101.43571583398553,
          72.97153780329847,
          75.46915434950259,
          92.8216361853608,
          80.90274619061788,
          77.16861036982938,
          79.42116665313473,
          77.50243932573649,
          63.602455718432935,
          61.58554842200303,
          93.86828112124238,
          76.83883351905158,
          76.00095442579698,
          74.09772335943791,
          82.81073267616452,
          100.38691101737489,
          80.23952667107794,
          69.11913173685447,
          73.66599142108456,
          85.70996467205255,
          69.17199398587002,
          83.52246489030269,
          51.7926262602187,
          72.70120428553614,
          81.28140013480669,
          87.70125546575716,
          66.81525782957608,
          59.97234982369396,
          72.39264835108182,
          63.74580992253111,
          73.5096333327047,
          74.93346545368763,
          61.80854954798055,
          83.04439110110866,
          73.42786106635549,
          85.8045986900535,
          56.55094759703906,
          64.82807829454609,
          80.16669308648123,
          67.00889429174735,
          73.35464341950303,
          75.00699117557174,
          76.58255980953368,
          68.22433787266293,
          76.49286563472478,
          67.1745629476552,
          81.74280468746775,
          73.85155980516977,
          76.55036623595518,
          100.69926839690334,
          63.92895545399978,
          88.88582269040288,
          48.40648642950627,
          54.21623345081057,
          62.59359922312429,
          63.22471634725064,
          77.0370179813885,
          77.89842264168468,
          72.45178731627635,
          73.50122033237538,
          80.2776476093166,
          83.33223877620742,
          61.73460983890241,
          71.38109028766996,
          74.30410177086989,
          79.85315996560453,
          67.27332857726529,
          74.1077882440633,
          75.29983634527157,
          67.9552989654047,
          67.71684850052114,
          75.98745777637335,
          73.69654854012792,
          80.00477519420632,
          64.46741279355004,
          71.49318472121213,
          72.70783948446407,
          83.13863908123605,
          65.59586225432098,
          77.34652005155087,
          77.52755507537887,
          91.46397242679971,
          64.92910635693738,
          68.42766681882506,
          65.62644317776679,
          58.302208279316,
          92.64686934262718,
          62.584987690508775,
          66.83694590945154,
          88.1576650828216,
          57.46892953061784,
          82.5635156928738,
          60.869756546582224,
          87.46694736529587,
          53.30122312959141,
          57.465305837493375,
          69.55077765041091,
          84.71822690172735,
          74.69041749363427,
          71.6428492711343,
          88.46044207464718,
          96.55239538433074,
          81.72257284413772,
          68.77145496898717,
          70.81856965990728,
          62.11552620242675,
          76.00817422254052,
          58.70407014023672,
          80.518636553095,
          95.05574045639952,
          82.1759157979305,
          70.30852279805066,
          80.2693741263179,
          91.20533445165876,
          90.7049463526114,
          64.9624210843663,
          80.10296389582324,
          73.41898509929801,
          83.06593247913686,
          78.83613953816771,
          51.30278590515552,
          71.5198691370316,
          76.98558362896291,
          60.65635032841154,
          80.81022009865985,
          59.7598475827297,
          67.01560952582946,
          88.41311919700135,
          66.16222211135731,
          80.73966959201675,
          57.464262820913135,
          95.81314656765142,
          71.95446361512742,
          75.95320806947718,
          76.79036796548965,
          81.07566864331359,
          59.80820017013823,
          74.94663529163337,
          68.41231174218643,
          58.1044277392173,
          84.8712220012871,
          71.4782701640041,
          77.4252042561252,
          76.7984541872806,
          71.65147727623886,
          94.75027353630782,
          74.52735347370991,
          59.42047682323332,
          70.99618639816683,
          79.9973762011211,
          80.32595109370551,
          64.12219064738238,
          84.2948250734477,
          57.3713307112896,
          86.44135202616418,
          61.80652110862594,
          72.73754780991324,
          85.645686780267,
          76.1960566888707,
          83.1669851771357,
          81.18661959709932,
          87.86268613404602,
          85.62209850913712,
          70.46255691463558,
          81.32941633793465,
          59.73448138302253,
          74.42095092662215,
          83.1848473463854,
          76.33847654246,
          79.46639731517085,
          72.86727624034208,
          86.29069437535142,
          74.19584226291008,
          70.34549817595946,
          83.86517412569054,
          60.9484007763554,
          80.01033343517345,
          64.5751512577286,
          87.77926829238166,
          72.38972746753204,
          76.34984720819689,
          79.12570396644122,
          55.70315403685842,
          68.49415158443144,
          85.43545909286553,
          83.67765024170889,
          77.83032205395216,
          61.50536428574476,
          80.8550346085858,
          82.13399590205445,
          75.47017213123745,
          87.23170950591458,
          68.16568209869877,
          69.90142422500026,
          50.15388420914185,
          84.19827510147664,
          78.13861963470134,
          58.18179674866771,
          57.414010000058525,
          66.27369372628989,
          82.93657941980354,
          71.99639511911371,
          66.95213083339675,
          64.93884106916504,
          64.49088042171813,
          55.6632169889244,
          62.926041683536255,
          64.29421920322832,
          81.82623236457147,
          73.34276946853385,
          66.74415156982539,
          98.09722755406187,
          68.36103086453335,
          86.67102914383636,
          91.21108557787716,
          59.30039662342657,
          75.73962964073569,
          69.82466349091776,
          69.01075603440664,
          80.55376816806908,
          68.77129503576717,
          70.0403095367353,
          73.31885104374706,
          71.26600731623431,
          63.26429792987875,
          82.95906504847474,
          85.48530938507601,
          78.43618589535217,
          71.23447348977734,
          67.94789263670219,
          67.96379937073554,
          98.57376365032708,
          84.37838301566644,
          66.59889921416662,
          76.6469782743714,
          71.37464974900638,
          80.8380037615629,
          80.43499102789342,
          85.83609653905471,
          66.49443541337804,
          76.0473529863813,
          57.51453015042473,
          62.42659699571156,
          83.84100836559179,
          65.49316208594674,
          66.59091201952145,
          74.9172192544995,
          81.9476103084654,
          64.39173204165904,
          40.19191171239916,
          66.29776757856489,
          87.05628077952838,
          78.43135051016874,
          88.23874803787213,
          63.681838578673045,
          58.60603732335944,
          79.6254855264754,
          77.40022737685047,
          78.05554320377259,
          84.32996642650568,
          79.2168492391226,
          79.05617593140379,
          82.1500701380114,
          80.02416632187027,
          83.57445931717406,
          85.08520824778581,
          90.31688801240917,
          68.5080867509632,
          79.80562107410748,
          71.29676631402704,
          66.66441012720733,
          68.10459678919634,
          79.94955517561526,
          79.18252554786001,
          79.00412029238437,
          72.74286352430667,
          75.0341475117841,
          83.1775269587605,
          60.106069403506936,
          75.24642098428585,
          75.8995614812679,
          82.5330426907765,
          61.49751588057175,
          89.95133745517411,
          77.1363042442851,
          77.66580546694937,
          70.98620242667774,
          80.38022354796844,
          75.47954050283106,
          87.08981944106466,
          60.58505751936384,
          76.75545829890508,
          79.08512348377427,
          73.13627605636908,
          70.95334176692954,
          71.37042721031293,
          76.74639269367827,
          56.90041099019294,
          84.6501496106323,
          70.1986813230415,
          76.27802697366782,
          78.67102266788068,
          69.74194612687043,
          73.68961593001004,
          54.64759759374496,
          82.32123607333072,
          85.80069000322165,
          57.99006448061246,
          70.93507123303738,
          62.701306217591856,
          73.22259678512594,
          81.4863633472096,
          84.87308899256625,
          86.21853189426848,
          88.10543824692213,
          72.77587221544434,
          63.530413712665606,
          73.85409699692032,
          81.33267502303576,
          62.72740219079142,
          91.60136953448242,
          83.97888538760341,
          72.93432831568671,
          67.89128069588759,
          68.30878918887358,
          75.74206213800156,
          72.70597397269648,
          84.50502755282625,
          71.57024171697371,
          80.05501810611491,
          74.7107511582513,
          77.6966935739707,
          72.69943564403617,
          82.07715541249621,
          82.22540080290077,
          79.59929025822144,
          81.07514327149505,
          65.55631222456947,
          78.2324576290898,
          87.49201767487534,
          79.91404567019498,
          64.69282497198476,
          74.50233490350915,
          78.74977938339708,
          67.42600483101691,
          61.41728803276647,
          71.83902131563472,
          67.59167592032297,
          74.85710968610032,
          59.08595352503711,
          80.64701062536156,
          68.65394964706643,
          84.95752236681356,
          72.23101160203622,
          74.74610953615513,
          73.26965121303083,
          68.11840309899728,
          99.7227946227266,
          70.04133821992716,
          85.2352152246566,
          64.06371053936604,
          78.72131391093161,
          79.78872163931835,
          74.75823022901871,
          69.28995280360427,
          72.36678097386036,
          70.9671049802688,
          99.02026281835457,
          74.7739691055518,
          80.2488877866395,
          92.81625090425368,
          66.2368133202582,
          75.37660233167938,
          72.30813868318612,
          74.13861554516636,
          73.20988032882515,
          67.68122914369783,
          76.95410284996633,
          64.37367222583899,
          84.88882737309018,
          81.23309806654603,
          70.06537183635984,
          70.5501667862614,
          77.75510562348254,
          67.01454684393818,
          93.11980124134872,
          78.57925728691768,
          78.93263151383678,
          81.81445080357285,
          69.2053672592993,
          85.89009981784774,
          76.14533366215464,
          84.50145470998832,
          73.0204687343167,
          88.17278226731186,
          79.0134362702479,
          96.82507024177087,
          71.3047838317777,
          77.04549396090745,
          64.68423753129842,
          69.7070176245378,
          81.18686547847906,
          86.293244375395,
          104.6501035172072,
          74.0337109337678,
          65.66786592354403,
          82.53325760377241,
          63.72172779498694,
          80.64277388026736,
          69.97744283805876,
          77.11594970380393,
          85.91046102164667,
          73.89266570919304,
          84.32879084328621,
          83.73158548619149,
          56.35668471690906,
          65.98399253964428,
          59.38193138604528,
          95.01737102530136,
          73.94608074562673,
          92.80829212966644,
          58.670477194580165,
          69.27231575451474,
          83.00498241765973,
          76.79274604426683,
          80.32859892813458,
          62.46191766206743,
          88.76803492878929,
          82.77016095757288,
          79.01625505491474,
          68.14389718918193,
          78.23800127605945,
          72.0851002100651,
          58.49508789962238,
          74.49577148278512,
          73.43269601777475,
          85.6240150987512,
          52.65573557685798,
          77.35199828854701,
          63.44431951894283,
          78.19223342195546,
          78.74280055577306,
          74.13155222869808,
          83.07293124811085,
          62.542339409003006,
          86.07720450281701,
          67.91921133805859,
          59.441013495101046,
          72.2760402950019,
          54.04842477320015,
          77.54173892246202,
          72.40749557419774,
          87.33686921376037,
          81.48924210506996,
          61.0800366281199,
          66.61612508882115,
          80.20664420534209,
          83.47079009985035,
          87.2250091488688,
          87.14509285305348,
          74.10477389752094,
          78.6265562225117,
          87.98738503943797,
          71.96691538064051,
          78.79726186940124,
          71.73119220320348,
          69.49051885534573,
          75.48385118285803,
          68.12456548660408,
          73.69084027230251,
          64.65045135467867,
          73.1000561281762,
          79.48390293615861,
          69.11236463793205,
          75.09291752530913,
          76.39342593621264,
          79.52534891821335,
          73.66420158694784,
          85.85866341867806,
          53.990811385480825,
          104.37752847167772,
          66.28866235962484,
          79.03390023354078,
          65.61532089794152,
          81.44268159509302,
          77.76569152594928,
          68.4928646265491,
          85.73087345410313,
          73.36039120398078,
          80.47215938057003,
          65.82840194803964,
          74.6911236442842,
          95.03407267182104,
          84.6296552911413,
          78.07620755451052,
          70.51079172390205,
          75.67498535875009,
          76.97565990172382,
          79.49228434919745,
          64.23339491822334,
          81.68407960942365,
          64.10406901705348,
          91.31125852281872,
          67.28371677583121,
          77.96628319676175,
          85.05142573278017,
          72.4761995653555,
          78.40600019099858,
          89.35181549190051,
          80.64402987893266,
          78.55550629674353,
          58.15214605179538,
          65.66277747259777,
          85.46920127650012,
          80.69950305341382,
          82.21466273785074,
          81.35396932214897,
          87.89756528375374,
          72.38600075044877,
          76.20499958789301,
          64.71325666870916,
          62.21977416563624,
          58.56259284411942,
          66.14836501000153,
          90.52561815489642,
          59.47272932183962,
          71.96464014422803,
          62.06854676353842,
          68.99026036996639,
          76.6969379235202,
          67.99884126794991,
          85.89664865016461,
          90.33978120849568,
          52.50904271944061,
          68.17007669648878,
          75.59142122272422,
          86.2611702601538,
          70.45755724846738,
          74.8006460475419,
          63.43255774948052,
          59.67204147737655,
          89.45384689582934,
          56.75930126107063,
          98.28619008421566,
          82.25151399381741,
          81.79973075516756,
          80.7546866749443,
          72.47314311999037,
          78.9208452970087,
          73.11103312215525,
          80.5307327644048,
          74.66313473091284,
          65.49651816898265,
          66.29427383738243,
          65.15727624707496,
          84.7090073193431,
          68.82553387540902,
          55.8789683891514,
          78.96838665848806,
          90.14517562589582,
          82.73083189177527,
          68.96676434778288,
          59.13188284404911,
          73.6573189664249,
          73.40776121903289,
          65.30800389686235,
          80.51037302242537,
          93.46626500830472,
          77.22282717458285,
          76.60476206998845,
          65.62771951166178,
          88.97414703060372,
          74.24855833189983,
          69.21036744805829,
          75.63688393651616,
          79.7196133324661,
          76.39215408644903,
          87.06153395670592,
          78.83971552546862,
          72.16058189117466,
          79.0119221632689,
          79.99637101125957,
          62.03624080736158,
          86.49419728263715,
          71.99095980638641,
          72.2467677649457,
          82.51375987075946,
          82.47165224259581,
          67.99168321133914,
          83.02901618145685,
          69.39551848510476,
          93.19573046698656,
          66.71806018734236,
          77.39477461705897,
          67.17982363092392,
          97.22695629135076,
          62.62179055912884,
          80.24362747252911,
          67.650895855222,
          71.45892358552013,
          79.53537833745176,
          87.24584437626143,
          91.23396562299044,
          59.6305203997368,
          77.67751224364463,
          89.59493603383521,
          58.1468906123806,
          78.14383494054847,
          74.97916202579816,
          79.14541814379788,
          67.27695974673524,
          60.6438117178656,
          55.86893574820975,
          84.76383953462103,
          86.04049136483354,
          78.02685348995986,
          69.65851650311903,
          58.769541065342544,
          80.63345462505023,
          63.992207171633154,
          67.88701375239462,
          69.13435920437281,
          73.02464774303031,
          67.40959552791352,
          75.33458770992303,
          68.7818169949361,
          82.01373064839223,
          85.31062913988053,
          76.08542676028438,
          79.62626335381103,
          96.1785594962589,
          63.27396743138684,
          62.665318987198944,
          81.94997900776875,
          94.46542837514764,
          72.39501438061278,
          92.2683384221876,
          75.9643371879349,
          68.19112717960918,
          65.09307611362297,
          81.29413584886788,
          65.85040932217304,
          75.81276842767028,
          90.83465025384092,
          71.9321960712863,
          88.14009474643899,
          62.85456510273593,
          69.660908986832,
          60.92855973785083,
          75.72996755973358,
          82.80078179716583,
          75.75187087606186,
          87.27050059970152,
          67.5082075937087,
          77.25342753689067,
          69.72530676386144,
          78.61676585423655,
          80.03736046212425,
          80.82395959984063,
          64.29405661764397,
          66.10253898213432,
          67.95712291808812,
          72.61119252133403,
          75.8718640420643,
          82.08089121856676,
          66.51901300660768,
          58.98980702298248,
          96.5574316320679,
          63.6854697934757,
          83.36323722995552,
          75.31266877248675,
          77.5130564080638,
          74.98449494164097,
          71.15158118052875,
          79.63972282923459,
          70.61412793742704,
          86.6630274723679,
          80.68441006256154,
          80.99594113281493,
          69.9287693994341,
          72.63645262911004,
          63.12087191357935,
          71.46983943274438,
          64.63424083643703,
          88.13068515588715,
          75.50535815594006,
          76.7049723504043,
          72.74853472649978,
          76.97578922051407,
          99.64877635857684,
          71.99859715607509,
          68.49586965290007,
          80.29693132905443,
          49.74281366397512,
          75.63956786910933,
          71.28287096707099,
          65.07686733963905,
          80.077576703115,
          75.53988418445793,
          56.97591092505783,
          68.53470478807563,
          46.11728794807276,
          77.93269314133504,
          77.83299418440157,
          67.06718106166326,
          80.40112711683126,
          62.17501378878477,
          65.33482974065006,
          79.17190464382564,
          68.11333245037056,
          74.37343043797556,
          69.36350972573658,
          70.89068843700815,
          71.32775784045008,
          67.93243242781823,
          78.02449714360124,
          68.72071513246051,
          75.15686713795603,
          67.71268318625597,
          59.65701373615541,
          84.12435249259167,
          79.99526985095409,
          97.88682068797672,
          64.56027160001742,
          72.91039512667969,
          73.71492519144194,
          84.89369438282131,
          69.92892105867392,
          63.28958145824146,
          87.07809308461002,
          71.83349970738772,
          83.78643509726044,
          82.62198400792211,
          74.701095260977,
          73.25686294965251,
          71.08435193670195,
          74.8480687123001,
          83.63100226170631,
          67.03559818940421,
          76.0884563020912,
          63.813685718011925,
          65.05893766957807,
          74.69061002844376,
          55.39841991706168,
          95.60558616616052,
          63.06940045089764,
          74.59911487343446,
          86.68217721816865,
          66.37094661249502,
          51.973030104552834,
          70.55054239875328,
          66.25179619923881,
          52.23626491407998,
          77.84889892572198,
          77.07093862232952,
          86.42326454538352,
          63.791776344796126,
          59.00863513552987,
          70.93276916953417,
          74.11657340990905,
          84.21349602986496,
          89.10568005005159,
          87.14479133907346,
          77.76543666892667,
          82.99499253504148,
          68.59506565230816,
          76.68395192475246,
          63.08709860712194,
          75.62685396886873,
          75.88646697398012,
          92.22128605684968,
          72.71017138509754,
          75.90042837653286,
          77.36961415712042,
          70.45179684111547,
          66.97507266788352,
          87.98811324847053,
          65.19082557039702,
          61.72081928312727,
          81.8026537929548,
          86.5781484202401,
          70.4859034239936,
          70.6394651235012,
          77.82543526106794,
          67.92147323256816,
          67.18287479388032,
          83.79592587986366,
          81.07131100783619,
          88.11158886318105,
          62.47410987634504,
          69.97537513089384,
          77.81179562269453,
          65.74379150225633,
          81.4168743715465,
          87.24627087226332,
          69.16642027772652,
          75.38591940227033,
          89.55618690081117,
          92.99271575019,
          82.45801251060404,
          80.93429173193609,
          66.46263465315089,
          78.59209400457841,
          80.56820840774998,
          72.89629841438955,
          69.05223745444337,
          62.18702326523145,
          57.62270244948708,
          55.52116486678837,
          80.79442572867262,
          76.47699325226777,
          70.16188868458903,
          71.6854370227536,
          77.10470541530485,
          73.35436928991406,
          61.59446819996172,
          84.130002202743,
          78.0412617066981,
          77.65898479813848,
          83.37562703358373,
          66.86354643940325,
          87.13731437725842,
          73.59957148057762,
          83.88598880330875,
          82.34449033487655,
          64.61198171997444,
          80.02900404914136,
          78.26274670846685,
          75.30311657494342,
          74.05628249964619,
          74.14106750282208,
          83.12689425643995,
          80.7791051379151,
          75.30478850265665,
          60.080638535286255,
          79.94443414083618,
          82.23613619177779,
          98.0041008544697,
          85.75433063105038,
          56.008236120845325,
          75.78429399018643,
          93.11375028664982,
          81.23548856901637,
          78.2865216037321,
          84.00228658915236,
          68.77621805009197,
          79.78089996627456,
          72.4953196100809,
          74.80376514189525,
          83.28454515695107,
          65.73286897507819,
          87.87982473801938,
          70.77188038914457,
          77.60662833150407,
          60.99492039725057,
          82.1983729087139,
          89.46503935946578,
          69.85358450781852,
          63.897766134904,
          77.77983064742709,
          89.54810644991743,
          60.501434345190944,
          63.93691818771658,
          70.45810441688484,
          66.79656175469304,
          66.82814533391004,
          54.05879372336223,
          80.89056947405868,
          78.38720502869636,
          58.01150800196355,
          89.57195759956247,
          91.81092314930488,
          67.49094450219886,
          86.66548590977006,
          69.27002195009054,
          76.8111651021106,
          66.64237864979091,
          97.14251523462276,
          72.03982772670102,
          76.26449022823462,
          68.12062612536172,
          93.61315597236394,
          93.8661464608941,
          91.3092918126294,
          84.56440348347621,
          68.75210453065948,
          83.27850095962418,
          74.92957201075265,
          88.12408621742632,
          86.15902053365362,
          68.50734421924075,
          84.47825802837217,
          81.82034450043926,
          47.26437137086552,
          83.00936639629462,
          70.68204211359794,
          66.13957545668326,
          66.56739395706258,
          73.64757104367969,
          79.80059580086683,
          61.3453797780782,
          76.89847836212465,
          80.76758066193072,
          93.61805783669632,
          64.2330983077487,
          71.50387813222196,
          77.61662972696479,
          86.47409330191606,
          71.95776118828186,
          86.98641371991052,
          55.626376835235405,
          62.46651806878114,
          78.48644344334221,
          60.89175501912125,
          63.25529473233283,
          69.72223135754061,
          82.71438991915824,
          56.04035158692711,
          76.70298362162394,
          85.32963947152805,
          73.05054791571041,
          71.3116977040746,
          79.01771282558573,
          73.0788894727856,
          88.90499781240747,
          63.88586987865565,
          74.48355844834916,
          77.05686374960685,
          71.2154594815354,
          46.287173370425386,
          73.39095091950807,
          84.00176986912466,
          82.78109186126018,
          78.547784821702,
          64.02137641650776,
          78.95309462458484,
          69.26562178457762,
          78.53482905948667,
          76.21505011401716,
          65.23624728716628,
          66.07544160643096,
          78.55022454421517,
          72.78886904711499,
          66.59718569342871,
          65.77169810273168,
          71.96169152013785,
          90.6810479471821,
          69.73921967788041,
          74.85980461742412,
          76.0164428768951,
          63.68973608508057,
          57.37167516157305,
          64.7335926526427,
          77.47077377806303,
          75.8733105791541,
          82.02406569151066,
          75.96749894959116,
          73.90450708530797,
          68.95987725074873,
          83.84606789862693,
          65.80819861279284,
          63.89600482703979,
          80.67055517388103,
          61.66842689346345,
          99.14790998658631,
          75.79993380559144,
          78.47906116324886,
          66.91580175476614,
          71.84735155758453
         ],
         "y0": " ",
         "yaxis": "y"
        }
       ],
       "layout": {
        "boxmode": "group",
        "legend": {
         "tracegroupgap": 0
        },
        "margin": {
         "t": 60
        },
        "template": {
         "data": {
          "bar": [
           {
            "error_x": {
             "color": "#2a3f5f"
            },
            "error_y": {
             "color": "#2a3f5f"
            },
            "marker": {
             "line": {
              "color": "#E5ECF6",
              "width": 0.5
             },
             "pattern": {
              "fillmode": "overlay",
              "size": 10,
              "solidity": 0.2
             }
            },
            "type": "bar"
           }
          ],
          "barpolar": [
           {
            "marker": {
             "line": {
              "color": "#E5ECF6",
              "width": 0.5
             },
             "pattern": {
              "fillmode": "overlay",
              "size": 10,
              "solidity": 0.2
             }
            },
            "type": "barpolar"
           }
          ],
          "carpet": [
           {
            "aaxis": {
             "endlinecolor": "#2a3f5f",
             "gridcolor": "white",
             "linecolor": "white",
             "minorgridcolor": "white",
             "startlinecolor": "#2a3f5f"
            },
            "baxis": {
             "endlinecolor": "#2a3f5f",
             "gridcolor": "white",
             "linecolor": "white",
             "minorgridcolor": "white",
             "startlinecolor": "#2a3f5f"
            },
            "type": "carpet"
           }
          ],
          "choropleth": [
           {
            "colorbar": {
             "outlinewidth": 0,
             "ticks": ""
            },
            "type": "choropleth"
           }
          ],
          "contour": [
           {
            "colorbar": {
             "outlinewidth": 0,
             "ticks": ""
            },
            "colorscale": [
             [
              0,
              "#0d0887"
             ],
             [
              0.1111111111111111,
              "#46039f"
             ],
             [
              0.2222222222222222,
              "#7201a8"
             ],
             [
              0.3333333333333333,
              "#9c179e"
             ],
             [
              0.4444444444444444,
              "#bd3786"
             ],
             [
              0.5555555555555556,
              "#d8576b"
             ],
             [
              0.6666666666666666,
              "#ed7953"
             ],
             [
              0.7777777777777778,
              "#fb9f3a"
             ],
             [
              0.8888888888888888,
              "#fdca26"
             ],
             [
              1,
              "#f0f921"
             ]
            ],
            "type": "contour"
           }
          ],
          "contourcarpet": [
           {
            "colorbar": {
             "outlinewidth": 0,
             "ticks": ""
            },
            "type": "contourcarpet"
           }
          ],
          "heatmap": [
           {
            "colorbar": {
             "outlinewidth": 0,
             "ticks": ""
            },
            "colorscale": [
             [
              0,
              "#0d0887"
             ],
             [
              0.1111111111111111,
              "#46039f"
             ],
             [
              0.2222222222222222,
              "#7201a8"
             ],
             [
              0.3333333333333333,
              "#9c179e"
             ],
             [
              0.4444444444444444,
              "#bd3786"
             ],
             [
              0.5555555555555556,
              "#d8576b"
             ],
             [
              0.6666666666666666,
              "#ed7953"
             ],
             [
              0.7777777777777778,
              "#fb9f3a"
             ],
             [
              0.8888888888888888,
              "#fdca26"
             ],
             [
              1,
              "#f0f921"
             ]
            ],
            "type": "heatmap"
           }
          ],
          "heatmapgl": [
           {
            "colorbar": {
             "outlinewidth": 0,
             "ticks": ""
            },
            "colorscale": [
             [
              0,
              "#0d0887"
             ],
             [
              0.1111111111111111,
              "#46039f"
             ],
             [
              0.2222222222222222,
              "#7201a8"
             ],
             [
              0.3333333333333333,
              "#9c179e"
             ],
             [
              0.4444444444444444,
              "#bd3786"
             ],
             [
              0.5555555555555556,
              "#d8576b"
             ],
             [
              0.6666666666666666,
              "#ed7953"
             ],
             [
              0.7777777777777778,
              "#fb9f3a"
             ],
             [
              0.8888888888888888,
              "#fdca26"
             ],
             [
              1,
              "#f0f921"
             ]
            ],
            "type": "heatmapgl"
           }
          ],
          "histogram": [
           {
            "marker": {
             "pattern": {
              "fillmode": "overlay",
              "size": 10,
              "solidity": 0.2
             }
            },
            "type": "histogram"
           }
          ],
          "histogram2d": [
           {
            "colorbar": {
             "outlinewidth": 0,
             "ticks": ""
            },
            "colorscale": [
             [
              0,
              "#0d0887"
             ],
             [
              0.1111111111111111,
              "#46039f"
             ],
             [
              0.2222222222222222,
              "#7201a8"
             ],
             [
              0.3333333333333333,
              "#9c179e"
             ],
             [
              0.4444444444444444,
              "#bd3786"
             ],
             [
              0.5555555555555556,
              "#d8576b"
             ],
             [
              0.6666666666666666,
              "#ed7953"
             ],
             [
              0.7777777777777778,
              "#fb9f3a"
             ],
             [
              0.8888888888888888,
              "#fdca26"
             ],
             [
              1,
              "#f0f921"
             ]
            ],
            "type": "histogram2d"
           }
          ],
          "histogram2dcontour": [
           {
            "colorbar": {
             "outlinewidth": 0,
             "ticks": ""
            },
            "colorscale": [
             [
              0,
              "#0d0887"
             ],
             [
              0.1111111111111111,
              "#46039f"
             ],
             [
              0.2222222222222222,
              "#7201a8"
             ],
             [
              0.3333333333333333,
              "#9c179e"
             ],
             [
              0.4444444444444444,
              "#bd3786"
             ],
             [
              0.5555555555555556,
              "#d8576b"
             ],
             [
              0.6666666666666666,
              "#ed7953"
             ],
             [
              0.7777777777777778,
              "#fb9f3a"
             ],
             [
              0.8888888888888888,
              "#fdca26"
             ],
             [
              1,
              "#f0f921"
             ]
            ],
            "type": "histogram2dcontour"
           }
          ],
          "mesh3d": [
           {
            "colorbar": {
             "outlinewidth": 0,
             "ticks": ""
            },
            "type": "mesh3d"
           }
          ],
          "parcoords": [
           {
            "line": {
             "colorbar": {
              "outlinewidth": 0,
              "ticks": ""
             }
            },
            "type": "parcoords"
           }
          ],
          "pie": [
           {
            "automargin": true,
            "type": "pie"
           }
          ],
          "scatter": [
           {
            "fillpattern": {
             "fillmode": "overlay",
             "size": 10,
             "solidity": 0.2
            },
            "type": "scatter"
           }
          ],
          "scatter3d": [
           {
            "line": {
             "colorbar": {
              "outlinewidth": 0,
              "ticks": ""
             }
            },
            "marker": {
             "colorbar": {
              "outlinewidth": 0,
              "ticks": ""
             }
            },
            "type": "scatter3d"
           }
          ],
          "scattercarpet": [
           {
            "marker": {
             "colorbar": {
              "outlinewidth": 0,
              "ticks": ""
             }
            },
            "type": "scattercarpet"
           }
          ],
          "scattergeo": [
           {
            "marker": {
             "colorbar": {
              "outlinewidth": 0,
              "ticks": ""
             }
            },
            "type": "scattergeo"
           }
          ],
          "scattergl": [
           {
            "marker": {
             "colorbar": {
              "outlinewidth": 0,
              "ticks": ""
             }
            },
            "type": "scattergl"
           }
          ],
          "scattermapbox": [
           {
            "marker": {
             "colorbar": {
              "outlinewidth": 0,
              "ticks": ""
             }
            },
            "type": "scattermapbox"
           }
          ],
          "scatterpolar": [
           {
            "marker": {
             "colorbar": {
              "outlinewidth": 0,
              "ticks": ""
             }
            },
            "type": "scatterpolar"
           }
          ],
          "scatterpolargl": [
           {
            "marker": {
             "colorbar": {
              "outlinewidth": 0,
              "ticks": ""
             }
            },
            "type": "scatterpolargl"
           }
          ],
          "scatterternary": [
           {
            "marker": {
             "colorbar": {
              "outlinewidth": 0,
              "ticks": ""
             }
            },
            "type": "scatterternary"
           }
          ],
          "surface": [
           {
            "colorbar": {
             "outlinewidth": 0,
             "ticks": ""
            },
            "colorscale": [
             [
              0,
              "#0d0887"
             ],
             [
              0.1111111111111111,
              "#46039f"
             ],
             [
              0.2222222222222222,
              "#7201a8"
             ],
             [
              0.3333333333333333,
              "#9c179e"
             ],
             [
              0.4444444444444444,
              "#bd3786"
             ],
             [
              0.5555555555555556,
              "#d8576b"
             ],
             [
              0.6666666666666666,
              "#ed7953"
             ],
             [
              0.7777777777777778,
              "#fb9f3a"
             ],
             [
              0.8888888888888888,
              "#fdca26"
             ],
             [
              1,
              "#f0f921"
             ]
            ],
            "type": "surface"
           }
          ],
          "table": [
           {
            "cells": {
             "fill": {
              "color": "#EBF0F8"
             },
             "line": {
              "color": "white"
             }
            },
            "header": {
             "fill": {
              "color": "#C8D4E3"
             },
             "line": {
              "color": "white"
             }
            },
            "type": "table"
           }
          ]
         },
         "layout": {
          "annotationdefaults": {
           "arrowcolor": "#2a3f5f",
           "arrowhead": 0,
           "arrowwidth": 1
          },
          "autotypenumbers": "strict",
          "coloraxis": {
           "colorbar": {
            "outlinewidth": 0,
            "ticks": ""
           }
          },
          "colorscale": {
           "diverging": [
            [
             0,
             "#8e0152"
            ],
            [
             0.1,
             "#c51b7d"
            ],
            [
             0.2,
             "#de77ae"
            ],
            [
             0.3,
             "#f1b6da"
            ],
            [
             0.4,
             "#fde0ef"
            ],
            [
             0.5,
             "#f7f7f7"
            ],
            [
             0.6,
             "#e6f5d0"
            ],
            [
             0.7,
             "#b8e186"
            ],
            [
             0.8,
             "#7fbc41"
            ],
            [
             0.9,
             "#4d9221"
            ],
            [
             1,
             "#276419"
            ]
           ],
           "sequential": [
            [
             0,
             "#0d0887"
            ],
            [
             0.1111111111111111,
             "#46039f"
            ],
            [
             0.2222222222222222,
             "#7201a8"
            ],
            [
             0.3333333333333333,
             "#9c179e"
            ],
            [
             0.4444444444444444,
             "#bd3786"
            ],
            [
             0.5555555555555556,
             "#d8576b"
            ],
            [
             0.6666666666666666,
             "#ed7953"
            ],
            [
             0.7777777777777778,
             "#fb9f3a"
            ],
            [
             0.8888888888888888,
             "#fdca26"
            ],
            [
             1,
             "#f0f921"
            ]
           ],
           "sequentialminus": [
            [
             0,
             "#0d0887"
            ],
            [
             0.1111111111111111,
             "#46039f"
            ],
            [
             0.2222222222222222,
             "#7201a8"
            ],
            [
             0.3333333333333333,
             "#9c179e"
            ],
            [
             0.4444444444444444,
             "#bd3786"
            ],
            [
             0.5555555555555556,
             "#d8576b"
            ],
            [
             0.6666666666666666,
             "#ed7953"
            ],
            [
             0.7777777777777778,
             "#fb9f3a"
            ],
            [
             0.8888888888888888,
             "#fdca26"
            ],
            [
             1,
             "#f0f921"
            ]
           ]
          },
          "colorway": [
           "#636efa",
           "#EF553B",
           "#00cc96",
           "#ab63fa",
           "#FFA15A",
           "#19d3f3",
           "#FF6692",
           "#B6E880",
           "#FF97FF",
           "#FECB52"
          ],
          "font": {
           "color": "#2a3f5f"
          },
          "geo": {
           "bgcolor": "white",
           "lakecolor": "white",
           "landcolor": "#E5ECF6",
           "showlakes": true,
           "showland": true,
           "subunitcolor": "white"
          },
          "hoverlabel": {
           "align": "left"
          },
          "hovermode": "closest",
          "mapbox": {
           "style": "light"
          },
          "paper_bgcolor": "white",
          "plot_bgcolor": "#E5ECF6",
          "polar": {
           "angularaxis": {
            "gridcolor": "white",
            "linecolor": "white",
            "ticks": ""
           },
           "bgcolor": "#E5ECF6",
           "radialaxis": {
            "gridcolor": "white",
            "linecolor": "white",
            "ticks": ""
           }
          },
          "scene": {
           "xaxis": {
            "backgroundcolor": "#E5ECF6",
            "gridcolor": "white",
            "gridwidth": 2,
            "linecolor": "white",
            "showbackground": true,
            "ticks": "",
            "zerolinecolor": "white"
           },
           "yaxis": {
            "backgroundcolor": "#E5ECF6",
            "gridcolor": "white",
            "gridwidth": 2,
            "linecolor": "white",
            "showbackground": true,
            "ticks": "",
            "zerolinecolor": "white"
           },
           "zaxis": {
            "backgroundcolor": "#E5ECF6",
            "gridcolor": "white",
            "gridwidth": 2,
            "linecolor": "white",
            "showbackground": true,
            "ticks": "",
            "zerolinecolor": "white"
           }
          },
          "shapedefaults": {
           "line": {
            "color": "#2a3f5f"
           }
          },
          "ternary": {
           "aaxis": {
            "gridcolor": "white",
            "linecolor": "white",
            "ticks": ""
           },
           "baxis": {
            "gridcolor": "white",
            "linecolor": "white",
            "ticks": ""
           },
           "bgcolor": "#E5ECF6",
           "caxis": {
            "gridcolor": "white",
            "linecolor": "white",
            "ticks": ""
           }
          },
          "title": {
           "x": 0.05
          },
          "xaxis": {
           "automargin": true,
           "gridcolor": "white",
           "linecolor": "white",
           "ticks": "",
           "title": {
            "standoff": 15
           },
           "zerolinecolor": "white",
           "zerolinewidth": 2
          },
          "yaxis": {
           "automargin": true,
           "gridcolor": "white",
           "linecolor": "white",
           "ticks": "",
           "title": {
            "standoff": 15
           },
           "zerolinecolor": "white",
           "zerolinewidth": 2
          }
         }
        },
        "xaxis": {
         "anchor": "y",
         "domain": [
          0,
          1
         ]
        },
        "yaxis": {
         "anchor": "x",
         "domain": [
          0,
          1
         ],
         "title": {
          "text": "Player_Weight"
         }
        }
       }
      }
     },
     "metadata": {},
     "output_type": "display_data"
    }
   ],
   "source": [
    "fig = px.box(df, y='Player_Weight')\n",
    "fig.show()"
   ]
  },
  {
   "cell_type": "markdown",
   "metadata": {},
   "source": [
    "### Altura"
   ]
  },
  {
   "cell_type": "code",
   "execution_count": 40,
   "metadata": {},
   "outputs": [
    {
     "data": {
      "text/plain": [
       "count    1000.000000\n",
       "mean      179.750948\n",
       "std         9.888921\n",
       "min       145.285701\n",
       "25%       173.036976\n",
       "50%       180.034436\n",
       "75%       186.557913\n",
       "max       207.308672\n",
       "Name: Player_Height, dtype: float64"
      ]
     },
     "execution_count": 40,
     "metadata": {},
     "output_type": "execute_result"
    }
   ],
   "source": [
    "df['Player_Height'].describe()"
   ]
  },
  {
   "cell_type": "code",
   "execution_count": 41,
   "metadata": {},
   "outputs": [
    {
     "data": {
      "application/vnd.plotly.v1+json": {
       "config": {
        "plotlyServerURL": "https://plot.ly"
       },
       "data": [
        {
         "alignmentgroup": "True",
         "hovertemplate": "Player_Height=%{y}<extra></extra>",
         "legendgroup": "",
         "marker": {
          "color": "#636efa"
         },
         "name": "",
         "notched": false,
         "offsetgroup": "",
         "orientation": "v",
         "showlegend": false,
         "type": "box",
         "x0": " ",
         "xaxis": "x",
         "y": [
          175.73242883117646,
          174.58165012331358,
          186.32961751509828,
          175.50423961774715,
          190.1750122908418,
          206.63182350119823,
          177.04458759853452,
          181.52315513576625,
          183.79482057165507,
          198.1150481259352,
          179.17352214961812,
          171.70983080341637,
          167.33659494374297,
          179.42016052567766,
          175.51619780946118,
          200.100092893,
          197.6986242067697,
          169.656271720764,
          172.8923989645082,
          180.73770107886887,
          193.9722642255876,
          180.5701313637105,
          173.52759362011955,
          179.41118190097276,
          173.71515136103957,
          186.0247720943948,
          172.90966288335295,
          174.89563947573032,
          191.61933813456096,
          172.31635052685928,
          165.53871967439838,
          180.94993751356304,
          176.39526595795405,
          185.11415500929957,
          183.1747193473109,
          179.6808150535664,
          179.38956574530005,
          172.64141550677164,
          180.83347070993244,
          188.81284781432768,
          170.26553258600524,
          179.94602623638465,
          190.38388755734613,
          185.054240932167,
          193.09472896350712,
          174.31857670165667,
          161.69231551605134,
          182.00651803955688,
          183.62570815026484,
          193.68421954472677,
          191.88145734706984,
          185.3674362301246,
          187.65390214170435,
          178.08178541793362,
          167.80885388680784,
          181.1772121738091,
          189.8257346362778,
          186.5636086982855,
          188.33807339159364,
          175.72244312953248,
          177.34453161981577,
          184.834254881146,
          174.53492605491246,
          174.84282930067,
          182.9798223637745,
          187.60904743156908,
          178.00471326670592,
          168.3681053894636,
          172.6419608495717,
          182.03672084893097,
          181.9152096386597,
          182.41238137655347,
          185.2129529059576,
          180.0581055854245,
          182.65056044840316,
          179.54973177171132,
          191.4873348292944,
          194.32342031217505,
          168.10988717619966,
          177.44748057897746,
          180.32724491540708,
          177.3308528798568,
          197.92922591330876,
          182.23955278089736,
          171.94628172949655,
          185.9644233956067,
          182.70974538846195,
          183.0419291955342,
          198.0787615879919,
          183.50785175754808,
          176.96338476126004,
          160.447235736899,
          178.34600981856488,
          193.0596991732719,
          179.08830880443813,
          157.59950101480496,
          175.01637607807552,
          189.92688538912796,
          185.45817174562012,
          171.60119103489265,
          174.34715223600918,
          175.89291340897583,
          173.3728622813707,
          159.7032613226042,
          187.63591100619857,
          192.57059956689093,
          164.8155105603526,
          192.4385293258632,
          178.96976798602785,
          192.25132348167875,
          180.37950436290447,
          181.3554459215863,
          183.7243464698221,
          172.0993367486472,
          191.94674144328025,
          168.78619361925217,
          175.9793325548333,
          185.24264677643168,
          174.90804759514538,
          187.77531240814943,
          193.7586617318396,
          190.1254600105384,
          160.6388468632138,
          181.2584696961936,
          190.28682610696396,
          166.83251153177943,
          187.2361058722888,
          186.67460781639312,
          167.87910108061735,
          188.3423266574016,
          182.72697793529932,
          186.50381788721268,
          170.33687614234867,
          181.50136116371385,
          162.95121445867676,
          157.23008792466948,
          181.4082842652775,
          191.0059760676131,
          182.5293681426508,
          179.36553936055853,
          178.12465879945125,
          170.57434608556937,
          177.78139096204694,
          184.21684468264445,
          175.6477776719937,
          187.50586853835776,
          181.959750338646,
          183.16979417773408,
          188.8866275355096,
          174.7324456734501,
          186.59380586186955,
          176.13523282748025,
          183.3951448381884,
          173.54228649363432,
          170.89296176935267,
          180.91864745648493,
          161.14799947978884,
          177.0373255649112,
          163.9362299439082,
          187.7923403431361,
          190.50110596108917,
          171.36048778579195,
          184.28312962473493,
          188.9913571368749,
          189.02469222501784,
          182.1445083397164,
          187.34304675561495,
          173.50668688079605,
          180.8312246565668,
          175.32896593209225,
          172.66212026214637,
          180.36063391469628,
          183.47530376158076,
          191.63508767954988,
          182.65155527298887,
          186.4193053496155,
          186.53283173249537,
          206.8753436569696,
          161.89967596727422,
          173.1206613316282,
          194.7405605248808,
          176.47986925146526,
          188.8580313760172,
          182.3000952376284,
          201.0520240120801,
          168.86945572936287,
          192.2180055251881,
          197.495813052725,
          169.85581122832,
          187.82870243581343,
          170.34502014170943,
          180.30161572535124,
          177.43412069817828,
          155.97246065100313,
          184.24234259711895,
          181.4333916760623,
          194.7907897340576,
          186.11143654649544,
          202.9088392407876,
          181.07042382078717,
          178.94469947997692,
          178.15643349282905,
          175.60411288968226,
          157.92249083617432,
          177.7980537299204,
          159.3214527356401,
          184.5203334458577,
          167.59939707529415,
          171.0566737691158,
          173.3058980516745,
          177.95064962186754,
          180.06868254939036,
          190.8447958307307,
          174.2246990649245,
          184.8014613622237,
          207.3086723322357,
          183.7735070276323,
          178.19510211068365,
          172.20848348071704,
          178.0566845457967,
          171.13779656390594,
          182.6866142668377,
          181.03544138639396,
          158.37780779082206,
          179.81441994233933,
          190.76146312640012,
          176.0088814779725,
          173.47103227588437,
          166.2229922688315,
          161.42007958375595,
          188.3134926706325,
          178.18521670420805,
          187.72021562003425,
          195.3132374457947,
          189.21247684910344,
          174.57627678561204,
          181.4486766465756,
          173.8522713484308,
          172.91711537398336,
          183.42815162402624,
          171.67706116881828,
          157.908483809113,
          171.11852104272623,
          176.93118851312627,
          195.2139849783192,
          175.09062550128635,
          185.11924091029277,
          178.31691766037932,
          192.26405143870383,
          191.5709638546396,
          191.7617510523992,
          162.66016470582647,
          182.06724047244995,
          187.58938600121948,
          183.8153856258933,
          186.3659632582183,
          180.5835100428548,
          172.55215793273473,
          163.0290261501375,
          173.54430571351526,
          206.7810987363839,
          175.14348823909327,
          160.40609773909256,
          187.3264936072908,
          188.55460008682644,
          192.8732439015214,
          184.7097850370678,
          188.45601514466952,
          198.4021713484199,
          172.54526507937885,
          170.56149294576284,
          169.0541346044707,
          177.34230413506015,
          194.3342241982517,
          185.28068367746235,
          184.88691952709215,
          161.80692071335275,
          173.0681317276358,
          161.64342367137962,
          191.71245789321543,
          195.8564649288573,
          187.79566727240385,
          170.13213954260456,
          194.8202249361579,
          177.4674508997479,
          167.8554071924734,
          170.35595745388306,
          175.69843364408163,
          180.49578520484707,
          178.38655788348206,
          165.87331581828974,
          192.13316409185643,
          178.49394080563158,
          172.8624614372935,
          191.10302361982764,
          168.1659381173347,
          163.71109816425485,
          192.7248744659874,
          198.91387849550335,
          175.37903981348603,
          179.54029992082857,
          168.53335285479096,
          180.05492550243395,
          175.24294736268803,
          178.97871559965,
          184.0925838759724,
          169.01854521969153,
          176.38188660767432,
          161.96218578221823,
          176.45012715886713,
          179.06565929083,
          182.2898242506108,
          182.39576540363208,
          189.03922750736857,
          164.6033348072668,
          165.13722970049707,
          185.2895793639252,
          159.61038722994584,
          181.83300212104996,
          168.19707060410107,
          195.7281464091718,
          182.50452407727775,
          177.80843980286937,
          192.27720877139177,
          169.3659799342905,
          171.2659036591219,
          167.38545166344892,
          171.34960773651008,
          180.61115609367388,
          184.9395187199372,
          189.61421685367543,
          161.75275953099262,
          178.28137013536707,
          168.918354688092,
          177.947129085119,
          203.3416358012704,
          182.91861762000016,
          188.99464971148245,
          199.60691272161048,
          191.2735824317476,
          175.52085520313017,
          167.24167913430065,
          179.69855730479148,
          174.32294215781317,
          164.75478713380826,
          182.40924997289468,
          182.6588629805933,
          197.69116700263285,
          176.38236931163186,
          182.80121388969448,
          173.34514585309785,
          188.73169430693463,
          178.7538220380987,
          168.2740839114726,
          179.86528178334842,
          183.90522897565,
          182.55273387413564,
          190.45896715495869,
          165.5194362795931,
          171.57257409985058,
          186.39787331795537,
          172.7473102203893,
          182.40471249330207,
          155.80254752588235,
          207.1594657231288,
          177.30281468442664,
          191.9395625998828,
          176.63102174416508,
          184.1469852873089,
          194.91919646345272,
          191.65806019208387,
          177.95545020314776,
          178.64745674606309,
          190.03566560183285,
          203.332444042853,
          181.9228267439904,
          199.5706364054164,
          177.58585589579795,
          189.519603635098,
          191.01155762247288,
          175.90039496147227,
          172.52921920698358,
          191.45389188547352,
          174.68443062756944,
          171.05650087324597,
          173.16040498200903,
          174.64386661574588,
          188.5661710462568,
          185.15042673276187,
          187.1565824475789,
          184.21379811098083,
          174.0615983775336,
          186.97102855908275,
          191.82453826605305,
          185.8450321611931,
          184.4965590662585,
          172.32945493429324,
          182.1181707897448,
          171.79758670551297,
          179.75972141919397,
          163.59733360774683,
          163.67441597007905,
          178.0895231005297,
          174.5156032817301,
          181.06787193474173,
          178.65231420884882,
          180.30190787210157,
          186.0860744235674,
          175.3673104433917,
          177.80556188355138,
          194.55021222763165,
          180.03084126825027,
          178.2078952537461,
          180.8251269932319,
          178.3863562699047,
          172.90427707046774,
          170.0197016282028,
          172.36568659849996,
          188.72919186770787,
          173.70094745281588,
          178.45075398163723,
          187.00736285132896,
          177.21608829189023,
          186.3336131484365,
          164.59206957569134,
          178.67483320458103,
          180.7889609659851,
          180.23138723098168,
          163.47081302161115,
          192.03112646430804,
          171.45327055028582,
          183.35037125262468,
          180.0796428264733,
          190.0370952381068,
          201.8748882937421,
          167.09635515457165,
          173.510861187275,
          181.89092493839053,
          168.94646682447208,
          187.8218260795576,
          188.4337262215706,
          185.5944907599504,
          182.365817508762,
          193.6970877796978,
          168.4437451833114,
          180.65268195342557,
          172.6119713126978,
          188.89916332565167,
          161.66658835493567,
          179.71916134407022,
          183.3523868706995,
          170.52507865026226,
          173.73809967778433,
          180.15378981372103,
          189.5509637944148,
          169.67130771412943,
          171.41550059625314,
          191.25587771040344,
          177.27024600080165,
          172.2246096015502,
          187.2868479721692,
          175.11803002767752,
          190.27421535338772,
          173.3627962302029,
          178.40405438175003,
          189.4497166538873,
          177.73739128826247,
          187.56053322078645,
          179.34452393218996,
          199.81691806400028,
          195.6877860410285,
          166.7190373756625,
          185.2224368124801,
          171.83596013898958,
          181.9150693879273,
          180.6837062931026,
          169.44612982907512,
          190.58484543530324,
          182.03302943569076,
          177.15316964327417,
          175.61890175756406,
          181.3977696976624,
          184.07925017514285,
          178.75024213641734,
          151.67480429223792,
          180.16890716242483,
          165.58517938390222,
          177.90547434350924,
          165.95435742930357,
          165.8350236492053,
          192.35121821948528,
          176.79908019055608,
          176.03337840178082,
          184.8252404882859,
          176.2940947692755,
          201.0380609212741,
          177.26980239273982,
          183.6512541198301,
          189.7094133137686,
          196.0225322560691,
          172.5799386434236,
          175.82036496161356,
          192.74591875293515,
          188.1006230405269,
          190.75175935668457,
          166.31295456440333,
          195.47999753924017,
          172.38592456715196,
          181.92292978141896,
          178.5177712240823,
          171.2151716345193,
          165.87464236578998,
          162.56151883367102,
          181.1901840605397,
          164.74680909766545,
          168.66184404913116,
          177.8196412180178,
          153.61191499740102,
          187.78979712044,
          155.90111832893191,
          179.22627608667227,
          180.1501922659429,
          185.3806172018181,
          179.58319197610106,
          200.1790796383324,
          182.163168815685,
          190.5361239924366,
          172.7653719112971,
          181.20756806189468,
          195.47570095028925,
          177.6230487531036,
          181.9223476419523,
          189.8085344913748,
          172.57770479808366,
          158.38439666680807,
          182.5557365371237,
          189.88669169358,
          166.48554235108028,
          186.70219897277337,
          186.7696638733954,
          157.26503740884695,
          170.63711367593228,
          176.04171219268338,
          178.20375999764764,
          172.56865735232017,
          172.02997196417817,
          196.7148289118209,
          178.9244086814109,
          173.0495633985026,
          179.5883052308745,
          185.37090833061143,
          180.5162637671121,
          177.9427240917203,
          173.49983331329543,
          173.37869154532402,
          174.0219161351464,
          183.38814600810736,
          170.05819907598212,
          183.93269223470224,
          194.1299475562683,
          183.257073578132,
          176.30414471082864,
          167.01873114945369,
          195.78106807911516,
          168.29982349401087,
          188.48562034475748,
          186.38517860594484,
          177.6323139703594,
          177.37021196219322,
          161.6428872595898,
          183.3006500081262,
          186.19926332395804,
          169.10919883852196,
          178.44178525670898,
          180.3786191500895,
          185.8457262794957,
          180.03803076123188,
          163.73680646038417,
          174.7006223053751,
          182.2462578538902,
          188.4152834203976,
          173.82363390605752,
          201.8764987455002,
          161.05526931163035,
          174.362998249421,
          179.16966396507226,
          177.99250836447135,
          167.67857670185168,
          184.47861747751796,
          183.7109405131392,
          180.47961445981548,
          183.3184386325852,
          175.7622358855197,
          163.82637049891432,
          172.83360129947755,
          181.5705458140944,
          181.62744414846395,
          180.41379052585847,
          185.48708267985032,
          174.18853954549982,
          180.26681057110537,
          185.7209277840492,
          179.15110181497647,
          167.566760715939,
          170.38511630344462,
          188.30852324279363,
          193.92472162942573,
          191.7528310782405,
          182.32155949742037,
          167.96867397983308,
          179.9364844322713,
          195.62255131950425,
          186.18488380456475,
          177.92522477316126,
          186.28625232841216,
          167.30604793384396,
          173.04328622151797,
          169.15808608977676,
          184.69571818348436,
          187.14103499720093,
          178.46173972801634,
          171.27070323260435,
          179.80250906465372,
          175.13420109326194,
          172.03829295306255,
          183.38993685309245,
          172.42007777481325,
          164.33650267035907,
          166.55885529636814,
          163.9673953318405,
          182.47511916576204,
          181.50405438176165,
          181.0052009450816,
          185.87731652479945,
          191.9195885611712,
          174.07733469174886,
          184.06477477238417,
          164.20384492594124,
          193.7870974626335,
          167.55168761781843,
          172.8991888095956,
          174.0229048626691,
          164.73729003277788,
          180.3257557740856,
          182.1390386820148,
          178.10586329018452,
          164.59752367968923,
          199.83386234851716,
          185.4923079650165,
          206.3422204364996,
          171.94890760113708,
          189.57882228176976,
          187.79273887394163,
          177.09424896902638,
          194.11050901059224,
          175.9458999238622,
          176.39108580575393,
          145.28570108061618,
          184.0902805374264,
          166.74490088317594,
          174.4927880430449,
          169.73780361254973,
          176.3376846068174,
          184.4388023021744,
          180.11141563048758,
          187.0964129050581,
          192.65629535585632,
          176.31204063322164,
          175.21432757983885,
          189.5772765366201,
          190.3704728873993,
          187.40590868103047,
          170.4782119326065,
          184.22655065501604,
          181.0947060404729,
          190.52528941349664,
          174.27127910462252,
          163.33389708850083,
          186.90236800380276,
          154.416316167429,
          172.6848659610367,
          169.76804488681705,
          169.70065329094254,
          172.50968529044906,
          192.1737356975163,
          188.2055541900637,
          177.48269318007496,
          191.3362347185905,
          169.37702844833626,
          168.01716614252842,
          188.6359665924659,
          185.79643229322647,
          175.39736598416675,
          168.6453910630187,
          194.5973187503794,
          162.79897449052183,
          174.01574064656438,
          182.28576527517896,
          198.02164808431445,
          183.8310021207322,
          184.80304653013297,
          174.30616299851872,
          185.684802252746,
          181.05309320879087,
          164.1153545958244,
          187.92934853493108,
          189.7039338984685,
          188.03365048821163,
          180.333279256658,
          170.4382311685035,
          156.90816268715133,
          181.5705360540145,
          190.81942059740848,
          189.9553246908308,
          188.1607284339385,
          179.2578902145061,
          190.87464174031496,
          189.24161823855903,
          175.7736643927844,
          186.76598016615847,
          174.6404085459071,
          185.40024231616923,
          167.00883355698932,
          167.7778819132708,
          190.5820704694391,
          189.37560122204764,
          186.3361154057583,
          180.87968821052831,
          156.0872556897585,
          179.2512406179351,
          184.5418316718984,
          174.65266752440408,
          172.87505807191764,
          194.4442038815369,
          179.39711008608387,
          184.5479516964238,
          187.74131461619365,
          169.98562923494922,
          181.93207422714192,
          193.196444944773,
          198.1922318329972,
          180.3993639721469,
          177.62056452652925,
          182.69024068137531,
          182.4363704702752,
          193.86758066131156,
          170.03608310832934,
          177.2012691383398,
          168.8285867312349,
          169.87905114202422,
          183.76574015139124,
          188.09857841637023,
          173.50608306256254,
          187.7209478897529,
          191.1157865713197,
          199.3470599843339,
          180.6974684884105,
          173.60235472555863,
          169.9752806839411,
          168.98206802080105,
          192.49780701403608,
          164.8490465704435,
          192.177484856512,
          171.31558970747852,
          173.1479380214059,
          178.4844454499002,
          172.9634545043349,
          189.31979754959576,
          198.13343951982776,
          173.42567842446863,
          175.67762160835372,
          178.36679192716102,
          185.4105676349264,
          178.46515721044145,
          193.872574110526,
          191.46623916561927,
          168.145376464049,
          185.20968165574828,
          195.20339237309503,
          175.05219054233118,
          177.05735128206445,
          174.71963002147044,
          174.92924384476495,
          163.31548448088952,
          166.71685048534948,
          180.7747371873723,
          195.1359797465278,
          173.86639187481717,
          173.5724269705144,
          197.01521070420733,
          168.91742538184013,
          163.3875683729358,
          171.714845638625,
          173.37215521205633,
          162.52546915304936,
          178.71958293725388,
          189.48446349861536,
          167.14045226285174,
          180.8757821895359,
          183.9593567562677,
          179.16615724725708,
          181.8569258974106,
          181.9732726259521,
          171.8727204308157,
          194.98582572011867,
          192.47756834076216,
          191.89911397241167,
          190.13675740543863,
          164.25020530566977,
          189.26062377811965,
          186.55601427549507,
          164.63476385056217,
          177.8508964484992,
          182.76793449325288,
          196.6431709812464,
          187.24723857894256,
          171.354342727217,
          196.95388458451964,
          180.43779762713888,
          177.44158863096908,
          176.72881803411187,
          163.76444761976867,
          178.90230496183858,
          184.97485257305655,
          176.14616672474784,
          184.2045247724756,
          171.3560892908582,
          178.5907208572238,
          183.16540326608632,
          181.8966087706342,
          163.94534910280953,
          175.60994049128772,
          196.7746293031261,
          175.0755392566948,
          180.1580754411184,
          179.13244249451057,
          195.6823975891965,
          192.9036812219467,
          188.0753099981881,
          170.26757686627465,
          183.5918304919208,
          185.67941743075133,
          173.01395164403945,
          171.29482894152312,
          197.0501414720703,
          176.99196687783072,
          196.14976818911148,
          189.97093755494532,
          184.0787678237532,
          184.52531436359484,
          165.99580439669234,
          182.06774779834416,
          194.17020412981623,
          186.8133950318561,
          181.5433668706441,
          197.1193719581703,
          178.14959277339196,
          173.80444324978316,
          181.53831916078255,
          187.664673681116,
          162.82205904191738,
          182.84868643490415,
          188.1034501553631,
          177.30358374703138,
          191.0696476630264,
          186.4118666241107,
          201.4138311851108,
          172.49397102418786,
          188.3070985049609,
          169.82676092202595,
          163.84633548723275,
          159.64469157182128,
          185.38324022396927,
          181.84247913944105,
          175.20948942638248,
          162.26495666050386,
          173.09613373861325,
          180.04093007675456,
          187.93169366793097,
          179.83464249752373,
          182.5206034270528,
          176.23867619025864,
          197.49224202527157,
          169.81750355671772,
          173.00761782714872,
          175.07641926006488,
          185.42704397976723,
          169.6114021021312,
          181.35718590548,
          181.6491014342656,
          173.0564202926662,
          183.29979460956855,
          169.9218610126257,
          168.82925857538254,
          180.9960575652144,
          163.40244414521936,
          158.55197297449763,
          185.328333007968,
          190.4896994259117,
          175.3319688130747,
          173.3192934790223,
          190.0553522597456,
          168.5446178200108,
          166.3662737527884,
          187.07636423708487,
          180.09038186512308,
          190.6487673929024,
          158.5973412122202,
          165.99326008881437,
          180.14332059844156,
          184.17673698483787,
          188.4699708768946,
          181.74817768808776,
          181.64655155358568,
          176.10598456969802,
          195.9090490490452,
          168.96976544529502,
          183.5902015255594,
          170.1219116541198,
          185.34778545805008,
          169.62982430612234,
          187.43815698500455,
          181.1210494682452,
          197.4463917325868,
          177.18980352728414,
          184.24966116247543,
          172.2034371953929,
          177.12106993558706,
          181.05749479444356,
          164.72780077528623,
          165.82376065815228,
          185.9985929983565,
          178.5391317846832,
          174.0707346695198,
          172.63013819583244,
          173.01511204276306,
          181.12550715008229,
          184.4503586411619,
          159.07892770374775,
          194.12834056769893,
          193.4170076294199,
          156.693452364531,
          190.859266963228,
          190.55218851331043,
          180.00445494187545,
          167.02831378115124,
          190.1522809166507,
          177.5876893370265,
          185.4887884381896,
          202.1920127196178,
          182.5183675062362,
          170.83115308281438,
          176.64269005080277,
          172.10554639759013,
          184.33489717448523,
          171.93932441250195,
          175.27148577650357,
          167.155696255924,
          178.67912994480855,
          181.7675479330205,
          153.15211952882507,
          182.5957356148022,
          179.5429976890322,
          172.35008051243872,
          200.28628924269876,
          189.58476527604756,
          169.03597513848598,
          188.3823687957114,
          192.44498076021057,
          181.3202092261756,
          183.6144203694733,
          183.38346666921592,
          159.1418414107671,
          178.131304031496,
          177.6108715801597,
          194.3015563655988,
          183.33727863561876,
          177.02389037883304,
          179.0987525900899,
          190.233855816274,
          178.15415336754683,
          173.0180446690839,
          177.24297807079134,
          189.40696143822683,
          184.96164905597936,
          180.44267973349116,
          181.9153929944483,
          174.40257526404517,
          178.06050599557346,
          173.36695678225482,
          177.05220715700256,
          193.46178263626624,
          169.2212818862281,
          173.11282333577086,
          167.45701137064248,
          165.29091242812402,
          178.1322808580471,
          173.82390818199212,
          197.61688930792192,
          177.17153453822206
         ],
         "y0": " ",
         "yaxis": "y"
        }
       ],
       "layout": {
        "boxmode": "group",
        "legend": {
         "tracegroupgap": 0
        },
        "margin": {
         "t": 60
        },
        "template": {
         "data": {
          "bar": [
           {
            "error_x": {
             "color": "#2a3f5f"
            },
            "error_y": {
             "color": "#2a3f5f"
            },
            "marker": {
             "line": {
              "color": "#E5ECF6",
              "width": 0.5
             },
             "pattern": {
              "fillmode": "overlay",
              "size": 10,
              "solidity": 0.2
             }
            },
            "type": "bar"
           }
          ],
          "barpolar": [
           {
            "marker": {
             "line": {
              "color": "#E5ECF6",
              "width": 0.5
             },
             "pattern": {
              "fillmode": "overlay",
              "size": 10,
              "solidity": 0.2
             }
            },
            "type": "barpolar"
           }
          ],
          "carpet": [
           {
            "aaxis": {
             "endlinecolor": "#2a3f5f",
             "gridcolor": "white",
             "linecolor": "white",
             "minorgridcolor": "white",
             "startlinecolor": "#2a3f5f"
            },
            "baxis": {
             "endlinecolor": "#2a3f5f",
             "gridcolor": "white",
             "linecolor": "white",
             "minorgridcolor": "white",
             "startlinecolor": "#2a3f5f"
            },
            "type": "carpet"
           }
          ],
          "choropleth": [
           {
            "colorbar": {
             "outlinewidth": 0,
             "ticks": ""
            },
            "type": "choropleth"
           }
          ],
          "contour": [
           {
            "colorbar": {
             "outlinewidth": 0,
             "ticks": ""
            },
            "colorscale": [
             [
              0,
              "#0d0887"
             ],
             [
              0.1111111111111111,
              "#46039f"
             ],
             [
              0.2222222222222222,
              "#7201a8"
             ],
             [
              0.3333333333333333,
              "#9c179e"
             ],
             [
              0.4444444444444444,
              "#bd3786"
             ],
             [
              0.5555555555555556,
              "#d8576b"
             ],
             [
              0.6666666666666666,
              "#ed7953"
             ],
             [
              0.7777777777777778,
              "#fb9f3a"
             ],
             [
              0.8888888888888888,
              "#fdca26"
             ],
             [
              1,
              "#f0f921"
             ]
            ],
            "type": "contour"
           }
          ],
          "contourcarpet": [
           {
            "colorbar": {
             "outlinewidth": 0,
             "ticks": ""
            },
            "type": "contourcarpet"
           }
          ],
          "heatmap": [
           {
            "colorbar": {
             "outlinewidth": 0,
             "ticks": ""
            },
            "colorscale": [
             [
              0,
              "#0d0887"
             ],
             [
              0.1111111111111111,
              "#46039f"
             ],
             [
              0.2222222222222222,
              "#7201a8"
             ],
             [
              0.3333333333333333,
              "#9c179e"
             ],
             [
              0.4444444444444444,
              "#bd3786"
             ],
             [
              0.5555555555555556,
              "#d8576b"
             ],
             [
              0.6666666666666666,
              "#ed7953"
             ],
             [
              0.7777777777777778,
              "#fb9f3a"
             ],
             [
              0.8888888888888888,
              "#fdca26"
             ],
             [
              1,
              "#f0f921"
             ]
            ],
            "type": "heatmap"
           }
          ],
          "heatmapgl": [
           {
            "colorbar": {
             "outlinewidth": 0,
             "ticks": ""
            },
            "colorscale": [
             [
              0,
              "#0d0887"
             ],
             [
              0.1111111111111111,
              "#46039f"
             ],
             [
              0.2222222222222222,
              "#7201a8"
             ],
             [
              0.3333333333333333,
              "#9c179e"
             ],
             [
              0.4444444444444444,
              "#bd3786"
             ],
             [
              0.5555555555555556,
              "#d8576b"
             ],
             [
              0.6666666666666666,
              "#ed7953"
             ],
             [
              0.7777777777777778,
              "#fb9f3a"
             ],
             [
              0.8888888888888888,
              "#fdca26"
             ],
             [
              1,
              "#f0f921"
             ]
            ],
            "type": "heatmapgl"
           }
          ],
          "histogram": [
           {
            "marker": {
             "pattern": {
              "fillmode": "overlay",
              "size": 10,
              "solidity": 0.2
             }
            },
            "type": "histogram"
           }
          ],
          "histogram2d": [
           {
            "colorbar": {
             "outlinewidth": 0,
             "ticks": ""
            },
            "colorscale": [
             [
              0,
              "#0d0887"
             ],
             [
              0.1111111111111111,
              "#46039f"
             ],
             [
              0.2222222222222222,
              "#7201a8"
             ],
             [
              0.3333333333333333,
              "#9c179e"
             ],
             [
              0.4444444444444444,
              "#bd3786"
             ],
             [
              0.5555555555555556,
              "#d8576b"
             ],
             [
              0.6666666666666666,
              "#ed7953"
             ],
             [
              0.7777777777777778,
              "#fb9f3a"
             ],
             [
              0.8888888888888888,
              "#fdca26"
             ],
             [
              1,
              "#f0f921"
             ]
            ],
            "type": "histogram2d"
           }
          ],
          "histogram2dcontour": [
           {
            "colorbar": {
             "outlinewidth": 0,
             "ticks": ""
            },
            "colorscale": [
             [
              0,
              "#0d0887"
             ],
             [
              0.1111111111111111,
              "#46039f"
             ],
             [
              0.2222222222222222,
              "#7201a8"
             ],
             [
              0.3333333333333333,
              "#9c179e"
             ],
             [
              0.4444444444444444,
              "#bd3786"
             ],
             [
              0.5555555555555556,
              "#d8576b"
             ],
             [
              0.6666666666666666,
              "#ed7953"
             ],
             [
              0.7777777777777778,
              "#fb9f3a"
             ],
             [
              0.8888888888888888,
              "#fdca26"
             ],
             [
              1,
              "#f0f921"
             ]
            ],
            "type": "histogram2dcontour"
           }
          ],
          "mesh3d": [
           {
            "colorbar": {
             "outlinewidth": 0,
             "ticks": ""
            },
            "type": "mesh3d"
           }
          ],
          "parcoords": [
           {
            "line": {
             "colorbar": {
              "outlinewidth": 0,
              "ticks": ""
             }
            },
            "type": "parcoords"
           }
          ],
          "pie": [
           {
            "automargin": true,
            "type": "pie"
           }
          ],
          "scatter": [
           {
            "fillpattern": {
             "fillmode": "overlay",
             "size": 10,
             "solidity": 0.2
            },
            "type": "scatter"
           }
          ],
          "scatter3d": [
           {
            "line": {
             "colorbar": {
              "outlinewidth": 0,
              "ticks": ""
             }
            },
            "marker": {
             "colorbar": {
              "outlinewidth": 0,
              "ticks": ""
             }
            },
            "type": "scatter3d"
           }
          ],
          "scattercarpet": [
           {
            "marker": {
             "colorbar": {
              "outlinewidth": 0,
              "ticks": ""
             }
            },
            "type": "scattercarpet"
           }
          ],
          "scattergeo": [
           {
            "marker": {
             "colorbar": {
              "outlinewidth": 0,
              "ticks": ""
             }
            },
            "type": "scattergeo"
           }
          ],
          "scattergl": [
           {
            "marker": {
             "colorbar": {
              "outlinewidth": 0,
              "ticks": ""
             }
            },
            "type": "scattergl"
           }
          ],
          "scattermapbox": [
           {
            "marker": {
             "colorbar": {
              "outlinewidth": 0,
              "ticks": ""
             }
            },
            "type": "scattermapbox"
           }
          ],
          "scatterpolar": [
           {
            "marker": {
             "colorbar": {
              "outlinewidth": 0,
              "ticks": ""
             }
            },
            "type": "scatterpolar"
           }
          ],
          "scatterpolargl": [
           {
            "marker": {
             "colorbar": {
              "outlinewidth": 0,
              "ticks": ""
             }
            },
            "type": "scatterpolargl"
           }
          ],
          "scatterternary": [
           {
            "marker": {
             "colorbar": {
              "outlinewidth": 0,
              "ticks": ""
             }
            },
            "type": "scatterternary"
           }
          ],
          "surface": [
           {
            "colorbar": {
             "outlinewidth": 0,
             "ticks": ""
            },
            "colorscale": [
             [
              0,
              "#0d0887"
             ],
             [
              0.1111111111111111,
              "#46039f"
             ],
             [
              0.2222222222222222,
              "#7201a8"
             ],
             [
              0.3333333333333333,
              "#9c179e"
             ],
             [
              0.4444444444444444,
              "#bd3786"
             ],
             [
              0.5555555555555556,
              "#d8576b"
             ],
             [
              0.6666666666666666,
              "#ed7953"
             ],
             [
              0.7777777777777778,
              "#fb9f3a"
             ],
             [
              0.8888888888888888,
              "#fdca26"
             ],
             [
              1,
              "#f0f921"
             ]
            ],
            "type": "surface"
           }
          ],
          "table": [
           {
            "cells": {
             "fill": {
              "color": "#EBF0F8"
             },
             "line": {
              "color": "white"
             }
            },
            "header": {
             "fill": {
              "color": "#C8D4E3"
             },
             "line": {
              "color": "white"
             }
            },
            "type": "table"
           }
          ]
         },
         "layout": {
          "annotationdefaults": {
           "arrowcolor": "#2a3f5f",
           "arrowhead": 0,
           "arrowwidth": 1
          },
          "autotypenumbers": "strict",
          "coloraxis": {
           "colorbar": {
            "outlinewidth": 0,
            "ticks": ""
           }
          },
          "colorscale": {
           "diverging": [
            [
             0,
             "#8e0152"
            ],
            [
             0.1,
             "#c51b7d"
            ],
            [
             0.2,
             "#de77ae"
            ],
            [
             0.3,
             "#f1b6da"
            ],
            [
             0.4,
             "#fde0ef"
            ],
            [
             0.5,
             "#f7f7f7"
            ],
            [
             0.6,
             "#e6f5d0"
            ],
            [
             0.7,
             "#b8e186"
            ],
            [
             0.8,
             "#7fbc41"
            ],
            [
             0.9,
             "#4d9221"
            ],
            [
             1,
             "#276419"
            ]
           ],
           "sequential": [
            [
             0,
             "#0d0887"
            ],
            [
             0.1111111111111111,
             "#46039f"
            ],
            [
             0.2222222222222222,
             "#7201a8"
            ],
            [
             0.3333333333333333,
             "#9c179e"
            ],
            [
             0.4444444444444444,
             "#bd3786"
            ],
            [
             0.5555555555555556,
             "#d8576b"
            ],
            [
             0.6666666666666666,
             "#ed7953"
            ],
            [
             0.7777777777777778,
             "#fb9f3a"
            ],
            [
             0.8888888888888888,
             "#fdca26"
            ],
            [
             1,
             "#f0f921"
            ]
           ],
           "sequentialminus": [
            [
             0,
             "#0d0887"
            ],
            [
             0.1111111111111111,
             "#46039f"
            ],
            [
             0.2222222222222222,
             "#7201a8"
            ],
            [
             0.3333333333333333,
             "#9c179e"
            ],
            [
             0.4444444444444444,
             "#bd3786"
            ],
            [
             0.5555555555555556,
             "#d8576b"
            ],
            [
             0.6666666666666666,
             "#ed7953"
            ],
            [
             0.7777777777777778,
             "#fb9f3a"
            ],
            [
             0.8888888888888888,
             "#fdca26"
            ],
            [
             1,
             "#f0f921"
            ]
           ]
          },
          "colorway": [
           "#636efa",
           "#EF553B",
           "#00cc96",
           "#ab63fa",
           "#FFA15A",
           "#19d3f3",
           "#FF6692",
           "#B6E880",
           "#FF97FF",
           "#FECB52"
          ],
          "font": {
           "color": "#2a3f5f"
          },
          "geo": {
           "bgcolor": "white",
           "lakecolor": "white",
           "landcolor": "#E5ECF6",
           "showlakes": true,
           "showland": true,
           "subunitcolor": "white"
          },
          "hoverlabel": {
           "align": "left"
          },
          "hovermode": "closest",
          "mapbox": {
           "style": "light"
          },
          "paper_bgcolor": "white",
          "plot_bgcolor": "#E5ECF6",
          "polar": {
           "angularaxis": {
            "gridcolor": "white",
            "linecolor": "white",
            "ticks": ""
           },
           "bgcolor": "#E5ECF6",
           "radialaxis": {
            "gridcolor": "white",
            "linecolor": "white",
            "ticks": ""
           }
          },
          "scene": {
           "xaxis": {
            "backgroundcolor": "#E5ECF6",
            "gridcolor": "white",
            "gridwidth": 2,
            "linecolor": "white",
            "showbackground": true,
            "ticks": "",
            "zerolinecolor": "white"
           },
           "yaxis": {
            "backgroundcolor": "#E5ECF6",
            "gridcolor": "white",
            "gridwidth": 2,
            "linecolor": "white",
            "showbackground": true,
            "ticks": "",
            "zerolinecolor": "white"
           },
           "zaxis": {
            "backgroundcolor": "#E5ECF6",
            "gridcolor": "white",
            "gridwidth": 2,
            "linecolor": "white",
            "showbackground": true,
            "ticks": "",
            "zerolinecolor": "white"
           }
          },
          "shapedefaults": {
           "line": {
            "color": "#2a3f5f"
           }
          },
          "ternary": {
           "aaxis": {
            "gridcolor": "white",
            "linecolor": "white",
            "ticks": ""
           },
           "baxis": {
            "gridcolor": "white",
            "linecolor": "white",
            "ticks": ""
           },
           "bgcolor": "#E5ECF6",
           "caxis": {
            "gridcolor": "white",
            "linecolor": "white",
            "ticks": ""
           }
          },
          "title": {
           "x": 0.05
          },
          "xaxis": {
           "automargin": true,
           "gridcolor": "white",
           "linecolor": "white",
           "ticks": "",
           "title": {
            "standoff": 15
           },
           "zerolinecolor": "white",
           "zerolinewidth": 2
          },
          "yaxis": {
           "automargin": true,
           "gridcolor": "white",
           "linecolor": "white",
           "ticks": "",
           "title": {
            "standoff": 15
           },
           "zerolinecolor": "white",
           "zerolinewidth": 2
          }
         }
        },
        "xaxis": {
         "anchor": "y",
         "domain": [
          0,
          1
         ]
        },
        "yaxis": {
         "anchor": "x",
         "domain": [
          0,
          1
         ],
         "title": {
          "text": "Player_Height"
         }
        }
       }
      }
     },
     "metadata": {},
     "output_type": "display_data"
    }
   ],
   "source": [
    "fig = px.box(df, y='Player_Height')\n",
    "fig.show()"
   ]
  },
  {
   "cell_type": "markdown",
   "metadata": {},
   "source": [
    "### Indicador de lesão prévia"
   ]
  },
  {
   "cell_type": "code",
   "execution_count": 51,
   "metadata": {},
   "outputs": [
    {
     "data": {
      "application/vnd.plotly.v1+json": {
       "config": {
        "plotlyServerURL": "https://plot.ly"
       },
       "data": [
        {
         "domain": {
          "x": [
           0,
           1
          ],
          "y": [
           0,
           1
          ]
         },
         "hovertemplate": "Previous_Injuries=%{label}<extra></extra>",
         "labels": [
          1,
          0,
          0,
          1,
          0,
          1,
          0,
          1,
          1,
          1,
          0,
          0,
          1,
          0,
          1,
          1,
          0,
          1,
          0,
          1,
          0,
          1,
          1,
          0,
          1,
          1,
          0,
          1,
          0,
          1,
          0,
          1,
          1,
          1,
          0,
          0,
          0,
          0,
          1,
          1,
          0,
          0,
          0,
          1,
          0,
          0,
          1,
          1,
          0,
          1,
          0,
          1,
          0,
          0,
          0,
          0,
          1,
          1,
          1,
          1,
          0,
          0,
          1,
          1,
          1,
          1,
          1,
          0,
          0,
          0,
          1,
          1,
          1,
          1,
          0,
          0,
          1,
          0,
          0,
          1,
          1,
          1,
          1,
          1,
          1,
          0,
          0,
          1,
          0,
          1,
          1,
          1,
          1,
          0,
          1,
          0,
          1,
          1,
          1,
          0,
          1,
          1,
          1,
          0,
          0,
          0,
          1,
          0,
          1,
          0,
          0,
          1,
          0,
          1,
          1,
          0,
          1,
          1,
          0,
          0,
          1,
          0,
          1,
          1,
          0,
          0,
          0,
          0,
          1,
          1,
          0,
          0,
          1,
          1,
          1,
          1,
          0,
          1,
          1,
          0,
          1,
          1,
          0,
          0,
          0,
          1,
          1,
          0,
          0,
          1,
          0,
          0,
          0,
          1,
          1,
          1,
          1,
          1,
          1,
          0,
          1,
          1,
          0,
          1,
          1,
          0,
          0,
          0,
          1,
          0,
          1,
          1,
          1,
          1,
          0,
          0,
          1,
          0,
          1,
          1,
          1,
          0,
          1,
          1,
          0,
          0,
          0,
          0,
          1,
          0,
          1,
          0,
          0,
          0,
          0,
          0,
          0,
          1,
          0,
          0,
          0,
          0,
          1,
          0,
          0,
          0,
          0,
          1,
          0,
          1,
          0,
          1,
          1,
          0,
          0,
          1,
          1,
          0,
          1,
          1,
          1,
          0,
          1,
          1,
          1,
          0,
          0,
          1,
          0,
          1,
          0,
          0,
          1,
          0,
          0,
          0,
          1,
          0,
          0,
          1,
          0,
          0,
          0,
          0,
          0,
          1,
          1,
          0,
          0,
          0,
          1,
          1,
          0,
          0,
          1,
          0,
          1,
          1,
          0,
          1,
          0,
          0,
          0,
          0,
          0,
          0,
          1,
          1,
          1,
          1,
          0,
          1,
          1,
          1,
          0,
          1,
          0,
          1,
          0,
          0,
          1,
          0,
          0,
          1,
          1,
          1,
          0,
          0,
          0,
          1,
          0,
          0,
          0,
          0,
          0,
          0,
          0,
          1,
          1,
          1,
          0,
          0,
          1,
          0,
          1,
          0,
          0,
          1,
          1,
          1,
          1,
          1,
          0,
          0,
          0,
          1,
          1,
          1,
          1,
          1,
          1,
          0,
          0,
          0,
          0,
          0,
          1,
          1,
          1,
          1,
          1,
          1,
          0,
          1,
          1,
          1,
          1,
          0,
          0,
          1,
          0,
          0,
          1,
          1,
          1,
          1,
          1,
          0,
          1,
          1,
          1,
          0,
          1,
          1,
          1,
          0,
          1,
          1,
          1,
          0,
          1,
          1,
          1,
          0,
          1,
          1,
          1,
          0,
          0,
          1,
          0,
          0,
          0,
          1,
          1,
          0,
          0,
          0,
          1,
          1,
          0,
          0,
          0,
          0,
          1,
          0,
          1,
          0,
          0,
          0,
          0,
          0,
          1,
          0,
          0,
          0,
          1,
          1,
          1,
          1,
          0,
          0,
          0,
          1,
          0,
          0,
          1,
          1,
          1,
          0,
          0,
          1,
          0,
          1,
          1,
          0,
          1,
          1,
          1,
          0,
          1,
          1,
          1,
          1,
          1,
          1,
          1,
          0,
          0,
          1,
          0,
          0,
          1,
          0,
          1,
          1,
          1,
          1,
          1,
          0,
          1,
          0,
          1,
          1,
          1,
          0,
          1,
          1,
          1,
          1,
          0,
          1,
          0,
          1,
          0,
          0,
          1,
          1,
          0,
          1,
          1,
          1,
          0,
          1,
          1,
          1,
          0,
          1,
          0,
          1,
          0,
          1,
          1,
          0,
          0,
          0,
          1,
          1,
          1,
          1,
          0,
          1,
          1,
          1,
          1,
          1,
          1,
          1,
          0,
          1,
          1,
          1,
          1,
          0,
          0,
          0,
          0,
          0,
          0,
          1,
          0,
          0,
          1,
          0,
          1,
          1,
          0,
          1,
          0,
          0,
          1,
          1,
          0,
          1,
          1,
          0,
          0,
          1,
          0,
          0,
          0,
          0,
          0,
          0,
          0,
          1,
          0,
          1,
          1,
          1,
          0,
          0,
          1,
          0,
          1,
          0,
          0,
          1,
          1,
          1,
          0,
          1,
          0,
          0,
          0,
          1,
          1,
          1,
          0,
          0,
          1,
          0,
          0,
          1,
          1,
          1,
          0,
          0,
          0,
          0,
          0,
          1,
          0,
          0,
          0,
          1,
          1,
          1,
          0,
          1,
          1,
          1,
          0,
          1,
          0,
          0,
          1,
          0,
          1,
          0,
          1,
          1,
          1,
          0,
          1,
          0,
          1,
          0,
          0,
          1,
          1,
          1,
          1,
          1,
          0,
          1,
          1,
          0,
          1,
          1,
          0,
          1,
          1,
          1,
          0,
          1,
          0,
          1,
          0,
          1,
          0,
          0,
          0,
          0,
          0,
          0,
          1,
          1,
          0,
          0,
          0,
          0,
          1,
          0,
          1,
          1,
          0,
          0,
          1,
          1,
          0,
          0,
          0,
          1,
          1,
          0,
          1,
          1,
          0,
          0,
          1,
          1,
          0,
          0,
          0,
          0,
          0,
          1,
          1,
          1,
          1,
          0,
          0,
          0,
          1,
          1,
          1,
          0,
          1,
          0,
          0,
          0,
          0,
          0,
          0,
          1,
          0,
          0,
          1,
          0,
          1,
          1,
          1,
          0,
          0,
          1,
          0,
          0,
          1,
          1,
          0,
          1,
          1,
          1,
          0,
          0,
          0,
          1,
          0,
          1,
          0,
          0,
          1,
          0,
          1,
          0,
          0,
          1,
          1,
          1,
          0,
          0,
          0,
          1,
          1,
          1,
          0,
          0,
          1,
          0,
          1,
          0,
          0,
          1,
          0,
          0,
          1,
          1,
          0,
          1,
          0,
          1,
          0,
          0,
          1,
          0,
          0,
          1,
          1,
          0,
          1,
          1,
          0,
          0,
          1,
          1,
          1,
          0,
          0,
          0,
          0,
          0,
          0,
          0,
          1,
          1,
          0,
          0,
          0,
          1,
          0,
          1,
          1,
          1,
          1,
          1,
          0,
          0,
          1,
          0,
          1,
          1,
          0,
          0,
          0,
          0,
          0,
          1,
          0,
          0,
          0,
          1,
          0,
          1,
          0,
          0,
          1,
          0,
          0,
          1,
          0,
          1,
          1,
          1,
          1,
          1,
          0,
          0,
          0,
          1,
          1,
          1,
          1,
          0,
          0,
          1,
          1,
          0,
          1,
          1,
          1,
          0,
          0,
          1,
          0,
          1,
          1,
          0,
          1,
          1,
          0,
          1,
          1,
          1,
          0,
          1,
          0,
          1,
          1,
          1,
          1,
          0,
          0,
          1,
          1,
          1,
          1,
          1,
          1,
          1,
          1,
          0,
          0,
          0,
          1,
          1,
          1,
          0,
          1,
          0,
          1,
          0,
          0,
          0,
          1,
          0,
          1,
          1,
          1,
          1,
          1,
          0,
          1,
          1,
          1,
          1,
          1,
          0,
          0,
          1,
          0,
          0,
          1,
          0,
          1,
          0,
          0,
          0,
          1,
          0,
          0,
          1,
          1,
          0,
          1,
          0,
          0,
          1,
          1,
          1,
          0,
          1,
          0,
          1,
          0,
          1,
          0,
          1,
          0,
          1,
          1,
          0,
          1,
          0,
          0,
          1,
          0,
          1,
          1,
          0,
          1,
          0,
          0,
          1,
          1,
          0,
          0,
          1,
          1,
          1,
          1,
          0,
          1,
          0,
          0,
          1,
          0,
          1,
          0,
          1,
          0,
          0,
          1,
          1,
          0,
          0,
          1,
          0,
          1,
          0,
          1,
          0,
          1,
          1,
          0,
          1,
          0,
          1,
          1,
          1,
          0,
          1,
          0,
          1,
          0,
          0,
          0,
          1,
          0,
          1,
          0,
          0,
          0,
          0,
          1,
          0,
          0,
          1,
          0,
          0,
          0,
          0,
          1,
          1,
          0,
          1,
          1,
          0,
          1,
          0,
          1,
          1,
          1,
          0,
          1,
          0,
          0,
          1,
          0,
          1,
          0,
          0,
          1,
          1,
          1,
          1,
          0,
          0,
          0,
          1,
          0,
          1,
          0,
          1,
          0,
          0,
          1,
          0,
          1,
          0
         ],
         "legendgroup": "",
         "name": "",
         "showlegend": true,
         "type": "pie"
        }
       ],
       "layout": {
        "legend": {
         "tracegroupgap": 0
        },
        "margin": {
         "t": 60
        },
        "template": {
         "data": {
          "bar": [
           {
            "error_x": {
             "color": "#2a3f5f"
            },
            "error_y": {
             "color": "#2a3f5f"
            },
            "marker": {
             "line": {
              "color": "#E5ECF6",
              "width": 0.5
             },
             "pattern": {
              "fillmode": "overlay",
              "size": 10,
              "solidity": 0.2
             }
            },
            "type": "bar"
           }
          ],
          "barpolar": [
           {
            "marker": {
             "line": {
              "color": "#E5ECF6",
              "width": 0.5
             },
             "pattern": {
              "fillmode": "overlay",
              "size": 10,
              "solidity": 0.2
             }
            },
            "type": "barpolar"
           }
          ],
          "carpet": [
           {
            "aaxis": {
             "endlinecolor": "#2a3f5f",
             "gridcolor": "white",
             "linecolor": "white",
             "minorgridcolor": "white",
             "startlinecolor": "#2a3f5f"
            },
            "baxis": {
             "endlinecolor": "#2a3f5f",
             "gridcolor": "white",
             "linecolor": "white",
             "minorgridcolor": "white",
             "startlinecolor": "#2a3f5f"
            },
            "type": "carpet"
           }
          ],
          "choropleth": [
           {
            "colorbar": {
             "outlinewidth": 0,
             "ticks": ""
            },
            "type": "choropleth"
           }
          ],
          "contour": [
           {
            "colorbar": {
             "outlinewidth": 0,
             "ticks": ""
            },
            "colorscale": [
             [
              0,
              "#0d0887"
             ],
             [
              0.1111111111111111,
              "#46039f"
             ],
             [
              0.2222222222222222,
              "#7201a8"
             ],
             [
              0.3333333333333333,
              "#9c179e"
             ],
             [
              0.4444444444444444,
              "#bd3786"
             ],
             [
              0.5555555555555556,
              "#d8576b"
             ],
             [
              0.6666666666666666,
              "#ed7953"
             ],
             [
              0.7777777777777778,
              "#fb9f3a"
             ],
             [
              0.8888888888888888,
              "#fdca26"
             ],
             [
              1,
              "#f0f921"
             ]
            ],
            "type": "contour"
           }
          ],
          "contourcarpet": [
           {
            "colorbar": {
             "outlinewidth": 0,
             "ticks": ""
            },
            "type": "contourcarpet"
           }
          ],
          "heatmap": [
           {
            "colorbar": {
             "outlinewidth": 0,
             "ticks": ""
            },
            "colorscale": [
             [
              0,
              "#0d0887"
             ],
             [
              0.1111111111111111,
              "#46039f"
             ],
             [
              0.2222222222222222,
              "#7201a8"
             ],
             [
              0.3333333333333333,
              "#9c179e"
             ],
             [
              0.4444444444444444,
              "#bd3786"
             ],
             [
              0.5555555555555556,
              "#d8576b"
             ],
             [
              0.6666666666666666,
              "#ed7953"
             ],
             [
              0.7777777777777778,
              "#fb9f3a"
             ],
             [
              0.8888888888888888,
              "#fdca26"
             ],
             [
              1,
              "#f0f921"
             ]
            ],
            "type": "heatmap"
           }
          ],
          "heatmapgl": [
           {
            "colorbar": {
             "outlinewidth": 0,
             "ticks": ""
            },
            "colorscale": [
             [
              0,
              "#0d0887"
             ],
             [
              0.1111111111111111,
              "#46039f"
             ],
             [
              0.2222222222222222,
              "#7201a8"
             ],
             [
              0.3333333333333333,
              "#9c179e"
             ],
             [
              0.4444444444444444,
              "#bd3786"
             ],
             [
              0.5555555555555556,
              "#d8576b"
             ],
             [
              0.6666666666666666,
              "#ed7953"
             ],
             [
              0.7777777777777778,
              "#fb9f3a"
             ],
             [
              0.8888888888888888,
              "#fdca26"
             ],
             [
              1,
              "#f0f921"
             ]
            ],
            "type": "heatmapgl"
           }
          ],
          "histogram": [
           {
            "marker": {
             "pattern": {
              "fillmode": "overlay",
              "size": 10,
              "solidity": 0.2
             }
            },
            "type": "histogram"
           }
          ],
          "histogram2d": [
           {
            "colorbar": {
             "outlinewidth": 0,
             "ticks": ""
            },
            "colorscale": [
             [
              0,
              "#0d0887"
             ],
             [
              0.1111111111111111,
              "#46039f"
             ],
             [
              0.2222222222222222,
              "#7201a8"
             ],
             [
              0.3333333333333333,
              "#9c179e"
             ],
             [
              0.4444444444444444,
              "#bd3786"
             ],
             [
              0.5555555555555556,
              "#d8576b"
             ],
             [
              0.6666666666666666,
              "#ed7953"
             ],
             [
              0.7777777777777778,
              "#fb9f3a"
             ],
             [
              0.8888888888888888,
              "#fdca26"
             ],
             [
              1,
              "#f0f921"
             ]
            ],
            "type": "histogram2d"
           }
          ],
          "histogram2dcontour": [
           {
            "colorbar": {
             "outlinewidth": 0,
             "ticks": ""
            },
            "colorscale": [
             [
              0,
              "#0d0887"
             ],
             [
              0.1111111111111111,
              "#46039f"
             ],
             [
              0.2222222222222222,
              "#7201a8"
             ],
             [
              0.3333333333333333,
              "#9c179e"
             ],
             [
              0.4444444444444444,
              "#bd3786"
             ],
             [
              0.5555555555555556,
              "#d8576b"
             ],
             [
              0.6666666666666666,
              "#ed7953"
             ],
             [
              0.7777777777777778,
              "#fb9f3a"
             ],
             [
              0.8888888888888888,
              "#fdca26"
             ],
             [
              1,
              "#f0f921"
             ]
            ],
            "type": "histogram2dcontour"
           }
          ],
          "mesh3d": [
           {
            "colorbar": {
             "outlinewidth": 0,
             "ticks": ""
            },
            "type": "mesh3d"
           }
          ],
          "parcoords": [
           {
            "line": {
             "colorbar": {
              "outlinewidth": 0,
              "ticks": ""
             }
            },
            "type": "parcoords"
           }
          ],
          "pie": [
           {
            "automargin": true,
            "type": "pie"
           }
          ],
          "scatter": [
           {
            "fillpattern": {
             "fillmode": "overlay",
             "size": 10,
             "solidity": 0.2
            },
            "type": "scatter"
           }
          ],
          "scatter3d": [
           {
            "line": {
             "colorbar": {
              "outlinewidth": 0,
              "ticks": ""
             }
            },
            "marker": {
             "colorbar": {
              "outlinewidth": 0,
              "ticks": ""
             }
            },
            "type": "scatter3d"
           }
          ],
          "scattercarpet": [
           {
            "marker": {
             "colorbar": {
              "outlinewidth": 0,
              "ticks": ""
             }
            },
            "type": "scattercarpet"
           }
          ],
          "scattergeo": [
           {
            "marker": {
             "colorbar": {
              "outlinewidth": 0,
              "ticks": ""
             }
            },
            "type": "scattergeo"
           }
          ],
          "scattergl": [
           {
            "marker": {
             "colorbar": {
              "outlinewidth": 0,
              "ticks": ""
             }
            },
            "type": "scattergl"
           }
          ],
          "scattermapbox": [
           {
            "marker": {
             "colorbar": {
              "outlinewidth": 0,
              "ticks": ""
             }
            },
            "type": "scattermapbox"
           }
          ],
          "scatterpolar": [
           {
            "marker": {
             "colorbar": {
              "outlinewidth": 0,
              "ticks": ""
             }
            },
            "type": "scatterpolar"
           }
          ],
          "scatterpolargl": [
           {
            "marker": {
             "colorbar": {
              "outlinewidth": 0,
              "ticks": ""
             }
            },
            "type": "scatterpolargl"
           }
          ],
          "scatterternary": [
           {
            "marker": {
             "colorbar": {
              "outlinewidth": 0,
              "ticks": ""
             }
            },
            "type": "scatterternary"
           }
          ],
          "surface": [
           {
            "colorbar": {
             "outlinewidth": 0,
             "ticks": ""
            },
            "colorscale": [
             [
              0,
              "#0d0887"
             ],
             [
              0.1111111111111111,
              "#46039f"
             ],
             [
              0.2222222222222222,
              "#7201a8"
             ],
             [
              0.3333333333333333,
              "#9c179e"
             ],
             [
              0.4444444444444444,
              "#bd3786"
             ],
             [
              0.5555555555555556,
              "#d8576b"
             ],
             [
              0.6666666666666666,
              "#ed7953"
             ],
             [
              0.7777777777777778,
              "#fb9f3a"
             ],
             [
              0.8888888888888888,
              "#fdca26"
             ],
             [
              1,
              "#f0f921"
             ]
            ],
            "type": "surface"
           }
          ],
          "table": [
           {
            "cells": {
             "fill": {
              "color": "#EBF0F8"
             },
             "line": {
              "color": "white"
             }
            },
            "header": {
             "fill": {
              "color": "#C8D4E3"
             },
             "line": {
              "color": "white"
             }
            },
            "type": "table"
           }
          ]
         },
         "layout": {
          "annotationdefaults": {
           "arrowcolor": "#2a3f5f",
           "arrowhead": 0,
           "arrowwidth": 1
          },
          "autotypenumbers": "strict",
          "coloraxis": {
           "colorbar": {
            "outlinewidth": 0,
            "ticks": ""
           }
          },
          "colorscale": {
           "diverging": [
            [
             0,
             "#8e0152"
            ],
            [
             0.1,
             "#c51b7d"
            ],
            [
             0.2,
             "#de77ae"
            ],
            [
             0.3,
             "#f1b6da"
            ],
            [
             0.4,
             "#fde0ef"
            ],
            [
             0.5,
             "#f7f7f7"
            ],
            [
             0.6,
             "#e6f5d0"
            ],
            [
             0.7,
             "#b8e186"
            ],
            [
             0.8,
             "#7fbc41"
            ],
            [
             0.9,
             "#4d9221"
            ],
            [
             1,
             "#276419"
            ]
           ],
           "sequential": [
            [
             0,
             "#0d0887"
            ],
            [
             0.1111111111111111,
             "#46039f"
            ],
            [
             0.2222222222222222,
             "#7201a8"
            ],
            [
             0.3333333333333333,
             "#9c179e"
            ],
            [
             0.4444444444444444,
             "#bd3786"
            ],
            [
             0.5555555555555556,
             "#d8576b"
            ],
            [
             0.6666666666666666,
             "#ed7953"
            ],
            [
             0.7777777777777778,
             "#fb9f3a"
            ],
            [
             0.8888888888888888,
             "#fdca26"
            ],
            [
             1,
             "#f0f921"
            ]
           ],
           "sequentialminus": [
            [
             0,
             "#0d0887"
            ],
            [
             0.1111111111111111,
             "#46039f"
            ],
            [
             0.2222222222222222,
             "#7201a8"
            ],
            [
             0.3333333333333333,
             "#9c179e"
            ],
            [
             0.4444444444444444,
             "#bd3786"
            ],
            [
             0.5555555555555556,
             "#d8576b"
            ],
            [
             0.6666666666666666,
             "#ed7953"
            ],
            [
             0.7777777777777778,
             "#fb9f3a"
            ],
            [
             0.8888888888888888,
             "#fdca26"
            ],
            [
             1,
             "#f0f921"
            ]
           ]
          },
          "colorway": [
           "#636efa",
           "#EF553B",
           "#00cc96",
           "#ab63fa",
           "#FFA15A",
           "#19d3f3",
           "#FF6692",
           "#B6E880",
           "#FF97FF",
           "#FECB52"
          ],
          "font": {
           "color": "#2a3f5f"
          },
          "geo": {
           "bgcolor": "white",
           "lakecolor": "white",
           "landcolor": "#E5ECF6",
           "showlakes": true,
           "showland": true,
           "subunitcolor": "white"
          },
          "hoverlabel": {
           "align": "left"
          },
          "hovermode": "closest",
          "mapbox": {
           "style": "light"
          },
          "paper_bgcolor": "white",
          "plot_bgcolor": "#E5ECF6",
          "polar": {
           "angularaxis": {
            "gridcolor": "white",
            "linecolor": "white",
            "ticks": ""
           },
           "bgcolor": "#E5ECF6",
           "radialaxis": {
            "gridcolor": "white",
            "linecolor": "white",
            "ticks": ""
           }
          },
          "scene": {
           "xaxis": {
            "backgroundcolor": "#E5ECF6",
            "gridcolor": "white",
            "gridwidth": 2,
            "linecolor": "white",
            "showbackground": true,
            "ticks": "",
            "zerolinecolor": "white"
           },
           "yaxis": {
            "backgroundcolor": "#E5ECF6",
            "gridcolor": "white",
            "gridwidth": 2,
            "linecolor": "white",
            "showbackground": true,
            "ticks": "",
            "zerolinecolor": "white"
           },
           "zaxis": {
            "backgroundcolor": "#E5ECF6",
            "gridcolor": "white",
            "gridwidth": 2,
            "linecolor": "white",
            "showbackground": true,
            "ticks": "",
            "zerolinecolor": "white"
           }
          },
          "shapedefaults": {
           "line": {
            "color": "#2a3f5f"
           }
          },
          "ternary": {
           "aaxis": {
            "gridcolor": "white",
            "linecolor": "white",
            "ticks": ""
           },
           "baxis": {
            "gridcolor": "white",
            "linecolor": "white",
            "ticks": ""
           },
           "bgcolor": "#E5ECF6",
           "caxis": {
            "gridcolor": "white",
            "linecolor": "white",
            "ticks": ""
           }
          },
          "title": {
           "x": 0.05
          },
          "xaxis": {
           "automargin": true,
           "gridcolor": "white",
           "linecolor": "white",
           "ticks": "",
           "title": {
            "standoff": 15
           },
           "zerolinecolor": "white",
           "zerolinewidth": 2
          },
          "yaxis": {
           "automargin": true,
           "gridcolor": "white",
           "linecolor": "white",
           "ticks": "",
           "title": {
            "standoff": 15
           },
           "zerolinecolor": "white",
           "zerolinewidth": 2
          }
         }
        }
       }
      }
     },
     "metadata": {},
     "output_type": "display_data"
    }
   ],
   "source": [
    "fig = px.pie(df, names='Previous_Injuries', )\n",
    "fig.show()"
   ]
  },
  {
   "cell_type": "markdown",
   "metadata": {},
   "source": [
    "### Intensidade do treino"
   ]
  },
  {
   "cell_type": "code",
   "execution_count": 54,
   "metadata": {},
   "outputs": [
    {
     "data": {
      "application/vnd.plotly.v1+json": {
       "config": {
        "plotlyServerURL": "https://plot.ly"
       },
       "data": [
        {
         "alignmentgroup": "True",
         "hovertemplate": "Training_Intensity=%{y}<extra></extra>",
         "legendgroup": "",
         "marker": {
          "color": "#636efa"
         },
         "name": "",
         "notched": false,
         "offsetgroup": "",
         "orientation": "v",
         "showlegend": false,
         "type": "box",
         "x0": " ",
         "xaxis": "x",
         "y": [
          0.4579289944340279,
          0.2265216260361057,
          0.6139703063252326,
          0.2528581182501112,
          0.5776317543444226,
          0.3592087469826903,
          0.823552226611819,
          0.8206961607667793,
          0.4773503981224013,
          0.3508191093350156,
          0.3625597965590945,
          0.8057145256682179,
          0.328179482797612,
          0.209059373706846,
          0.0846883418753068,
          0.4666931208844084,
          0.4821320989198419,
          0.8409087104029072,
          0.2212386964460639,
          0.3809912736683999,
          0.8084057388936909,
          0.8236236107489735,
          0.3846110759787682,
          0.4591240232866809,
          0.3032858908492829,
          0.932554878419312,
          0.1186437657415803,
          0.93374942300147,
          0.6838664518353432,
          0.5315721526867312,
          0.0326590607844958,
          0.4755961918220083,
          0.4077481050027323,
          0.1612188119751225,
          0.6564096035006569,
          0.9711509073682858,
          0.5621888110645251,
          0.7147532764439458,
          0.0684504525660167,
          0.4176669958169947,
          0.1163584851644958,
          0.6127958355365104,
          0.9384821582141546,
          0.6617777324716385,
          0.0768030483144215,
          0.3546662049850828,
          0.5506633794408515,
          0.4032077561332522,
          0.8336440104751723,
          0.8146710047099892,
          0.6118310201032214,
          0.3734579451327052,
          0.2553363737632441,
          0.1058743182131293,
          0.354897683486554,
          0.4131725172077195,
          0.6758229251040736,
          0.6581598242975735,
          0.0701081396412569,
          0.3952593154311578,
          0.1817788672173619,
          0.1568127053168057,
          0.8273021497372459,
          0.0419152167162575,
          0.4191828759021213,
          0.1682036557665182,
          0.879330215678474,
          0.5570405132750351,
          0.231380636376848,
          0.5024272871663764,
          0.7314863597031158,
          0.9581180089194338,
          0.2204460042454189,
          0.8861817721293451,
          0.9343041141674904,
          0.9164205445320662,
          0.6354143568619098,
          0.6298206544347077,
          0.4032106331838228,
          0.7523978823037879,
          0.5312940183509319,
          0.6774380712282945,
          0.4284579038487954,
          0.7314964640431391,
          0.8244715176045491,
          0.1464362566028161,
          0.832929715574228,
          0.5402965317903072,
          0.8446659090902243,
          0.4313017063410146,
          0.379040485383035,
          0.9150607325172224,
          0.2511692675484013,
          0.8442123252861431,
          0.4840205725094041,
          0.5140954425512597,
          0.308468281489484,
          0.5730422006190157,
          0.3252111962762113,
          0.0392694142416523,
          0.271998605344356,
          0.0063790434065906,
          0.9783547870568566,
          0.9657472098197476,
          0.395155297472305,
          0.728370854339646,
          0.345806098410425,
          0.671093157085976,
          0.8054300430459791,
          0.9467562446922408,
          0.400212275849672,
          0.7832979829560477,
          0.2659284506321188,
          0.9903323037936484,
          0.0257695987643511,
          0.603528806501121,
          0.6595059816513271,
          0.6880455570741288,
          0.120387578789089,
          0.9385297834731304,
          0.1811832790500828,
          0.6227534032398411,
          0.2226760791230849,
          0.3072164170212709,
          0.5464585417281244,
          0.4171934185645765,
          0.1602256009765063,
          0.1709364024208483,
          0.4181447881627996,
          0.7572829782755007,
          0.8979646468477885,
          0.0841276622593828,
          0.393103907559401,
          0.1002455637228766,
          0.0165924806325978,
          0.6617186826439566,
          0.6024494419665878,
          0.1630191138148862,
          0.2338128330930641,
          0.0237077536445183,
          0.8349472056944037,
          0.9746905960485516,
          0.1354595367946908,
          0.2314752137652981,
          0.868409523946934,
          0.9264637979561848,
          0.4196273828068103,
          0.0506224722690741,
          0.0393918336928194,
          0.5739498660690104,
          0.392895108893179,
          0.0286524275776545,
          0.5832523923125568,
          0.0113025365890224,
          0.787371958149273,
          0.3064328227033716,
          0.0402580030092321,
          0.5883522209831533,
          0.3976844144330547,
          0.9738004133571496,
          0.5441986625037022,
          0.2752391810370083,
          0.7094388646339748,
          0.2714920025427113,
          0.9042432914075652,
          0.3747219705073764,
          0.5498685627762052,
          0.0505731038242288,
          0.4261212379522308,
          0.832363539660995,
          0.8056488053633419,
          0.2243185588535262,
          0.2260790710105626,
          0.8173053122132368,
          0.9303984201693256,
          0.0953609212730035,
          0.4500586394262252,
          0.3374542789642289,
          0.8706884554574393,
          0.0835249146800187,
          0.2111259425580374,
          0.7524683375864943,
          0.0512938489812155,
          0.4925353807142892,
          0.44210703467972,
          0.3344011789887486,
          0.3945723153189238,
          0.5299405869302329,
          0.1613673583883831,
          0.5719958782835928,
          0.8054323292999863,
          0.760160929790159,
          0.1538999046937736,
          0.1492494697414739,
          0.2681743677449133,
          0.3610747263410372,
          0.4084555814084826,
          0.6796972168333453,
          0.0566804321658354,
          0.0346727042260663,
          0.391910562943909,
          0.6971636921379805,
          0.1934353429564825,
          0.6415044812562517,
          0.2598281379402994,
          0.8860861088135163,
          0.8956899442666165,
          0.2972872042813265,
          0.2299937539632405,
          0.4113039720662312,
          0.2405315851801487,
          0.6723838432917036,
          0.8260646845482855,
          0.673092130911217,
          0.8243504472493495,
          0.3969921622074741,
          0.1563169707088608,
          0.7379509473975921,
          0.3604745051415539,
          0.6712708252291325,
          0.2706439419817656,
          0.0812296348066726,
          0.9925817954877634,
          0.1562015079305992,
          0.988420993963481,
          0.9772799325664472,
          0.7938181039080396,
          0.6594229620819976,
          0.5778070502510847,
          0.8661015453778347,
          0.2894395216194879,
          0.467681212484877,
          0.6193899693665019,
          0.4111904758694911,
          0.427486454090268,
          0.3302846675020844,
          0.564231816684536,
          0.850574528015116,
          0.2015283780063128,
          0.9344330387534414,
          0.6890876537482297,
          0.8232732126800302,
          0.5561906926300116,
          0.7795167014240635,
          0.0162003973394672,
          0.8183804247795352,
          0.0401388590853665,
          0.8899133763628625,
          0.9919627472386432,
          0.2940674621767778,
          0.2103185562857936,
          0.7653633638580407,
          0.2530263409202532,
          0.8655623831722035,
          0.1028425921574767,
          0.1259551963793582,
          0.9791515551006156,
          0.6738388982700046,
          0.8468872244289528,
          0.324329377351518,
          0.6764837495206044,
          0.5942418273085972,
          0.603150120122947,
          0.6825324595377216,
          0.5753591731290986,
          0.4290623693026659,
          0.2759226943805468,
          0.768581330913202,
          0.2262724300031862,
          0.6923543061544142,
          0.2333328226493266,
          0.6253301699544539,
          0.7470782671290289,
          0.2187138889065392,
          0.0599433008613082,
          0.130973742994174,
          0.6059969672710255,
          0.8494464062257355,
          0.0449968212354243,
          0.7341512590416462,
          0.3413186459500521,
          0.4785283699195225,
          0.9288595498455656,
          0.3319715047358454,
          0.465336933939486,
          0.0136824147606811,
          0.0815987200048383,
          0.258591591134784,
          0.0278522408210744,
          0.631375326048251,
          0.4263983568016225,
          0.548145202728022,
          0.1746471858963295,
          0.2959320294366161,
          0.6638244748527251,
          0.9653027236303998,
          0.0504167736022092,
          0.8903843208552661,
          0.5768812013112085,
          0.5639195667556237,
          0.5002785352077603,
          0.0693940859041833,
          0.0898768517361606,
          0.6009120056590861,
          0.3409585714355583,
          0.9172680665776808,
          0.4065905373594722,
          0.143281458702641,
          0.714718833502036,
          0.2933534214410098,
          0.5254703073558932,
          0.69783278550517,
          0.9002641112020704,
          0.7921911948016761,
          0.6763610678727241,
          0.6796331823951436,
          0.9459246440320864,
          0.295824097496536,
          0.0011120941961874,
          0.2719545593981987,
          0.217891379626744,
          0.6618345851139982,
          0.633711599765529,
          0.5934613827047238,
          0.0162434432094537,
          0.7287780544506475,
          0.3235304124854915,
          0.6650559890066311,
          0.5565784285021533,
          0.3427309254279072,
          0.1345762671041077,
          0.0944188976604809,
          0.8315183331122236,
          0.918397542081558,
          0.6497880467642996,
          0.1034341148604833,
          0.4020272168882407,
          0.7289392001051572,
          0.7798208840100681,
          0.1182186222910886,
          0.00003071884538241587,
          0.712137045880605,
          0.3565961759862056,
          0.2544813316182602,
          0.0128974697895254,
          0.5402994067614997,
          0.8511507354259817,
          0.957631646272588,
          0.5657449506132892,
          0.5144613277398942,
          0.0850563854892411,
          0.5488728015425998,
          0.3799790789653946,
          0.6071352808835769,
          0.3887263478765467,
          0.2402991234503667,
          0.0949652752283765,
          0.3149184445888957,
          0.0966448342877522,
          0.1768969508239839,
          0.987336158579546,
          0.4441035569066186,
          0.5318717665050166,
          0.8736185287372153,
          0.9955689004906878,
          0.5827144493446815,
          0.8124738210441717,
          0.3269410243366752,
          0.3057439574472911,
          0.4027037209945602,
          0.6725072626736491,
          0.6821916892550988,
          0.3152394346494508,
          0.1332099241366287,
          0.6323962564655086,
          0.1283258621887645,
          0.5784925082293301,
          0.693422128056309,
          0.7006114963944516,
          0.7534721106595967,
          0.8728594215656645,
          0.4999589919647884,
          0.7302491895295712,
          0.6191727353658367,
          0.1866399397976825,
          0.0256896448694081,
          0.2845413856769337,
          0.4430337063376194,
          0.6171059444286563,
          0.8499593305032054,
          0.1962457167061656,
          0.1255497898984771,
          0.9634799474743276,
          0.1080445593764071,
          0.4784910701071891,
          0.5855637287933019,
          0.5413744209074383,
          0.0860321570329432,
          0.0570269140036193,
          0.1054834274610356,
          0.5855876838726125,
          0.5443448876343211,
          0.2337407920367442,
          0.6377741418455916,
          0.8200675020556494,
          0.0415789598465937,
          0.4981299435480424,
          0.6893104121026903,
          0.2523119270696871,
          0.3077709052931491,
          0.6136379029893838,
          0.8979352934437369,
          0.8099244203028994,
          0.5831302190995835,
          0.7302217177572492,
          0.3648224702077987,
          0.6409655280987577,
          0.4661815911275569,
          0.1899361364575609,
          0.7017382738772572,
          0.556464637348822,
          0.3586215819535914,
          0.9113391900786308,
          0.0209341178267332,
          0.315773151249496,
          0.0568813977776465,
          0.7665273162216272,
          0.7021074541137926,
          0.331352218736317,
          0.675662902207073,
          0.3959372261959498,
          0.7562537914224343,
          0.4541836627367061,
          0.4122797278316655,
          0.934729915488301,
          0.2508790998907002,
          0.1204473399965654,
          0.5845431132594582,
          0.9693218122841788,
          0.3778392137271866,
          0.0620367636287815,
          0.3393052673095674,
          0.5059316543195584,
          0.1619230066322137,
          0.658102218056492,
          0.9977493890102006,
          0.4517394759814438,
          0.3547285567302126,
          0.4007041668344666,
          0.1151461783952011,
          0.8832736014262238,
          0.414825655521352,
          0.3872744114248413,
          0.6596902729304743,
          0.4420334209311235,
          0.648233468807846,
          0.0614462901307875,
          0.8137233437222274,
          0.9405039528794026,
          0.648765386159386,
          0.9545659288588108,
          0.1514323143699633,
          0.4774161894803537,
          0.6018067339454473,
          0.5817366474211867,
          0.4014617790890432,
          0.3380844093662614,
          0.1268240225504188,
          0.3917424505622782,
          0.1626608151054851,
          0.7343656764922184,
          0.2088309354945899,
          0.0585653052845338,
          0.5523661378172343,
          0.5952297327194016,
          0.8719130612805055,
          0.5769816124176819,
          0.3454808537234457,
          0.8030118815263205,
          0.5402788931874211,
          0.0792802846311917,
          0.5658505603132467,
          0.9080185454216624,
          0.3963126254982205,
          0.2963258018998,
          0.14346945701802,
          0.1514455219353573,
          0.4327714843418189,
          0.5956798241615295,
          0.0806154051696017,
          0.9395685890251656,
          0.7551336174451959,
          0.5866239182836627,
          0.8284386709389908,
          0.0801867568121132,
          0.4768388777331244,
          0.6300931268616634,
          0.8286529061182892,
          0.7834695600492677,
          0.2770692497133996,
          0.9408801695592044,
          0.1243458414308703,
          0.8751336186211521,
          0.9709402496046186,
          0.1771535232226255,
          0.7220660642037853,
          0.0402855187779984,
          0.4054228251391549,
          0.516283299197674,
          0.5806452259096341,
          0.9359372482485596,
          0.6722506872941947,
          0.481277951219237,
          0.8096750362658893,
          0.9505328209544088,
          0.0220661486822908,
          0.9825212722560388,
          0.0861321390636803,
          0.8143867792687614,
          0.2803347525514125,
          0.1321796577538717,
          0.4398556397138349,
          0.6439565794476135,
          0.380951845023475,
          0.0545654082826989,
          0.5994611396587166,
          0.9024032761106748,
          0.3832153659472517,
          0.216332777630827,
          0.4425773459328154,
          0.0483627110487808,
          0.8204875844802748,
          0.8263408109501867,
          0.5880004634296284,
          0.3531028889383895,
          0.7997833644457834,
          0.5546870247883672,
          0.8259323085500162,
          0.6314587925830206,
          0.7844054732127973,
          0.59856299321776,
          0.4141410682156662,
          0.9579458599261376,
          0.5411138248788447,
          0.6050895185405384,
          0.2204876394147492,
          0.6256507894272765,
          0.5716076494829438,
          0.1848383979470249,
          0.0595870973531437,
          0.6043593197147711,
          0.7636922693503205,
          0.5234013709220082,
          0.2267726253196457,
          0.6665219766930349,
          0.0801057266096022,
          0.4418337048019546,
          0.1633667583984202,
          0.1844590510598833,
          0.2022939491582036,
          0.3867070570439779,
          0.0511502056203976,
          0.3977934409290982,
          0.5117074471147008,
          0.4832942849663252,
          0.3827841004030405,
          0.8391466080707525,
          0.1453266924205041,
          0.505696743781374,
          0.0620414169565542,
          0.0711556788779097,
          0.5738658496770963,
          0.566018424887821,
          0.878033512844457,
          0.5578736756600732,
          0.9597910204048502,
          0.0486948483999297,
          0.098007684780741,
          0.0440658615703813,
          0.18527685033354,
          0.5412701109416781,
          0.645572181427428,
          0.0455851579486688,
          0.9459708898455992,
          0.842165376650381,
          0.2966124821570931,
          0.0771875302264679,
          0.1698870732190572,
          0.1269444137549726,
          0.1232837792989468,
          0.5185616886657339,
          0.2458474424934003,
          0.3581397165291444,
          0.9895053333843224,
          0.6843142489253448,
          0.9489806670470012,
          0.1425565550331156,
          0.3821394748325692,
          0.5547318032823543,
          0.076758061888738,
          0.0041874436279578,
          0.6704343337969175,
          0.6418195168014353,
          0.4107888099996117,
          0.4896440760320326,
          0.4154430005920896,
          0.0240050448448888,
          0.3353716062174624,
          0.1770822553972898,
          0.0984241891013687,
          0.9567204338893498,
          0.5993597250421656,
          0.7286562842366027,
          0.3153637432661175,
          0.3931471294940152,
          0.2369239938967234,
          0.0969656709654247,
          0.1790316374415838,
          0.7975140452964858,
          0.6775458051837758,
          0.5469288759854769,
          0.475089872866768,
          0.9224342836561245,
          0.0727349477786684,
          0.2806008132379159,
          0.349937853570714,
          0.7824258122127878,
          0.9925146201619712,
          0.240670514757153,
          0.8743073341370806,
          0.8306227604317913,
          0.2246573976417666,
          0.3993325801992226,
          0.4096728692925191,
          0.9782206685265584,
          0.1808919013788983,
          0.799157971104782,
          0.3341927141731099,
          0.7308703457761604,
          0.4200110042956628,
          0.57835976311654,
          0.8326117733261311,
          0.8041655649838841,
          0.8664231835397002,
          0.059617325344659,
          0.6920505530397448,
          0.1399873767217628,
          0.415818568018411,
          0.5485884150546885,
          0.4027394847468307,
          0.5196116758030075,
          0.9965263087986193,
          0.1352173137128547,
          0.6754560453364256,
          0.3960009663856152,
          0.1330097989073287,
          0.1587367633743095,
          0.9492731062456168,
          0.879601496711762,
          0.9070419604150218,
          0.9915327758273864,
          0.2083153900085179,
          0.3554393373640617,
          0.6692190299248667,
          0.4838025398606472,
          0.4183895333783335,
          0.357811249335593,
          0.5937806319434522,
          0.575593428640082,
          0.16145783406424,
          0.471739837518439,
          0.5534717762098499,
          0.5702869387313905,
          0.2101071929123518,
          0.7422713922522868,
          0.0251990948210696,
          0.3548318555431626,
          0.7802126485356335,
          0.5638929210554023,
          0.2611624325108602,
          0.6949531193430477,
          0.5673909441560734,
          0.7962436094563872,
          0.7350251861898234,
          0.6101079220362347,
          0.488177675310814,
          0.1331821256675234,
          0.2613330178853837,
          0.4190994729170852,
          0.5992992870063887,
          0.5137078552153048,
          0.2881845259595295,
          0.0064643577897105,
          0.4962392219008139,
          0.2856259885622431,
          0.7346083007105351,
          0.0239462652704834,
          0.5848278113057909,
          0.9414742375060654,
          0.1744092671114995,
          0.4716494907505953,
          0.0914219918171381,
          0.6256819122613526,
          0.5505316805962256,
          0.4073655242128323,
          0.5213770214737412,
          0.8965746584690102,
          0.196294302311067,
          0.0225645117053472,
          0.861664884699101,
          0.5771170823879065,
          0.8906584554618424,
          0.5969452234131726,
          0.8101610899597025,
          0.4296733633551479,
          0.7498599312882688,
          0.913041466889856,
          0.5721229637222063,
          0.1807851505623795,
          0.2687976150301981,
          0.1986445768974057,
          0.2468570275957329,
          0.3064154493510364,
          0.5551337867531885,
          0.5879916294638328,
          0.4264997472418611,
          0.6154207798208354,
          0.0815749256113659,
          0.0877882370581599,
          0.1718294603576584,
          0.5180774980403448,
          0.2139946786983135,
          0.2832844034925773,
          0.400312836172994,
          0.8118661240103798,
          0.0138621359128601,
          0.6493788202366224,
          0.6688765310406853,
          0.7986557803566365,
          0.9327529390603132,
          0.0201378489492898,
          0.1537837055132161,
          0.886171294055993,
          0.4585185621870153,
          0.5645906389334635,
          0.6630272037231474,
          0.6790666044956374,
          0.9317404033165082,
          0.9969494174116696,
          0.7201574609309402,
          0.2872212092051508,
          0.8797524022943436,
          0.0492209145407616,
          0.2310808528744962,
          0.8973857174637149,
          0.2561915144393549,
          0.2206510596217484,
          0.1381252931402472,
          0.8591117576469165,
          0.5000582591910867,
          0.6748932030541548,
          0.2390663840750296,
          0.7580404210112165,
          0.7600055449620985,
          0.3125980249083001,
          0.4106826330102828,
          0.2096902774302008,
          0.9765610233229044,
          0.6456025770584116,
          0.9345438807155156,
          0.3033855436291331,
          0.7818909129968897,
          0.765858643884742,
          0.6916556518665415,
          0.9656389752668004,
          0.3935553361063155,
          0.1307173235897573,
          0.6717088592440608,
          0.7293098004772062,
          0.5750605734588147,
          0.2068178931333962,
          0.5044559416693554,
          0.3121897365691294,
          0.427466528166689,
          0.6452185758446639,
          0.7452147426908345,
          0.2322246909013431,
          0.4053253606469533,
          0.2691615709916292,
          0.1986316138618691,
          0.7833872199958384,
          0.9092526944369924,
          0.3702321856845767,
          0.7512789243737669,
          0.8969952893644111,
          0.8461242105302316,
          0.1828133885392259,
          0.9562918815133612,
          0.3766764404294624,
          0.3392406611738363,
          0.0624313272777803,
          0.486173654104883,
          0.1090136156409287,
          0.248539820927426,
          0.3169426217672814,
          0.808826323491684,
          0.8754886503958965,
          0.3024663174614697,
          0.8586981212445739,
          0.8572309373697911,
          0.7646509503848735,
          0.1466951140151815,
          0.690322846900729,
          0.9450240645805688,
          0.6825404787671571,
          0.3316168491078339,
          0.5005793174308313,
          0.6457250433510536,
          0.5105704087285036,
          0.1199529417309698,
          0.3120640446520206,
          0.8023960305536325,
          0.8614180460955174,
          0.1373000327155702,
          0.9523867523987246,
          0.3288226178486093,
          0.66231373873072,
          0.7518251459566812,
          0.8119462346378834,
          0.94574970222593,
          0.3129195480288226,
          0.8585064545515545,
          0.131686903436207,
          0.7050409063535927,
          0.7419777295139859,
          0.6777232412013204,
          0.252314736135153,
          0.8730431470152034,
          0.168858463370395,
          0.0536347915208308,
          0.7174649906119122,
          0.4754757152327337,
          0.8490980199586761,
          0.3833971410582589,
          0.1682785885077128,
          0.8364421924698697,
          0.5489096316400717,
          0.1891957923903549,
          0.7203839985864458,
          0.5111136384895005,
          0.6043129822403198,
          0.4608983382065819,
          0.8287089838180064,
          0.8295627156830498,
          0.7093888218243862,
          0.1054013773964622,
          0.8388538619040689,
          0.6710129805329098,
          0.6970241660042995,
          0.3629828404038716,
          0.8792795561570067,
          0.7253716002348575,
          0.1125904665291944,
          0.4077780344061626,
          0.8863803619601417,
          0.0471967016973789,
          0.9614166196420496,
          0.6791625683195628,
          0.6313759776433766,
          0.2705592564879914,
          0.248791788739177,
          0.9420582194885956,
          0.2982724542341227,
          0.7755052967189994,
          0.3931217982070791,
          0.1392540707847039,
          0.0107152976953589,
          0.5442573370152508,
          0.9757788185489328,
          0.3691361938092045,
          0.3571923339930448,
          0.3440916178494421,
          0.5205438373048584,
          0.4406648834242935,
          0.8799146267270145,
          0.5055207917234903,
          0.5077578381885688,
          0.1383715947205566,
          0.982739540910386,
          0.2499728908688296,
          0.0733640674596026,
          0.6631462489752088,
          0.5953663701568727,
          0.4151456539927457,
          0.422192233880678,
          0.7850639210464312,
          0.195712640099649,
          0.8202533189448897,
          0.6487471138950182,
          0.4189697737795244,
          0.4580286165838686,
          0.2566472071860958,
          0.7521143326969748,
          0.5128747423052678,
          0.3208545427498436,
          0.5960501157609502,
          0.995734452051323,
          0.4352622796565538,
          0.9206914007786196,
          0.3450168399245661,
          0.0547327069249858,
          0.2042421063684288,
          0.4186951433276842,
          0.219634928594569,
          0.0002270382182555,
          0.9150015377475272,
          0.843879411230929,
          0.7422922314869471,
          0.1678145956460286,
          0.120363576209986,
          0.0676047494723831,
          0.7240291887729212,
          0.9288079606878852,
          0.430535820913037,
          0.1191406719960481,
          0.5123928207321066,
          0.3488319074586301,
          0.3748249243499977,
          0.6213306241557073,
          0.7187181132622024,
          0.1106035988731608,
          0.0355902308064763,
          0.9943303026857148,
          0.2327283489155518,
          0.053830524908459,
          0.1898753290959199,
          0.0389578463484642,
          0.3918108946171716,
          0.8024017844513243,
          0.3412444497577206,
          0.4441834068783665,
          0.6755867735674388,
          0.5088940700698802,
          0.8614456860213242,
          0.8660356750457565,
          0.0099106954911536,
          0.7780463064831992,
          0.4607336002416738,
          0.9888405413036632,
          0.4832320758754351,
          0.9868959453882976,
          0.7545693612057366,
          0.2486048846133063,
          0.5383949792869577,
          0.9921356394785829,
          0.8575306077519237,
          0.0973668937912211,
          0.7063719968099961,
          0.345579585870813,
          0.0069822618803481,
          0.4034809690269996,
          0.2347544217249713,
          0.8188692705204715,
          0.3373306088457655,
          0.8275236939538171,
          0.0005979388347953,
          0.3078191500261191,
          0.2411652143077619,
          0.2335673610686109,
          0.0681866197654627,
          0.1871242704105017,
          0.5555495698856199,
          0.2913610728377445,
          0.4173947823291479,
          0.3768668803471885,
          0.8759049249998946,
          0.9052989990105156,
          0.49295697165586,
          0.3301559503156044,
          0.1068007040023636,
          0.953402879382095,
          0.0602269449002974,
          0.2976502775682804,
          0.2980662011700041,
          0.3204012861402149,
          0.1642868432724092,
          0.7831614309236972,
          0.1224978619659892,
          0.6349066591531628,
          0.1238460267058174,
          0.0705356375929565,
          0.9094295036858764,
          0.1901287663187056,
          0.8212501545597043,
          0.5446308711071358,
          0.0778565196087696,
          0.9554481914380676,
          0.2469611669918925,
          0.8596453453526065,
          0.1688100057845641
         ],
         "y0": " ",
         "yaxis": "y"
        }
       ],
       "layout": {
        "boxmode": "group",
        "legend": {
         "tracegroupgap": 0
        },
        "margin": {
         "t": 60
        },
        "template": {
         "data": {
          "bar": [
           {
            "error_x": {
             "color": "#2a3f5f"
            },
            "error_y": {
             "color": "#2a3f5f"
            },
            "marker": {
             "line": {
              "color": "#E5ECF6",
              "width": 0.5
             },
             "pattern": {
              "fillmode": "overlay",
              "size": 10,
              "solidity": 0.2
             }
            },
            "type": "bar"
           }
          ],
          "barpolar": [
           {
            "marker": {
             "line": {
              "color": "#E5ECF6",
              "width": 0.5
             },
             "pattern": {
              "fillmode": "overlay",
              "size": 10,
              "solidity": 0.2
             }
            },
            "type": "barpolar"
           }
          ],
          "carpet": [
           {
            "aaxis": {
             "endlinecolor": "#2a3f5f",
             "gridcolor": "white",
             "linecolor": "white",
             "minorgridcolor": "white",
             "startlinecolor": "#2a3f5f"
            },
            "baxis": {
             "endlinecolor": "#2a3f5f",
             "gridcolor": "white",
             "linecolor": "white",
             "minorgridcolor": "white",
             "startlinecolor": "#2a3f5f"
            },
            "type": "carpet"
           }
          ],
          "choropleth": [
           {
            "colorbar": {
             "outlinewidth": 0,
             "ticks": ""
            },
            "type": "choropleth"
           }
          ],
          "contour": [
           {
            "colorbar": {
             "outlinewidth": 0,
             "ticks": ""
            },
            "colorscale": [
             [
              0,
              "#0d0887"
             ],
             [
              0.1111111111111111,
              "#46039f"
             ],
             [
              0.2222222222222222,
              "#7201a8"
             ],
             [
              0.3333333333333333,
              "#9c179e"
             ],
             [
              0.4444444444444444,
              "#bd3786"
             ],
             [
              0.5555555555555556,
              "#d8576b"
             ],
             [
              0.6666666666666666,
              "#ed7953"
             ],
             [
              0.7777777777777778,
              "#fb9f3a"
             ],
             [
              0.8888888888888888,
              "#fdca26"
             ],
             [
              1,
              "#f0f921"
             ]
            ],
            "type": "contour"
           }
          ],
          "contourcarpet": [
           {
            "colorbar": {
             "outlinewidth": 0,
             "ticks": ""
            },
            "type": "contourcarpet"
           }
          ],
          "heatmap": [
           {
            "colorbar": {
             "outlinewidth": 0,
             "ticks": ""
            },
            "colorscale": [
             [
              0,
              "#0d0887"
             ],
             [
              0.1111111111111111,
              "#46039f"
             ],
             [
              0.2222222222222222,
              "#7201a8"
             ],
             [
              0.3333333333333333,
              "#9c179e"
             ],
             [
              0.4444444444444444,
              "#bd3786"
             ],
             [
              0.5555555555555556,
              "#d8576b"
             ],
             [
              0.6666666666666666,
              "#ed7953"
             ],
             [
              0.7777777777777778,
              "#fb9f3a"
             ],
             [
              0.8888888888888888,
              "#fdca26"
             ],
             [
              1,
              "#f0f921"
             ]
            ],
            "type": "heatmap"
           }
          ],
          "heatmapgl": [
           {
            "colorbar": {
             "outlinewidth": 0,
             "ticks": ""
            },
            "colorscale": [
             [
              0,
              "#0d0887"
             ],
             [
              0.1111111111111111,
              "#46039f"
             ],
             [
              0.2222222222222222,
              "#7201a8"
             ],
             [
              0.3333333333333333,
              "#9c179e"
             ],
             [
              0.4444444444444444,
              "#bd3786"
             ],
             [
              0.5555555555555556,
              "#d8576b"
             ],
             [
              0.6666666666666666,
              "#ed7953"
             ],
             [
              0.7777777777777778,
              "#fb9f3a"
             ],
             [
              0.8888888888888888,
              "#fdca26"
             ],
             [
              1,
              "#f0f921"
             ]
            ],
            "type": "heatmapgl"
           }
          ],
          "histogram": [
           {
            "marker": {
             "pattern": {
              "fillmode": "overlay",
              "size": 10,
              "solidity": 0.2
             }
            },
            "type": "histogram"
           }
          ],
          "histogram2d": [
           {
            "colorbar": {
             "outlinewidth": 0,
             "ticks": ""
            },
            "colorscale": [
             [
              0,
              "#0d0887"
             ],
             [
              0.1111111111111111,
              "#46039f"
             ],
             [
              0.2222222222222222,
              "#7201a8"
             ],
             [
              0.3333333333333333,
              "#9c179e"
             ],
             [
              0.4444444444444444,
              "#bd3786"
             ],
             [
              0.5555555555555556,
              "#d8576b"
             ],
             [
              0.6666666666666666,
              "#ed7953"
             ],
             [
              0.7777777777777778,
              "#fb9f3a"
             ],
             [
              0.8888888888888888,
              "#fdca26"
             ],
             [
              1,
              "#f0f921"
             ]
            ],
            "type": "histogram2d"
           }
          ],
          "histogram2dcontour": [
           {
            "colorbar": {
             "outlinewidth": 0,
             "ticks": ""
            },
            "colorscale": [
             [
              0,
              "#0d0887"
             ],
             [
              0.1111111111111111,
              "#46039f"
             ],
             [
              0.2222222222222222,
              "#7201a8"
             ],
             [
              0.3333333333333333,
              "#9c179e"
             ],
             [
              0.4444444444444444,
              "#bd3786"
             ],
             [
              0.5555555555555556,
              "#d8576b"
             ],
             [
              0.6666666666666666,
              "#ed7953"
             ],
             [
              0.7777777777777778,
              "#fb9f3a"
             ],
             [
              0.8888888888888888,
              "#fdca26"
             ],
             [
              1,
              "#f0f921"
             ]
            ],
            "type": "histogram2dcontour"
           }
          ],
          "mesh3d": [
           {
            "colorbar": {
             "outlinewidth": 0,
             "ticks": ""
            },
            "type": "mesh3d"
           }
          ],
          "parcoords": [
           {
            "line": {
             "colorbar": {
              "outlinewidth": 0,
              "ticks": ""
             }
            },
            "type": "parcoords"
           }
          ],
          "pie": [
           {
            "automargin": true,
            "type": "pie"
           }
          ],
          "scatter": [
           {
            "fillpattern": {
             "fillmode": "overlay",
             "size": 10,
             "solidity": 0.2
            },
            "type": "scatter"
           }
          ],
          "scatter3d": [
           {
            "line": {
             "colorbar": {
              "outlinewidth": 0,
              "ticks": ""
             }
            },
            "marker": {
             "colorbar": {
              "outlinewidth": 0,
              "ticks": ""
             }
            },
            "type": "scatter3d"
           }
          ],
          "scattercarpet": [
           {
            "marker": {
             "colorbar": {
              "outlinewidth": 0,
              "ticks": ""
             }
            },
            "type": "scattercarpet"
           }
          ],
          "scattergeo": [
           {
            "marker": {
             "colorbar": {
              "outlinewidth": 0,
              "ticks": ""
             }
            },
            "type": "scattergeo"
           }
          ],
          "scattergl": [
           {
            "marker": {
             "colorbar": {
              "outlinewidth": 0,
              "ticks": ""
             }
            },
            "type": "scattergl"
           }
          ],
          "scattermapbox": [
           {
            "marker": {
             "colorbar": {
              "outlinewidth": 0,
              "ticks": ""
             }
            },
            "type": "scattermapbox"
           }
          ],
          "scatterpolar": [
           {
            "marker": {
             "colorbar": {
              "outlinewidth": 0,
              "ticks": ""
             }
            },
            "type": "scatterpolar"
           }
          ],
          "scatterpolargl": [
           {
            "marker": {
             "colorbar": {
              "outlinewidth": 0,
              "ticks": ""
             }
            },
            "type": "scatterpolargl"
           }
          ],
          "scatterternary": [
           {
            "marker": {
             "colorbar": {
              "outlinewidth": 0,
              "ticks": ""
             }
            },
            "type": "scatterternary"
           }
          ],
          "surface": [
           {
            "colorbar": {
             "outlinewidth": 0,
             "ticks": ""
            },
            "colorscale": [
             [
              0,
              "#0d0887"
             ],
             [
              0.1111111111111111,
              "#46039f"
             ],
             [
              0.2222222222222222,
              "#7201a8"
             ],
             [
              0.3333333333333333,
              "#9c179e"
             ],
             [
              0.4444444444444444,
              "#bd3786"
             ],
             [
              0.5555555555555556,
              "#d8576b"
             ],
             [
              0.6666666666666666,
              "#ed7953"
             ],
             [
              0.7777777777777778,
              "#fb9f3a"
             ],
             [
              0.8888888888888888,
              "#fdca26"
             ],
             [
              1,
              "#f0f921"
             ]
            ],
            "type": "surface"
           }
          ],
          "table": [
           {
            "cells": {
             "fill": {
              "color": "#EBF0F8"
             },
             "line": {
              "color": "white"
             }
            },
            "header": {
             "fill": {
              "color": "#C8D4E3"
             },
             "line": {
              "color": "white"
             }
            },
            "type": "table"
           }
          ]
         },
         "layout": {
          "annotationdefaults": {
           "arrowcolor": "#2a3f5f",
           "arrowhead": 0,
           "arrowwidth": 1
          },
          "autotypenumbers": "strict",
          "coloraxis": {
           "colorbar": {
            "outlinewidth": 0,
            "ticks": ""
           }
          },
          "colorscale": {
           "diverging": [
            [
             0,
             "#8e0152"
            ],
            [
             0.1,
             "#c51b7d"
            ],
            [
             0.2,
             "#de77ae"
            ],
            [
             0.3,
             "#f1b6da"
            ],
            [
             0.4,
             "#fde0ef"
            ],
            [
             0.5,
             "#f7f7f7"
            ],
            [
             0.6,
             "#e6f5d0"
            ],
            [
             0.7,
             "#b8e186"
            ],
            [
             0.8,
             "#7fbc41"
            ],
            [
             0.9,
             "#4d9221"
            ],
            [
             1,
             "#276419"
            ]
           ],
           "sequential": [
            [
             0,
             "#0d0887"
            ],
            [
             0.1111111111111111,
             "#46039f"
            ],
            [
             0.2222222222222222,
             "#7201a8"
            ],
            [
             0.3333333333333333,
             "#9c179e"
            ],
            [
             0.4444444444444444,
             "#bd3786"
            ],
            [
             0.5555555555555556,
             "#d8576b"
            ],
            [
             0.6666666666666666,
             "#ed7953"
            ],
            [
             0.7777777777777778,
             "#fb9f3a"
            ],
            [
             0.8888888888888888,
             "#fdca26"
            ],
            [
             1,
             "#f0f921"
            ]
           ],
           "sequentialminus": [
            [
             0,
             "#0d0887"
            ],
            [
             0.1111111111111111,
             "#46039f"
            ],
            [
             0.2222222222222222,
             "#7201a8"
            ],
            [
             0.3333333333333333,
             "#9c179e"
            ],
            [
             0.4444444444444444,
             "#bd3786"
            ],
            [
             0.5555555555555556,
             "#d8576b"
            ],
            [
             0.6666666666666666,
             "#ed7953"
            ],
            [
             0.7777777777777778,
             "#fb9f3a"
            ],
            [
             0.8888888888888888,
             "#fdca26"
            ],
            [
             1,
             "#f0f921"
            ]
           ]
          },
          "colorway": [
           "#636efa",
           "#EF553B",
           "#00cc96",
           "#ab63fa",
           "#FFA15A",
           "#19d3f3",
           "#FF6692",
           "#B6E880",
           "#FF97FF",
           "#FECB52"
          ],
          "font": {
           "color": "#2a3f5f"
          },
          "geo": {
           "bgcolor": "white",
           "lakecolor": "white",
           "landcolor": "#E5ECF6",
           "showlakes": true,
           "showland": true,
           "subunitcolor": "white"
          },
          "hoverlabel": {
           "align": "left"
          },
          "hovermode": "closest",
          "mapbox": {
           "style": "light"
          },
          "paper_bgcolor": "white",
          "plot_bgcolor": "#E5ECF6",
          "polar": {
           "angularaxis": {
            "gridcolor": "white",
            "linecolor": "white",
            "ticks": ""
           },
           "bgcolor": "#E5ECF6",
           "radialaxis": {
            "gridcolor": "white",
            "linecolor": "white",
            "ticks": ""
           }
          },
          "scene": {
           "xaxis": {
            "backgroundcolor": "#E5ECF6",
            "gridcolor": "white",
            "gridwidth": 2,
            "linecolor": "white",
            "showbackground": true,
            "ticks": "",
            "zerolinecolor": "white"
           },
           "yaxis": {
            "backgroundcolor": "#E5ECF6",
            "gridcolor": "white",
            "gridwidth": 2,
            "linecolor": "white",
            "showbackground": true,
            "ticks": "",
            "zerolinecolor": "white"
           },
           "zaxis": {
            "backgroundcolor": "#E5ECF6",
            "gridcolor": "white",
            "gridwidth": 2,
            "linecolor": "white",
            "showbackground": true,
            "ticks": "",
            "zerolinecolor": "white"
           }
          },
          "shapedefaults": {
           "line": {
            "color": "#2a3f5f"
           }
          },
          "ternary": {
           "aaxis": {
            "gridcolor": "white",
            "linecolor": "white",
            "ticks": ""
           },
           "baxis": {
            "gridcolor": "white",
            "linecolor": "white",
            "ticks": ""
           },
           "bgcolor": "#E5ECF6",
           "caxis": {
            "gridcolor": "white",
            "linecolor": "white",
            "ticks": ""
           }
          },
          "title": {
           "x": 0.05
          },
          "xaxis": {
           "automargin": true,
           "gridcolor": "white",
           "linecolor": "white",
           "ticks": "",
           "title": {
            "standoff": 15
           },
           "zerolinecolor": "white",
           "zerolinewidth": 2
          },
          "yaxis": {
           "automargin": true,
           "gridcolor": "white",
           "linecolor": "white",
           "ticks": "",
           "title": {
            "standoff": 15
           },
           "zerolinecolor": "white",
           "zerolinewidth": 2
          }
         }
        },
        "xaxis": {
         "anchor": "y",
         "domain": [
          0,
          1
         ]
        },
        "yaxis": {
         "anchor": "x",
         "domain": [
          0,
          1
         ],
         "title": {
          "text": "Training_Intensity"
         }
        }
       }
      }
     },
     "metadata": {},
     "output_type": "display_data"
    }
   ],
   "source": [
    "fig = px.box(df, y='Training_Intensity')\n",
    "fig.show()\n"
   ]
  },
  {
   "cell_type": "markdown",
   "metadata": {},
   "source": [
    "### Tempo de recuperação em dias"
   ]
  },
  {
   "cell_type": "code",
   "execution_count": 65,
   "metadata": {},
   "outputs": [
    {
     "data": {
      "application/vnd.plotly.v1+json": {
       "config": {
        "plotlyServerURL": "https://plot.ly"
       },
       "data": [
        {
         "alignmentgroup": "True",
         "hovertemplate": "Recovery_Time=%{y}<extra></extra>",
         "legendgroup": "",
         "marker": {
          "color": "#636efa"
         },
         "name": "",
         "notched": false,
         "offsetgroup": "",
         "orientation": "v",
         "showlegend": false,
         "type": "box",
         "x0": " ",
         "xaxis": "x",
         "y": [
          5,
          6,
          2,
          4,
          1,
          4,
          2,
          3,
          1,
          1,
          3,
          4,
          5,
          4,
          2,
          6,
          5,
          4,
          6,
          6,
          3,
          2,
          2,
          2,
          5,
          1,
          5,
          4,
          6,
          6,
          1,
          4,
          1,
          6,
          5,
          2,
          6,
          3,
          2,
          6,
          5,
          1,
          2,
          5,
          4,
          3,
          2,
          1,
          4,
          5,
          3,
          1,
          5,
          5,
          2,
          2,
          1,
          6,
          6,
          5,
          2,
          3,
          3,
          5,
          2,
          1,
          1,
          1,
          3,
          2,
          2,
          3,
          1,
          1,
          5,
          6,
          4,
          6,
          2,
          2,
          2,
          6,
          4,
          5,
          6,
          4,
          1,
          1,
          2,
          3,
          2,
          3,
          4,
          1,
          6,
          3,
          4,
          1,
          6,
          3,
          2,
          2,
          2,
          4,
          2,
          5,
          1,
          4,
          6,
          2,
          1,
          3,
          2,
          1,
          5,
          3,
          5,
          6,
          1,
          5,
          6,
          1,
          1,
          5,
          1,
          2,
          1,
          4,
          6,
          1,
          4,
          1,
          1,
          5,
          2,
          6,
          2,
          3,
          5,
          5,
          2,
          5,
          2,
          5,
          1,
          2,
          2,
          4,
          5,
          5,
          2,
          1,
          1,
          6,
          1,
          5,
          4,
          2,
          3,
          4,
          3,
          4,
          1,
          5,
          3,
          4,
          5,
          3,
          2,
          4,
          2,
          1,
          2,
          2,
          6,
          4,
          1,
          2,
          5,
          3,
          2,
          1,
          2,
          3,
          1,
          4,
          1,
          4,
          1,
          3,
          3,
          1,
          2,
          3,
          4,
          4,
          5,
          6,
          6,
          6,
          4,
          5,
          6,
          6,
          1,
          1,
          1,
          2,
          6,
          2,
          5,
          4,
          6,
          4,
          1,
          6,
          3,
          2,
          2,
          6,
          1,
          2,
          1,
          5,
          4,
          3,
          4,
          4,
          5,
          2,
          3,
          2,
          6,
          4,
          6,
          1,
          4,
          2,
          4,
          1,
          5,
          6,
          6,
          2,
          4,
          2,
          5,
          4,
          4,
          2,
          2,
          1,
          5,
          1,
          6,
          4,
          2,
          4,
          4,
          3,
          6,
          3,
          4,
          2,
          4,
          6,
          3,
          2,
          4,
          5,
          6,
          6,
          5,
          4,
          6,
          2,
          4,
          4,
          3,
          6,
          6,
          5,
          3,
          3,
          6,
          4,
          3,
          5,
          3,
          5,
          3,
          5,
          3,
          3,
          2,
          5,
          5,
          5,
          1,
          3,
          5,
          6,
          1,
          2,
          5,
          5,
          1,
          3,
          6,
          2,
          5,
          3,
          6,
          6,
          2,
          4,
          6,
          4,
          6,
          2,
          1,
          2,
          2,
          1,
          1,
          3,
          6,
          3,
          1,
          4,
          4,
          2,
          5,
          2,
          2,
          5,
          6,
          1,
          4,
          2,
          5,
          3,
          2,
          4,
          1,
          2,
          2,
          6,
          5,
          3,
          3,
          1,
          4,
          1,
          2,
          2,
          3,
          4,
          5,
          4,
          2,
          5,
          4,
          4,
          5,
          2,
          4,
          5,
          6,
          6,
          2,
          5,
          6,
          5,
          4,
          2,
          6,
          4,
          1,
          1,
          2,
          6,
          6,
          6,
          5,
          4,
          6,
          4,
          2,
          6,
          2,
          6,
          1,
          3,
          2,
          6,
          3,
          2,
          5,
          6,
          5,
          1,
          6,
          1,
          3,
          2,
          4,
          1,
          4,
          4,
          2,
          3,
          2,
          6,
          1,
          4,
          2,
          2,
          2,
          1,
          3,
          2,
          1,
          4,
          6,
          5,
          1,
          5,
          2,
          2,
          1,
          5,
          2,
          4,
          3,
          3,
          2,
          5,
          6,
          2,
          6,
          6,
          5,
          6,
          4,
          5,
          2,
          4,
          1,
          3,
          2,
          2,
          2,
          4,
          1,
          5,
          1,
          4,
          2,
          3,
          2,
          5,
          6,
          3,
          2,
          3,
          6,
          1,
          4,
          2,
          5,
          1,
          2,
          1,
          5,
          2,
          6,
          6,
          5,
          3,
          5,
          3,
          2,
          3,
          2,
          2,
          4,
          2,
          3,
          4,
          4,
          2,
          5,
          5,
          6,
          4,
          2,
          5,
          2,
          2,
          4,
          6,
          4,
          1,
          5,
          5,
          5,
          3,
          2,
          4,
          5,
          1,
          5,
          6,
          2,
          2,
          4,
          3,
          4,
          5,
          6,
          1,
          4,
          3,
          4,
          2,
          5,
          5,
          5,
          5,
          5,
          5,
          1,
          3,
          5,
          3,
          6,
          5,
          4,
          5,
          2,
          1,
          4,
          4,
          2,
          5,
          1,
          4,
          1,
          4,
          5,
          6,
          4,
          6,
          4,
          3,
          5,
          2,
          6,
          2,
          5,
          2,
          5,
          2,
          6,
          3,
          2,
          6,
          4,
          5,
          1,
          1,
          5,
          3,
          2,
          3,
          1,
          6,
          5,
          5,
          3,
          6,
          3,
          2,
          4,
          6,
          4,
          2,
          4,
          1,
          4,
          2,
          4,
          5,
          3,
          1,
          5,
          5,
          2,
          3,
          3,
          6,
          1,
          2,
          1,
          6,
          4,
          5,
          1,
          5,
          2,
          4,
          2,
          4,
          4,
          5,
          2,
          2,
          1,
          2,
          1,
          3,
          3,
          3,
          6,
          2,
          6,
          2,
          1,
          6,
          6,
          6,
          4,
          1,
          3,
          1,
          4,
          2,
          1,
          6,
          3,
          3,
          2,
          1,
          4,
          2,
          1,
          5,
          3,
          4,
          6,
          4,
          6,
          4,
          3,
          6,
          1,
          6,
          2,
          1,
          2,
          4,
          1,
          4,
          5,
          4,
          4,
          2,
          6,
          5,
          4,
          4,
          5,
          5,
          1,
          2,
          5,
          5,
          3,
          6,
          5,
          2,
          6,
          6,
          4,
          4,
          4,
          4,
          3,
          5,
          4,
          1,
          4,
          5,
          4,
          3,
          2,
          2,
          5,
          2,
          2,
          1,
          5,
          5,
          2,
          2,
          2,
          6,
          3,
          4,
          3,
          5,
          1,
          4,
          1,
          6,
          5,
          6,
          5,
          1,
          1,
          1,
          5,
          2,
          1,
          6,
          4,
          5,
          6,
          3,
          3,
          4,
          2,
          1,
          5,
          6,
          1,
          6,
          5,
          3,
          1,
          4,
          2,
          4,
          2,
          6,
          1,
          1,
          2,
          3,
          5,
          4,
          6,
          4,
          4,
          6,
          6,
          1,
          4,
          5,
          5,
          2,
          6,
          1,
          5,
          3,
          1,
          1,
          5,
          3,
          2,
          5,
          3,
          1,
          3,
          1,
          5,
          6,
          5,
          4,
          4,
          4,
          5,
          2,
          5,
          6,
          3,
          5,
          5,
          1,
          1,
          1,
          5,
          2,
          3,
          3,
          6,
          2,
          2,
          3,
          4,
          1,
          1,
          3,
          2,
          6,
          4,
          3,
          1,
          5,
          2,
          5,
          6,
          3,
          1,
          4,
          5,
          4,
          6,
          1,
          5,
          6,
          4,
          4,
          5,
          1,
          4,
          3,
          6,
          5,
          2,
          2,
          1,
          3,
          4,
          2,
          1,
          6,
          3,
          3,
          1,
          1,
          4,
          1,
          4,
          4,
          5,
          3,
          6,
          3,
          3,
          5,
          4,
          4,
          1,
          5,
          1,
          5,
          1,
          2,
          3,
          3,
          6,
          4,
          6,
          2,
          6,
          3,
          4,
          2,
          3,
          1,
          5,
          2,
          4,
          6,
          6,
          2,
          4,
          2,
          4,
          6,
          3,
          1,
          3,
          1,
          6,
          3,
          3,
          2,
          5,
          6,
          4,
          6,
          4,
          4,
          1,
          4,
          4,
          2,
          3,
          6,
          6,
          4,
          5,
          6,
          4,
          1,
          1,
          1,
          4,
          2,
          5,
          4,
          2,
          2,
          6,
          4,
          4,
          2,
          2,
          2,
          6,
          4,
          2,
          1,
          4,
          6,
          1,
          3,
          4,
          3,
          2,
          6,
          2,
          6,
          5,
          2,
          3,
          6,
          2,
          4,
          6,
          6,
          2,
          5,
          2,
          3,
          3,
          6,
          6,
          2,
          3,
          3,
          5,
          4,
          5,
          1,
          5,
          2,
          4,
          2,
          1,
          4,
          6,
          3,
          5,
          2,
          1,
          3,
          5,
          3,
          5,
          6,
          4,
          3,
          3,
          3,
          4,
          1,
          5,
          6,
          3,
          4,
          1,
          5,
          4,
          6,
          6,
          5,
          3,
          6,
          1,
          4,
          1,
          3,
          1,
          1,
          2,
          1
         ],
         "y0": " ",
         "yaxis": "y"
        }
       ],
       "layout": {
        "boxmode": "group",
        "legend": {
         "tracegroupgap": 0
        },
        "template": {
         "data": {
          "bar": [
           {
            "error_x": {
             "color": "#2a3f5f"
            },
            "error_y": {
             "color": "#2a3f5f"
            },
            "marker": {
             "line": {
              "color": "#E5ECF6",
              "width": 0.5
             },
             "pattern": {
              "fillmode": "overlay",
              "size": 10,
              "solidity": 0.2
             }
            },
            "type": "bar"
           }
          ],
          "barpolar": [
           {
            "marker": {
             "line": {
              "color": "#E5ECF6",
              "width": 0.5
             },
             "pattern": {
              "fillmode": "overlay",
              "size": 10,
              "solidity": 0.2
             }
            },
            "type": "barpolar"
           }
          ],
          "carpet": [
           {
            "aaxis": {
             "endlinecolor": "#2a3f5f",
             "gridcolor": "white",
             "linecolor": "white",
             "minorgridcolor": "white",
             "startlinecolor": "#2a3f5f"
            },
            "baxis": {
             "endlinecolor": "#2a3f5f",
             "gridcolor": "white",
             "linecolor": "white",
             "minorgridcolor": "white",
             "startlinecolor": "#2a3f5f"
            },
            "type": "carpet"
           }
          ],
          "choropleth": [
           {
            "colorbar": {
             "outlinewidth": 0,
             "ticks": ""
            },
            "type": "choropleth"
           }
          ],
          "contour": [
           {
            "colorbar": {
             "outlinewidth": 0,
             "ticks": ""
            },
            "colorscale": [
             [
              0,
              "#0d0887"
             ],
             [
              0.1111111111111111,
              "#46039f"
             ],
             [
              0.2222222222222222,
              "#7201a8"
             ],
             [
              0.3333333333333333,
              "#9c179e"
             ],
             [
              0.4444444444444444,
              "#bd3786"
             ],
             [
              0.5555555555555556,
              "#d8576b"
             ],
             [
              0.6666666666666666,
              "#ed7953"
             ],
             [
              0.7777777777777778,
              "#fb9f3a"
             ],
             [
              0.8888888888888888,
              "#fdca26"
             ],
             [
              1,
              "#f0f921"
             ]
            ],
            "type": "contour"
           }
          ],
          "contourcarpet": [
           {
            "colorbar": {
             "outlinewidth": 0,
             "ticks": ""
            },
            "type": "contourcarpet"
           }
          ],
          "heatmap": [
           {
            "colorbar": {
             "outlinewidth": 0,
             "ticks": ""
            },
            "colorscale": [
             [
              0,
              "#0d0887"
             ],
             [
              0.1111111111111111,
              "#46039f"
             ],
             [
              0.2222222222222222,
              "#7201a8"
             ],
             [
              0.3333333333333333,
              "#9c179e"
             ],
             [
              0.4444444444444444,
              "#bd3786"
             ],
             [
              0.5555555555555556,
              "#d8576b"
             ],
             [
              0.6666666666666666,
              "#ed7953"
             ],
             [
              0.7777777777777778,
              "#fb9f3a"
             ],
             [
              0.8888888888888888,
              "#fdca26"
             ],
             [
              1,
              "#f0f921"
             ]
            ],
            "type": "heatmap"
           }
          ],
          "heatmapgl": [
           {
            "colorbar": {
             "outlinewidth": 0,
             "ticks": ""
            },
            "colorscale": [
             [
              0,
              "#0d0887"
             ],
             [
              0.1111111111111111,
              "#46039f"
             ],
             [
              0.2222222222222222,
              "#7201a8"
             ],
             [
              0.3333333333333333,
              "#9c179e"
             ],
             [
              0.4444444444444444,
              "#bd3786"
             ],
             [
              0.5555555555555556,
              "#d8576b"
             ],
             [
              0.6666666666666666,
              "#ed7953"
             ],
             [
              0.7777777777777778,
              "#fb9f3a"
             ],
             [
              0.8888888888888888,
              "#fdca26"
             ],
             [
              1,
              "#f0f921"
             ]
            ],
            "type": "heatmapgl"
           }
          ],
          "histogram": [
           {
            "marker": {
             "pattern": {
              "fillmode": "overlay",
              "size": 10,
              "solidity": 0.2
             }
            },
            "type": "histogram"
           }
          ],
          "histogram2d": [
           {
            "colorbar": {
             "outlinewidth": 0,
             "ticks": ""
            },
            "colorscale": [
             [
              0,
              "#0d0887"
             ],
             [
              0.1111111111111111,
              "#46039f"
             ],
             [
              0.2222222222222222,
              "#7201a8"
             ],
             [
              0.3333333333333333,
              "#9c179e"
             ],
             [
              0.4444444444444444,
              "#bd3786"
             ],
             [
              0.5555555555555556,
              "#d8576b"
             ],
             [
              0.6666666666666666,
              "#ed7953"
             ],
             [
              0.7777777777777778,
              "#fb9f3a"
             ],
             [
              0.8888888888888888,
              "#fdca26"
             ],
             [
              1,
              "#f0f921"
             ]
            ],
            "type": "histogram2d"
           }
          ],
          "histogram2dcontour": [
           {
            "colorbar": {
             "outlinewidth": 0,
             "ticks": ""
            },
            "colorscale": [
             [
              0,
              "#0d0887"
             ],
             [
              0.1111111111111111,
              "#46039f"
             ],
             [
              0.2222222222222222,
              "#7201a8"
             ],
             [
              0.3333333333333333,
              "#9c179e"
             ],
             [
              0.4444444444444444,
              "#bd3786"
             ],
             [
              0.5555555555555556,
              "#d8576b"
             ],
             [
              0.6666666666666666,
              "#ed7953"
             ],
             [
              0.7777777777777778,
              "#fb9f3a"
             ],
             [
              0.8888888888888888,
              "#fdca26"
             ],
             [
              1,
              "#f0f921"
             ]
            ],
            "type": "histogram2dcontour"
           }
          ],
          "mesh3d": [
           {
            "colorbar": {
             "outlinewidth": 0,
             "ticks": ""
            },
            "type": "mesh3d"
           }
          ],
          "parcoords": [
           {
            "line": {
             "colorbar": {
              "outlinewidth": 0,
              "ticks": ""
             }
            },
            "type": "parcoords"
           }
          ],
          "pie": [
           {
            "automargin": true,
            "type": "pie"
           }
          ],
          "scatter": [
           {
            "fillpattern": {
             "fillmode": "overlay",
             "size": 10,
             "solidity": 0.2
            },
            "type": "scatter"
           }
          ],
          "scatter3d": [
           {
            "line": {
             "colorbar": {
              "outlinewidth": 0,
              "ticks": ""
             }
            },
            "marker": {
             "colorbar": {
              "outlinewidth": 0,
              "ticks": ""
             }
            },
            "type": "scatter3d"
           }
          ],
          "scattercarpet": [
           {
            "marker": {
             "colorbar": {
              "outlinewidth": 0,
              "ticks": ""
             }
            },
            "type": "scattercarpet"
           }
          ],
          "scattergeo": [
           {
            "marker": {
             "colorbar": {
              "outlinewidth": 0,
              "ticks": ""
             }
            },
            "type": "scattergeo"
           }
          ],
          "scattergl": [
           {
            "marker": {
             "colorbar": {
              "outlinewidth": 0,
              "ticks": ""
             }
            },
            "type": "scattergl"
           }
          ],
          "scattermapbox": [
           {
            "marker": {
             "colorbar": {
              "outlinewidth": 0,
              "ticks": ""
             }
            },
            "type": "scattermapbox"
           }
          ],
          "scatterpolar": [
           {
            "marker": {
             "colorbar": {
              "outlinewidth": 0,
              "ticks": ""
             }
            },
            "type": "scatterpolar"
           }
          ],
          "scatterpolargl": [
           {
            "marker": {
             "colorbar": {
              "outlinewidth": 0,
              "ticks": ""
             }
            },
            "type": "scatterpolargl"
           }
          ],
          "scatterternary": [
           {
            "marker": {
             "colorbar": {
              "outlinewidth": 0,
              "ticks": ""
             }
            },
            "type": "scatterternary"
           }
          ],
          "surface": [
           {
            "colorbar": {
             "outlinewidth": 0,
             "ticks": ""
            },
            "colorscale": [
             [
              0,
              "#0d0887"
             ],
             [
              0.1111111111111111,
              "#46039f"
             ],
             [
              0.2222222222222222,
              "#7201a8"
             ],
             [
              0.3333333333333333,
              "#9c179e"
             ],
             [
              0.4444444444444444,
              "#bd3786"
             ],
             [
              0.5555555555555556,
              "#d8576b"
             ],
             [
              0.6666666666666666,
              "#ed7953"
             ],
             [
              0.7777777777777778,
              "#fb9f3a"
             ],
             [
              0.8888888888888888,
              "#fdca26"
             ],
             [
              1,
              "#f0f921"
             ]
            ],
            "type": "surface"
           }
          ],
          "table": [
           {
            "cells": {
             "fill": {
              "color": "#EBF0F8"
             },
             "line": {
              "color": "white"
             }
            },
            "header": {
             "fill": {
              "color": "#C8D4E3"
             },
             "line": {
              "color": "white"
             }
            },
            "type": "table"
           }
          ]
         },
         "layout": {
          "annotationdefaults": {
           "arrowcolor": "#2a3f5f",
           "arrowhead": 0,
           "arrowwidth": 1
          },
          "autotypenumbers": "strict",
          "coloraxis": {
           "colorbar": {
            "outlinewidth": 0,
            "ticks": ""
           }
          },
          "colorscale": {
           "diverging": [
            [
             0,
             "#8e0152"
            ],
            [
             0.1,
             "#c51b7d"
            ],
            [
             0.2,
             "#de77ae"
            ],
            [
             0.3,
             "#f1b6da"
            ],
            [
             0.4,
             "#fde0ef"
            ],
            [
             0.5,
             "#f7f7f7"
            ],
            [
             0.6,
             "#e6f5d0"
            ],
            [
             0.7,
             "#b8e186"
            ],
            [
             0.8,
             "#7fbc41"
            ],
            [
             0.9,
             "#4d9221"
            ],
            [
             1,
             "#276419"
            ]
           ],
           "sequential": [
            [
             0,
             "#0d0887"
            ],
            [
             0.1111111111111111,
             "#46039f"
            ],
            [
             0.2222222222222222,
             "#7201a8"
            ],
            [
             0.3333333333333333,
             "#9c179e"
            ],
            [
             0.4444444444444444,
             "#bd3786"
            ],
            [
             0.5555555555555556,
             "#d8576b"
            ],
            [
             0.6666666666666666,
             "#ed7953"
            ],
            [
             0.7777777777777778,
             "#fb9f3a"
            ],
            [
             0.8888888888888888,
             "#fdca26"
            ],
            [
             1,
             "#f0f921"
            ]
           ],
           "sequentialminus": [
            [
             0,
             "#0d0887"
            ],
            [
             0.1111111111111111,
             "#46039f"
            ],
            [
             0.2222222222222222,
             "#7201a8"
            ],
            [
             0.3333333333333333,
             "#9c179e"
            ],
            [
             0.4444444444444444,
             "#bd3786"
            ],
            [
             0.5555555555555556,
             "#d8576b"
            ],
            [
             0.6666666666666666,
             "#ed7953"
            ],
            [
             0.7777777777777778,
             "#fb9f3a"
            ],
            [
             0.8888888888888888,
             "#fdca26"
            ],
            [
             1,
             "#f0f921"
            ]
           ]
          },
          "colorway": [
           "#636efa",
           "#EF553B",
           "#00cc96",
           "#ab63fa",
           "#FFA15A",
           "#19d3f3",
           "#FF6692",
           "#B6E880",
           "#FF97FF",
           "#FECB52"
          ],
          "font": {
           "color": "#2a3f5f"
          },
          "geo": {
           "bgcolor": "white",
           "lakecolor": "white",
           "landcolor": "#E5ECF6",
           "showlakes": true,
           "showland": true,
           "subunitcolor": "white"
          },
          "hoverlabel": {
           "align": "left"
          },
          "hovermode": "closest",
          "mapbox": {
           "style": "light"
          },
          "paper_bgcolor": "white",
          "plot_bgcolor": "#E5ECF6",
          "polar": {
           "angularaxis": {
            "gridcolor": "white",
            "linecolor": "white",
            "ticks": ""
           },
           "bgcolor": "#E5ECF6",
           "radialaxis": {
            "gridcolor": "white",
            "linecolor": "white",
            "ticks": ""
           }
          },
          "scene": {
           "xaxis": {
            "backgroundcolor": "#E5ECF6",
            "gridcolor": "white",
            "gridwidth": 2,
            "linecolor": "white",
            "showbackground": true,
            "ticks": "",
            "zerolinecolor": "white"
           },
           "yaxis": {
            "backgroundcolor": "#E5ECF6",
            "gridcolor": "white",
            "gridwidth": 2,
            "linecolor": "white",
            "showbackground": true,
            "ticks": "",
            "zerolinecolor": "white"
           },
           "zaxis": {
            "backgroundcolor": "#E5ECF6",
            "gridcolor": "white",
            "gridwidth": 2,
            "linecolor": "white",
            "showbackground": true,
            "ticks": "",
            "zerolinecolor": "white"
           }
          },
          "shapedefaults": {
           "line": {
            "color": "#2a3f5f"
           }
          },
          "ternary": {
           "aaxis": {
            "gridcolor": "white",
            "linecolor": "white",
            "ticks": ""
           },
           "baxis": {
            "gridcolor": "white",
            "linecolor": "white",
            "ticks": ""
           },
           "bgcolor": "#E5ECF6",
           "caxis": {
            "gridcolor": "white",
            "linecolor": "white",
            "ticks": ""
           }
          },
          "title": {
           "x": 0.05
          },
          "xaxis": {
           "automargin": true,
           "gridcolor": "white",
           "linecolor": "white",
           "ticks": "",
           "title": {
            "standoff": 15
           },
           "zerolinecolor": "white",
           "zerolinewidth": 2
          },
          "yaxis": {
           "automargin": true,
           "gridcolor": "white",
           "linecolor": "white",
           "ticks": "",
           "title": {
            "standoff": 15
           },
           "zerolinecolor": "white",
           "zerolinewidth": 2
          }
         }
        },
        "title": {
         "text": "Tempo de recuperação da lesão"
        },
        "xaxis": {
         "anchor": "y",
         "domain": [
          0,
          1
         ]
        },
        "yaxis": {
         "anchor": "x",
         "domain": [
          0,
          1
         ],
         "title": {
          "text": "Recovery_Time"
         }
        }
       }
      }
     },
     "metadata": {},
     "output_type": "display_data"
    }
   ],
   "source": [
    "fig = px.box(df, y='Recovery_Time',title='Tempo de recuperação da lesão')\n",
    "fig.show()"
   ]
  }
 ],
 "metadata": {
  "kernelspec": {
   "display_name": "Python 3",
   "language": "python",
   "name": "python3"
  },
  "language_info": {
   "codemirror_mode": {
    "name": "ipython",
    "version": 3
   },
   "file_extension": ".py",
   "mimetype": "text/x-python",
   "name": "python",
   "nbconvert_exporter": "python",
   "pygments_lexer": "ipython3",
   "version": "3.10.12"
  }
 },
 "nbformat": 4,
 "nbformat_minor": 2
}
