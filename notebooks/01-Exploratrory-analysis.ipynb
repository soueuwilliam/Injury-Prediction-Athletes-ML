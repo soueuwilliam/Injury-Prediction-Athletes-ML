{
  "cells": [
    {
      "cell_type": "markdown",
      "metadata": {
        "id": "view-in-github",
        "colab_type": "text"
      },
      "source": [
        "<a href=\"https://colab.research.google.com/github/soueuwilliam/Injury-Prediction-Athletes-ML/blob/main/notebooks/01-Exploratrory-analysis.ipynb\" target=\"_parent\"><img src=\"https://colab.research.google.com/assets/colab-badge.svg\" alt=\"Open In Colab\"/></a>"
      ]
    },
    {
      "cell_type": "markdown",
      "source": [
        "# Importando Bibliotecas"
      ],
      "metadata": {
        "id": "Qkh5SP5mLskx"
      }
    },
    {
      "cell_type": "markdown",
      "source": [
        "### Tratamento de arquivos\n",
        "\n"
      ],
      "metadata": {
        "id": "V6Bn0YBBMOxK"
      }
    },
    {
      "cell_type": "code",
      "source": [
        "import gdown"
      ],
      "metadata": {
        "id": "juycqkoUMSz5"
      },
      "execution_count": null,
      "outputs": []
    },
    {
      "cell_type": "markdown",
      "source": [
        "### Analise de dados"
      ],
      "metadata": {
        "id": "p9xJhLnvMBVB"
      }
    },
    {
      "cell_type": "code",
      "execution_count": null,
      "metadata": {
        "id": "sei1vKcoC9LZ"
      },
      "outputs": [],
      "source": [
        "import pandas as pd\n"
      ]
    },
    {
      "cell_type": "markdown",
      "source": [
        "### Construção de graficos"
      ],
      "metadata": {
        "id": "lyNoNenhLzsx"
      }
    },
    {
      "cell_type": "code",
      "source": [
        "import plotly.express as px\n",
        "import plotly.graph_objects as go\n",
        "from plotly.subplots import make_subplots"
      ],
      "metadata": {
        "id": "L32nxuDlLzDC"
      },
      "execution_count": null,
      "outputs": []
    },
    {
      "cell_type": "markdown",
      "metadata": {
        "id": "9Rl3sBeMC9La"
      },
      "source": [
        "# Importando dataFrame"
      ]
    },
    {
      "cell_type": "code",
      "execution_count": null,
      "metadata": {
        "id": "WC-n8fW-C9La"
      },
      "outputs": [],
      "source": [
        "#Baixando Dataset\n",
        "url = 'https://drive.google.com/file/d/1Kf3L770vmOB5mbtmE6ku91dzv2813VjQ/view?usp=sharing'\n",
        "output = 'injury_dataset.csv'\n",
        "gdown.download(url=url , output=output, quiet=False, fuzzy=True)\n",
        "df = pd.read_csv('injury_dataset.csv')"
      ]
    },
    {
      "cell_type": "markdown",
      "source": [
        "# Analises"
      ],
      "metadata": {
        "id": "ivDfnv1oOoT5"
      }
    },
    {
      "cell_type": "code",
      "execution_count": null,
      "metadata": {
        "id": "V8akiUscC9Lb"
      },
      "outputs": [],
      "source": [
        "df.info()"
      ]
    },
    {
      "cell_type": "markdown",
      "metadata": {
        "id": "qZtqfC-4C9Lb"
      },
      "source": [
        "### Idade"
      ]
    },
    {
      "cell_type": "code",
      "execution_count": null,
      "metadata": {
        "id": "yJ03tKeAC9Lb"
      },
      "outputs": [],
      "source": [
        "df['Player_Age'].describe()"
      ]
    },
    {
      "cell_type": "code",
      "execution_count": null,
      "metadata": {
        "id": "eNFXUI3PC9Lb"
      },
      "outputs": [],
      "source": [
        "fig = go.Figure()\n",
        "fig.add_trace(go.Box(x=df['Player_Age'],boxpoints='all',text=df['Player_Age'].value_counts()))\n",
        "my_buttons = [\n",
        "    dict(args=['type', 'box'], label='BoxPlot', method='restyle'),\n",
        "    dict(args=['type', 'histogram'], label='Histogram', method='restyle')  # Capitalize \"Histogram\" for clarity\n",
        "]\n",
        "\n",
        "fig.update_layout(\n",
        "    title= {\n",
        "        'text':\"Distribuição de idade em formato de boxplot e histograma\",\n",
        "        'y':0.95,\n",
        "        'x':0.5,\n",
        "        'xanchor': 'center',\n",
        "        'yanchor': 'top',\n",
        "        'font_size':30\n",
        "    },\n",
        "\n",
        "\n",
        "    updatemenus=[dict(type='buttons',  # Use 'buttons' (plural) here\n",
        "                      buttons=my_buttons,\n",
        "                      direction='left',\n",
        "                      showactive=True,\n",
        "                      x=0.11,\n",
        "                      xanchor=\"center\",\n",
        "                      y=1.1,\n",
        "                      yanchor=\"top\"\n",
        "                      )],\n",
        "\n",
        "    bargap=0.03\n",
        "),\n",
        "\n",
        "fig.show()"
      ]
    },
    {
      "cell_type": "markdown",
      "metadata": {
        "id": "3wZ_FMD7C9Lc"
      },
      "source": [
        "### Peso"
      ]
    },
    {
      "cell_type": "code",
      "execution_count": null,
      "metadata": {
        "id": "Q5-V0vFNC9Lc"
      },
      "outputs": [],
      "source": [
        "df['Player_Weight'].astype(int).value_counts().sort_index()"
      ]
    },
    {
      "cell_type": "code",
      "execution_count": null,
      "metadata": {
        "id": "y-SeCRyWC9Lc"
      },
      "outputs": [],
      "source": [
        "fig = go.Figure()\n",
        "fig.add_trace(go.Box(x=df['Player_Weight'],boxpoints='all'))\n",
        "my_buttons = [\n",
        "    dict(args=['type', 'box'], label='BoxPlot', method='restyle'),\n",
        "    dict(args=['type', 'histogram'], label='Histogram', method='restyle')\n",
        "]\n",
        "\n",
        "fig.update_layout(\n",
        "    title= {\n",
        "        'text':\"Distribuição de peso(kG) em formato de boxplot e histograma\",\n",
        "        'y':0.95,\n",
        "        'x':0.5,\n",
        "        'xanchor': 'center',\n",
        "        'yanchor': 'top',\n",
        "        'font_size':30\n",
        "    },\n",
        "\n",
        "\n",
        "    updatemenus=[dict(type='buttons',\n",
        "                      buttons=my_buttons,\n",
        "                      direction='left',\n",
        "                      showactive=True,\n",
        "                      x=0.11,\n",
        "                      xanchor=\"center\",\n",
        "                      y=1.1,\n",
        "                      yanchor=\"top\"\n",
        "                      )],\n",
        "\n",
        "    bargap=0.03\n",
        "),\n",
        "\n",
        "fig.show()"
      ]
    },
    {
      "cell_type": "markdown",
      "metadata": {
        "id": "7nTArOsqC9Lc"
      },
      "source": [
        "### Altura"
      ]
    },
    {
      "cell_type": "code",
      "execution_count": null,
      "metadata": {
        "id": "X-BeGiZNC9Lc"
      },
      "outputs": [],
      "source": [
        "df['Player_Height'].describe()"
      ]
    },
    {
      "cell_type": "code",
      "execution_count": null,
      "metadata": {
        "id": "EXb7o8KBC9Lc"
      },
      "outputs": [],
      "source": [
        "fig = go.Figure()\n",
        "fig.add_trace(go.Box(x=df['Player_Height'],boxpoints='all',text=df['Player_Age'].value_counts()))\n",
        "my_buttons = [\n",
        "    dict(args=['type', 'box'], label='BoxPlot', method='restyle'),\n",
        "    dict(args=['type', 'histogram'], label='Histogram', method='restyle')\n",
        "]\n",
        "\n",
        "fig.update_layout(\n",
        "    title= {\n",
        "        'text':\"Distribuição de Altura(cm) em formato de boxplot e histograma\",\n",
        "        'y':0.95,\n",
        "        'x':0.5,\n",
        "        'xanchor': 'center',\n",
        "        'yanchor': 'top',\n",
        "        'font_size':30\n",
        "    },\n",
        "\n",
        "\n",
        "    updatemenus=[dict(type='buttons',\n",
        "                      buttons=my_buttons,\n",
        "                      direction='left',\n",
        "                      showactive=True,\n",
        "                      x=0.11,\n",
        "                      xanchor=\"center\",\n",
        "                      y=1.1,\n",
        "                      yanchor=\"top\"\n",
        "                      )],\n",
        "\n",
        "    bargap=0.03\n",
        "),\n",
        "\n",
        "fig.show()"
      ]
    },
    {
      "cell_type": "markdown",
      "metadata": {
        "id": "XcY41x8jC9Lc"
      },
      "source": [
        "### Indicador de lesão prévia"
      ]
    },
    {
      "cell_type": "code",
      "execution_count": null,
      "metadata": {
        "id": "RrDeh8jdC9Ld"
      },
      "outputs": [],
      "source": [
        "fig = px.pie(df, names='Previous_Injuries',title='INDICADOR BINARIO DE LESÃO PRÉVIA' )\n",
        "\n",
        "fig.show()"
      ]
    },
    {
      "cell_type": "markdown",
      "metadata": {
        "id": "0CFO9RktC9Ld"
      },
      "source": [
        "### Intensidade do treino"
      ]
    },
    {
      "cell_type": "code",
      "execution_count": null,
      "metadata": {
        "id": "4cQpzCxGC9Ld"
      },
      "outputs": [],
      "source": [
        "# fig = px.box(df, x='Training_Intensity')\n",
        "# fig.show()\n",
        "\n",
        "fig = go.Figure()\n",
        "fig.add_trace(go.Box(x=df['Training_Intensity'],boxpoints='all'))\n",
        "my_buttons = [\n",
        "    dict(args=['type', 'box'], label='BoxPlot', method='restyle'),\n",
        "    dict(args=['type', 'histogram'], label='Histogram', method='restyle')\n",
        "]\n",
        "\n",
        "fig.update_layout(\n",
        "    title= {\n",
        "        'text':\"Intesidade de Treino\",\n",
        "        'y':0.95,\n",
        "        'x':0.5,\n",
        "        'xanchor': 'center',\n",
        "        'yanchor': 'top',\n",
        "        'font_size':30\n",
        "    },\n",
        "\n",
        "\n",
        "    updatemenus=[dict(type='buttons',\n",
        "                      buttons=my_buttons,\n",
        "                      direction='left',\n",
        "                      showactive=True,\n",
        "                      x=0.11,\n",
        "                      xanchor=\"center\",\n",
        "                      y=1.1,\n",
        "                      yanchor=\"top\"\n",
        "                      )],\n",
        "\n",
        "    bargap=0.03\n",
        "),\n",
        "\n",
        "fig.show()\n",
        "\n"
      ]
    },
    {
      "cell_type": "markdown",
      "metadata": {
        "id": "A9fQs5dcC9Ld"
      },
      "source": [
        "### Tempo de recuperação em dias"
      ]
    },
    {
      "cell_type": "code",
      "execution_count": null,
      "metadata": {
        "id": "uYHul5MEC9Ld"
      },
      "outputs": [],
      "source": [
        "from typing_extensions import Text\n",
        "\n",
        "fig = px.histogram(df, x='Recovery_Time',title='Tempo de recuperação da lesão',text_auto=True)\n",
        "\n",
        "fig.update_layout(\n",
        "    title= {\n",
        "        'text':\"Tempo de recuperação da lesão\",\n",
        "        'y':0.95,\n",
        "        'x':0.5,\n",
        "        'xanchor': 'center',\n",
        "        'yanchor': 'top',\n",
        "        'font_size':30\n",
        "    },\n",
        "    bargap=0.03\n",
        ")\n",
        "\n",
        "fig.show()"
      ]
    }
  ],
  "metadata": {
    "kernelspec": {
      "display_name": "Python 3",
      "language": "python",
      "name": "python3"
    },
    "language_info": {
      "codemirror_mode": {
        "name": "ipython",
        "version": 3
      },
      "file_extension": ".py",
      "mimetype": "text/x-python",
      "name": "python",
      "nbconvert_exporter": "python",
      "pygments_lexer": "ipython3",
      "version": "3.10.12"
    },
    "colab": {
      "provenance": [],
      "toc_visible": true,
      "include_colab_link": true
    }
  },
  "nbformat": 4,
  "nbformat_minor": 0
}