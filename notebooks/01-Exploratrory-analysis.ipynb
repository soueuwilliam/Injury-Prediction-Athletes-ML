{
  "cells": [
    {
      "cell_type": "markdown",
      "metadata": {
        "id": "view-in-github",
        "colab_type": "text"
      },
      "source": [
        "<a href=\"https://colab.research.google.com/github/soueuwilliam/Injury-Prediction-Athletes-ML/blob/main/notebooks/01-Exploratrory-analysis.ipynb\" target=\"_parent\"><img src=\"https://colab.research.google.com/assets/colab-badge.svg\" alt=\"Open In Colab\"/></a>"
      ]
    },
    {
      "cell_type": "markdown",
      "source": [
        "# Importando Bibliotecas"
      ],
      "metadata": {
        "id": "Qkh5SP5mLskx"
      }
    },
    {
      "cell_type": "markdown",
      "source": [
        "### Tratamento de arquivos\n",
        "\n"
      ],
      "metadata": {
        "id": "V6Bn0YBBMOxK"
      }
    },
    {
      "cell_type": "code",
      "source": [
        "import gdown"
      ],
      "metadata": {
        "id": "juycqkoUMSz5"
      },
      "execution_count": null,
      "outputs": []
    },
    {
      "cell_type": "markdown",
      "source": [
        "### Analise de dados"
      ],
      "metadata": {
        "id": "p9xJhLnvMBVB"
      }
    },
    {
      "cell_type": "code",
      "execution_count": null,
      "metadata": {
        "id": "sei1vKcoC9LZ"
      },
      "outputs": [],
      "source": [
        "import pandas as pd\n"
      ]
    },
    {
      "cell_type": "markdown",
      "source": [
        "### Construção de graficos"
      ],
      "metadata": {
        "id": "lyNoNenhLzsx"
      }
    },
    {
      "cell_type": "code",
      "source": [
        "import plotly.express as px\n",
        "import plotly.graph_objects as go\n",
        "from plotly.subplots import make_subplots"
      ],
      "metadata": {
        "id": "L32nxuDlLzDC"
      },
      "execution_count": null,
      "outputs": []
    },
    {
      "cell_type": "markdown",
      "metadata": {
        "id": "9Rl3sBeMC9La"
      },
      "source": [
        "# Lendo o arquivo"
      ]
    },
    {
      "cell_type": "code",
      "execution_count": null,
      "metadata": {
        "id": "WC-n8fW-C9La"
      },
      "outputs": [],
      "source": [
        "#Baixando Dataset\n",
        "url = 'https://drive.google.com/file/d/1Kf3L770vmOB5mbtmE6ku91dzv2813VjQ/view?usp=sharing'\n",
        "output = 'injury_dataset.csv'\n",
        "gdown.download(url=url , output=output, quiet=False, fuzzy=True)\n",
        "df = pd.read_csv('injury_dataset.csv')"
      ]
    },
    {
      "cell_type": "markdown",
      "source": [
        "# Analises"
      ],
      "metadata": {
        "id": "ivDfnv1oOoT5"
      }
    },
    {
      "cell_type": "code",
      "execution_count": null,
      "metadata": {
        "id": "V8akiUscC9Lb"
      },
      "outputs": [],
      "source": [
        "df.info()"
      ]
    },
    {
      "cell_type": "markdown",
      "metadata": {
        "id": "qZtqfC-4C9Lb"
      },
      "source": [
        "### Idade"
      ]
    },
    {
      "cell_type": "code",
      "execution_count": null,
      "metadata": {
        "id": "yJ03tKeAC9Lb"
      },
      "outputs": [],
      "source": [
        "df['Player_Age'].describe()"
      ]
    },
    {
      "cell_type": "code",
      "execution_count": 104,
      "metadata": {
        "id": "eNFXUI3PC9Lb",
        "outputId": "27b59c2a-385c-4c0c-cb39-1738d9d4d369",
        "colab": {
          "base_uri": "https://localhost:8080/",
          "height": 542
        }
      },
      "outputs": [
        {
          "output_type": "display_data",
          "data": {
            "text/html": [
              "<html>\n",
              "<head><meta charset=\"utf-8\" /></head>\n",
              "<body>\n",
              "    <div>            <script src=\"https://cdnjs.cloudflare.com/ajax/libs/mathjax/2.7.5/MathJax.js?config=TeX-AMS-MML_SVG\"></script><script type=\"text/javascript\">if (window.MathJax && window.MathJax.Hub && window.MathJax.Hub.Config) {window.MathJax.Hub.Config({SVG: {font: \"STIX-Web\"}});}</script>                <script type=\"text/javascript\">window.PlotlyConfig = {MathJaxConfig: 'local'};</script>\n",
              "        <script charset=\"utf-8\" src=\"https://cdn.plot.ly/plotly-2.24.1.min.js\"></script>                <div id=\"513e0b17-d5d1-42ff-90b4-1d14c81c768c\" class=\"plotly-graph-div\" style=\"height:525px; width:100%;\"></div>            <script type=\"text/javascript\">                                    window.PLOTLYENV=window.PLOTLYENV || {};                                    if (document.getElementById(\"513e0b17-d5d1-42ff-90b4-1d14c81c768c\")) {                    Plotly.newPlot(                        \"513e0b17-d5d1-42ff-90b4-1d14c81c768c\",                        [{\"boxpoints\":\"all\",\"text\":[60.0,57.0,57.0,54.0,51.0,48.0,48.0,47.0,47.0,46.0,45.0,45.0,43.0,43.0,43.0,42.0,41.0,40.0,37.0,36.0,35.0,35.0],\"x\":[24,37,32,28,25,38,24,36,28,28,38,21,25,20,39,38,19,29,23,19,38,18,29,39,29,34,27,33,32,32,36,29,37,20,22,36,24,38,26,24,35,21,31,35,26,38,19,37,32,24,29,25,32,20,31,34,21,35,25,21,19,23,39,27,21,39,35,29,19,27,21,31,33,32,25,31,25,38,33,30,35,32,38,30,26,32,30,18,24,26,18,29,25,28,36,34,25,20,20,18,22,27,24,26,24,26,25,29,19,18,33,22,20,29,25,39,20,18,20,22,32,31,20,18,22,31,24,26,32,32,27,30,36,24,34,37,21,22,24,30,32,28,21,30,24,36,39,19,27,30,38,23,29,29,37,28,24,18,18,37,30,26,20,24,23,25,26,22,18,36,27,29,32,39,26,37,34,34,37,29,24,19,20,34,22,34,34,34,19,19,39,22,18,18,36,19,38,29,23,21,28,34,23,22,37,19,23,39,28,33,33,18,26,23,33,20,37,21,36,20,36,37,24,37,26,18,25,24,35,25,18,28,35,27,20,24,33,33,37,34,19,18,33,29,22,22,26,26,20,36,33,33,20,37,39,18,37,28,34,25,21,23,25,37,20,33,20,35,31,35,19,39,20,33,26,21,18,21,18,31,38,33,37,25,24,20,34,18,33,29,36,39,39,31,23,23,30,36,39,25,19,38,18,32,18,22,33,36,21,20,34,34,29,31,38,23,20,26,22,34,31,38,20,18,37,38,18,20,35,27,39,20,25,31,35,32,39,19,27,19,34,25,18,26,28,39,33,24,27,20,35,30,24,21,30,37,18,25,31,33,31,29,36,32,19,19,39,36,39,39,34,37,27,23,32,39,28,22,18,25,38,29,29,22,24,21,23,30,37,32,20,25,37,33,30,35,27,36,34,36,22,38,26,29,38,18,18,32,19,39,33,25,30,38,18,33,24,22,39,20,29,33,36,22,39,31,22,32,34,31,37,22,29,33,33,38,24,21,18,22,27,39,22,21,19,37,27,36,18,22,30,21,33,33,19,34,37,29,35,20,18,18,36,28,22,29,20,18,18,25,27,28,29,30,29,31,19,36,35,20,34,25,27,19,36,26,24,21,38,35,30,28,21,38,21,27,22,26,20,34,20,33,21,35,34,24,22,29,34,30,20,26,34,34,37,33,39,30,36,34,21,29,26,36,29,26,24,31,37,36,32,33,38,22,20,29,37,38,21,38,33,24,30,38,27,24,31,22,20,28,28,35,32,29,26,27,29,34,23,24,31,30,25,27,26,35,19,22,22,23,36,25,33,30,18,39,37,34,24,30,21,21,23,36,29,39,24,27,36,24,20,30,30,35,37,25,26,24,18,20,30,34,18,23,38,23,29,30,30,32,38,33,39,38,28,22,21,20,36,37,35,32,26,34,31,32,18,38,39,39,20,33,28,29,27,33,25,23,29,38,25,21,25,35,22,26,21,39,34,26,18,38,37,30,33,30,31,20,23,35,36,22,32,19,27,35,30,22,18,39,18,35,32,34,28,38,39,34,30,18,19,26,20,18,38,33,23,34,22,22,23,20,38,22,38,22,27,27,36,34,38,31,26,31,18,36,30,30,21,18,34,25,19,25,24,19,39,39,20,35,29,18,39,29,22,34,33,32,32,22,38,31,19,28,36,24,23,19,23,35,19,35,32,36,19,37,23,18,32,27,36,34,22,21,27,34,27,34,37,22,19,23,38,19,30,28,28,33,28,36,32,33,28,39,33,25,21,25,21,20,20,35,36,36,38,22,35,27,39,38,23,18,22,26,29,31,19,34,31,30,26,32,39,32,28,33,34,21,18,25,34,20,37,32,32,39,31,31,19,30,31,36,24,20,32,31,28,32,30,35,23,20,36,32,22,27,24,34,24,39,29,34,30,37,21,27,20,26,30,35,32,21,32,39,19,32,25,25,34,29,36,27,26,22,23,37,19,30,23,22,18,38,39,38,23,23,33,21,28,26,20,36,25,22,21,23,19,37,28,21,32,23,39,34,23,36,19,32,28,25,36,30,29,22,23,39,21,36,37,18,37,34,29,32,18,31,23,22,28,21,30,28,20,18,23,35,27,22,27,29,19,30,25,19,37,18,22,26,34,26,28,32,23,20,34,22,29,35,31,38,28,26,19,29,20,20,18,25,39,25,28,26,22,31,20,38,22,22,36,31,21,30,27,35,25,25,24,25,31,36,23,18,32,18,34,18,32,19,31,38,25,25,36,24,36,23,23,20,24,36],\"type\":\"box\"}],                        {\"template\":{\"data\":{\"histogram2dcontour\":[{\"type\":\"histogram2dcontour\",\"colorbar\":{\"outlinewidth\":0,\"ticks\":\"\"},\"colorscale\":[[0.0,\"#0d0887\"],[0.1111111111111111,\"#46039f\"],[0.2222222222222222,\"#7201a8\"],[0.3333333333333333,\"#9c179e\"],[0.4444444444444444,\"#bd3786\"],[0.5555555555555556,\"#d8576b\"],[0.6666666666666666,\"#ed7953\"],[0.7777777777777778,\"#fb9f3a\"],[0.8888888888888888,\"#fdca26\"],[1.0,\"#f0f921\"]]}],\"choropleth\":[{\"type\":\"choropleth\",\"colorbar\":{\"outlinewidth\":0,\"ticks\":\"\"}}],\"histogram2d\":[{\"type\":\"histogram2d\",\"colorbar\":{\"outlinewidth\":0,\"ticks\":\"\"},\"colorscale\":[[0.0,\"#0d0887\"],[0.1111111111111111,\"#46039f\"],[0.2222222222222222,\"#7201a8\"],[0.3333333333333333,\"#9c179e\"],[0.4444444444444444,\"#bd3786\"],[0.5555555555555556,\"#d8576b\"],[0.6666666666666666,\"#ed7953\"],[0.7777777777777778,\"#fb9f3a\"],[0.8888888888888888,\"#fdca26\"],[1.0,\"#f0f921\"]]}],\"heatmap\":[{\"type\":\"heatmap\",\"colorbar\":{\"outlinewidth\":0,\"ticks\":\"\"},\"colorscale\":[[0.0,\"#0d0887\"],[0.1111111111111111,\"#46039f\"],[0.2222222222222222,\"#7201a8\"],[0.3333333333333333,\"#9c179e\"],[0.4444444444444444,\"#bd3786\"],[0.5555555555555556,\"#d8576b\"],[0.6666666666666666,\"#ed7953\"],[0.7777777777777778,\"#fb9f3a\"],[0.8888888888888888,\"#fdca26\"],[1.0,\"#f0f921\"]]}],\"heatmapgl\":[{\"type\":\"heatmapgl\",\"colorbar\":{\"outlinewidth\":0,\"ticks\":\"\"},\"colorscale\":[[0.0,\"#0d0887\"],[0.1111111111111111,\"#46039f\"],[0.2222222222222222,\"#7201a8\"],[0.3333333333333333,\"#9c179e\"],[0.4444444444444444,\"#bd3786\"],[0.5555555555555556,\"#d8576b\"],[0.6666666666666666,\"#ed7953\"],[0.7777777777777778,\"#fb9f3a\"],[0.8888888888888888,\"#fdca26\"],[1.0,\"#f0f921\"]]}],\"contourcarpet\":[{\"type\":\"contourcarpet\",\"colorbar\":{\"outlinewidth\":0,\"ticks\":\"\"}}],\"contour\":[{\"type\":\"contour\",\"colorbar\":{\"outlinewidth\":0,\"ticks\":\"\"},\"colorscale\":[[0.0,\"#0d0887\"],[0.1111111111111111,\"#46039f\"],[0.2222222222222222,\"#7201a8\"],[0.3333333333333333,\"#9c179e\"],[0.4444444444444444,\"#bd3786\"],[0.5555555555555556,\"#d8576b\"],[0.6666666666666666,\"#ed7953\"],[0.7777777777777778,\"#fb9f3a\"],[0.8888888888888888,\"#fdca26\"],[1.0,\"#f0f921\"]]}],\"surface\":[{\"type\":\"surface\",\"colorbar\":{\"outlinewidth\":0,\"ticks\":\"\"},\"colorscale\":[[0.0,\"#0d0887\"],[0.1111111111111111,\"#46039f\"],[0.2222222222222222,\"#7201a8\"],[0.3333333333333333,\"#9c179e\"],[0.4444444444444444,\"#bd3786\"],[0.5555555555555556,\"#d8576b\"],[0.6666666666666666,\"#ed7953\"],[0.7777777777777778,\"#fb9f3a\"],[0.8888888888888888,\"#fdca26\"],[1.0,\"#f0f921\"]]}],\"mesh3d\":[{\"type\":\"mesh3d\",\"colorbar\":{\"outlinewidth\":0,\"ticks\":\"\"}}],\"scatter\":[{\"fillpattern\":{\"fillmode\":\"overlay\",\"size\":10,\"solidity\":0.2},\"type\":\"scatter\"}],\"parcoords\":[{\"type\":\"parcoords\",\"line\":{\"colorbar\":{\"outlinewidth\":0,\"ticks\":\"\"}}}],\"scatterpolargl\":[{\"type\":\"scatterpolargl\",\"marker\":{\"colorbar\":{\"outlinewidth\":0,\"ticks\":\"\"}}}],\"bar\":[{\"error_x\":{\"color\":\"#2a3f5f\"},\"error_y\":{\"color\":\"#2a3f5f\"},\"marker\":{\"line\":{\"color\":\"#E5ECF6\",\"width\":0.5},\"pattern\":{\"fillmode\":\"overlay\",\"size\":10,\"solidity\":0.2}},\"type\":\"bar\"}],\"scattergeo\":[{\"type\":\"scattergeo\",\"marker\":{\"colorbar\":{\"outlinewidth\":0,\"ticks\":\"\"}}}],\"scatterpolar\":[{\"type\":\"scatterpolar\",\"marker\":{\"colorbar\":{\"outlinewidth\":0,\"ticks\":\"\"}}}],\"histogram\":[{\"marker\":{\"pattern\":{\"fillmode\":\"overlay\",\"size\":10,\"solidity\":0.2}},\"type\":\"histogram\"}],\"scattergl\":[{\"type\":\"scattergl\",\"marker\":{\"colorbar\":{\"outlinewidth\":0,\"ticks\":\"\"}}}],\"scatter3d\":[{\"type\":\"scatter3d\",\"line\":{\"colorbar\":{\"outlinewidth\":0,\"ticks\":\"\"}},\"marker\":{\"colorbar\":{\"outlinewidth\":0,\"ticks\":\"\"}}}],\"scattermapbox\":[{\"type\":\"scattermapbox\",\"marker\":{\"colorbar\":{\"outlinewidth\":0,\"ticks\":\"\"}}}],\"scatterternary\":[{\"type\":\"scatterternary\",\"marker\":{\"colorbar\":{\"outlinewidth\":0,\"ticks\":\"\"}}}],\"scattercarpet\":[{\"type\":\"scattercarpet\",\"marker\":{\"colorbar\":{\"outlinewidth\":0,\"ticks\":\"\"}}}],\"carpet\":[{\"aaxis\":{\"endlinecolor\":\"#2a3f5f\",\"gridcolor\":\"white\",\"linecolor\":\"white\",\"minorgridcolor\":\"white\",\"startlinecolor\":\"#2a3f5f\"},\"baxis\":{\"endlinecolor\":\"#2a3f5f\",\"gridcolor\":\"white\",\"linecolor\":\"white\",\"minorgridcolor\":\"white\",\"startlinecolor\":\"#2a3f5f\"},\"type\":\"carpet\"}],\"table\":[{\"cells\":{\"fill\":{\"color\":\"#EBF0F8\"},\"line\":{\"color\":\"white\"}},\"header\":{\"fill\":{\"color\":\"#C8D4E3\"},\"line\":{\"color\":\"white\"}},\"type\":\"table\"}],\"barpolar\":[{\"marker\":{\"line\":{\"color\":\"#E5ECF6\",\"width\":0.5},\"pattern\":{\"fillmode\":\"overlay\",\"size\":10,\"solidity\":0.2}},\"type\":\"barpolar\"}],\"pie\":[{\"automargin\":true,\"type\":\"pie\"}]},\"layout\":{\"autotypenumbers\":\"strict\",\"colorway\":[\"#636efa\",\"#EF553B\",\"#00cc96\",\"#ab63fa\",\"#FFA15A\",\"#19d3f3\",\"#FF6692\",\"#B6E880\",\"#FF97FF\",\"#FECB52\"],\"font\":{\"color\":\"#2a3f5f\"},\"hovermode\":\"closest\",\"hoverlabel\":{\"align\":\"left\"},\"paper_bgcolor\":\"white\",\"plot_bgcolor\":\"#E5ECF6\",\"polar\":{\"bgcolor\":\"#E5ECF6\",\"angularaxis\":{\"gridcolor\":\"white\",\"linecolor\":\"white\",\"ticks\":\"\"},\"radialaxis\":{\"gridcolor\":\"white\",\"linecolor\":\"white\",\"ticks\":\"\"}},\"ternary\":{\"bgcolor\":\"#E5ECF6\",\"aaxis\":{\"gridcolor\":\"white\",\"linecolor\":\"white\",\"ticks\":\"\"},\"baxis\":{\"gridcolor\":\"white\",\"linecolor\":\"white\",\"ticks\":\"\"},\"caxis\":{\"gridcolor\":\"white\",\"linecolor\":\"white\",\"ticks\":\"\"}},\"coloraxis\":{\"colorbar\":{\"outlinewidth\":0,\"ticks\":\"\"}},\"colorscale\":{\"sequential\":[[0.0,\"#0d0887\"],[0.1111111111111111,\"#46039f\"],[0.2222222222222222,\"#7201a8\"],[0.3333333333333333,\"#9c179e\"],[0.4444444444444444,\"#bd3786\"],[0.5555555555555556,\"#d8576b\"],[0.6666666666666666,\"#ed7953\"],[0.7777777777777778,\"#fb9f3a\"],[0.8888888888888888,\"#fdca26\"],[1.0,\"#f0f921\"]],\"sequentialminus\":[[0.0,\"#0d0887\"],[0.1111111111111111,\"#46039f\"],[0.2222222222222222,\"#7201a8\"],[0.3333333333333333,\"#9c179e\"],[0.4444444444444444,\"#bd3786\"],[0.5555555555555556,\"#d8576b\"],[0.6666666666666666,\"#ed7953\"],[0.7777777777777778,\"#fb9f3a\"],[0.8888888888888888,\"#fdca26\"],[1.0,\"#f0f921\"]],\"diverging\":[[0,\"#8e0152\"],[0.1,\"#c51b7d\"],[0.2,\"#de77ae\"],[0.3,\"#f1b6da\"],[0.4,\"#fde0ef\"],[0.5,\"#f7f7f7\"],[0.6,\"#e6f5d0\"],[0.7,\"#b8e186\"],[0.8,\"#7fbc41\"],[0.9,\"#4d9221\"],[1,\"#276419\"]]},\"xaxis\":{\"gridcolor\":\"white\",\"linecolor\":\"white\",\"ticks\":\"\",\"title\":{\"standoff\":15},\"zerolinecolor\":\"white\",\"automargin\":true,\"zerolinewidth\":2},\"yaxis\":{\"gridcolor\":\"white\",\"linecolor\":\"white\",\"ticks\":\"\",\"title\":{\"standoff\":15},\"zerolinecolor\":\"white\",\"automargin\":true,\"zerolinewidth\":2},\"scene\":{\"xaxis\":{\"backgroundcolor\":\"#E5ECF6\",\"gridcolor\":\"white\",\"linecolor\":\"white\",\"showbackground\":true,\"ticks\":\"\",\"zerolinecolor\":\"white\",\"gridwidth\":2},\"yaxis\":{\"backgroundcolor\":\"#E5ECF6\",\"gridcolor\":\"white\",\"linecolor\":\"white\",\"showbackground\":true,\"ticks\":\"\",\"zerolinecolor\":\"white\",\"gridwidth\":2},\"zaxis\":{\"backgroundcolor\":\"#E5ECF6\",\"gridcolor\":\"white\",\"linecolor\":\"white\",\"showbackground\":true,\"ticks\":\"\",\"zerolinecolor\":\"white\",\"gridwidth\":2}},\"shapedefaults\":{\"line\":{\"color\":\"#2a3f5f\"}},\"annotationdefaults\":{\"arrowcolor\":\"#2a3f5f\",\"arrowhead\":0,\"arrowwidth\":1},\"geo\":{\"bgcolor\":\"white\",\"landcolor\":\"#E5ECF6\",\"subunitcolor\":\"white\",\"showland\":true,\"showlakes\":true,\"lakecolor\":\"white\"},\"title\":{\"x\":0.05},\"mapbox\":{\"style\":\"light\"}}},\"title\":{\"font\":{\"size\":30},\"text\":\"Distribui\\u00e7\\u00e3o de idade em formato de boxplot e histograma\",\"y\":0.95,\"x\":0.5,\"xanchor\":\"center\",\"yanchor\":\"top\"},\"updatemenus\":[{\"buttons\":[{\"args\":[\"type\",\"box\"],\"label\":\"BoxPlot\",\"method\":\"restyle\"},{\"args\":[\"type\",\"histogram\"],\"label\":\"Histogram\",\"method\":\"restyle\"}],\"direction\":\"left\",\"showactive\":true,\"type\":\"buttons\",\"x\":0.11,\"xanchor\":\"center\",\"y\":1.1,\"yanchor\":\"top\"}],\"bargap\":0.03},                        {\"responsive\": true}                    ).then(function(){\n",
              "                            \n",
              "var gd = document.getElementById('513e0b17-d5d1-42ff-90b4-1d14c81c768c');\n",
              "var x = new MutationObserver(function (mutations, observer) {{\n",
              "        var display = window.getComputedStyle(gd).display;\n",
              "        if (!display || display === 'none') {{\n",
              "            console.log([gd, 'removed!']);\n",
              "            Plotly.purge(gd);\n",
              "            observer.disconnect();\n",
              "        }}\n",
              "}});\n",
              "\n",
              "// Listen for the removal of the full notebook cells\n",
              "var notebookContainer = gd.closest('#notebook-container');\n",
              "if (notebookContainer) {{\n",
              "    x.observe(notebookContainer, {childList: true});\n",
              "}}\n",
              "\n",
              "// Listen for the clearing of the current output cell\n",
              "var outputEl = gd.closest('.output');\n",
              "if (outputEl) {{\n",
              "    x.observe(outputEl, {childList: true});\n",
              "}}\n",
              "\n",
              "                        })                };                            </script>        </div>\n",
              "</body>\n",
              "</html>"
            ]
          },
          "metadata": {}
        }
      ],
      "source": [
        "# boxplot = px.box(df, x='Player_Age',points=\"all\")\n",
        "# hist = px.histogram(df, x=\"Player_Age\")\n",
        "\n",
        "fig = go.Figure()\n",
        "fig.add_trace(go.Box(x=df['Player_Age'],boxpoints='all',text=df['Player_Age'].value_counts()))\n",
        "my_buttons = [\n",
        "    dict(args=['type', 'box'], label='BoxPlot', method='restyle'),\n",
        "    dict(args=['type', 'histogram'], label='Histogram', method='restyle')  # Capitalize \"Histogram\" for clarity\n",
        "]\n",
        "\n",
        "fig.update_layout(\n",
        "    title= {\n",
        "        'text':\"Distribuição de idade em formato de boxplot e histograma\",\n",
        "        'y':0.95,\n",
        "        'x':0.5,\n",
        "        'xanchor': 'center',\n",
        "        'yanchor': 'top',\n",
        "        'font_size':30\n",
        "    },\n",
        "\n",
        "\n",
        "    updatemenus=[dict(type='buttons',  # Use 'buttons' (plural) here\n",
        "                      buttons=my_buttons,\n",
        "                      direction='left',\n",
        "                      showactive=True,\n",
        "                      x=0.11,\n",
        "                      xanchor=\"center\",\n",
        "                      y=1.1,\n",
        "                      yanchor=\"top\"\n",
        "                      )],\n",
        "\n",
        "    bargap=0.03\n",
        "),\n",
        "\n",
        "fig.show()"
      ]
    },
    {
      "cell_type": "markdown",
      "metadata": {
        "id": "3wZ_FMD7C9Lc"
      },
      "source": [
        "### Peso"
      ]
    },
    {
      "cell_type": "code",
      "execution_count": null,
      "metadata": {
        "id": "Q5-V0vFNC9Lc"
      },
      "outputs": [],
      "source": [
        "df['Player_Weight'].describe()"
      ]
    },
    {
      "cell_type": "code",
      "execution_count": null,
      "metadata": {
        "id": "y-SeCRyWC9Lc"
      },
      "outputs": [],
      "source": [
        "fig = px.box(df, y='Player_Weight')\n",
        "fig.show()"
      ]
    },
    {
      "cell_type": "markdown",
      "metadata": {
        "id": "7nTArOsqC9Lc"
      },
      "source": [
        "### Altura"
      ]
    },
    {
      "cell_type": "code",
      "execution_count": null,
      "metadata": {
        "id": "X-BeGiZNC9Lc"
      },
      "outputs": [],
      "source": [
        "df['Player_Height'].describe()"
      ]
    },
    {
      "cell_type": "code",
      "execution_count": null,
      "metadata": {
        "id": "EXb7o8KBC9Lc"
      },
      "outputs": [],
      "source": [
        "fig = px.box(df, y='Player_Height')\n",
        "fig.show()"
      ]
    },
    {
      "cell_type": "markdown",
      "metadata": {
        "id": "XcY41x8jC9Lc"
      },
      "source": [
        "### Indicador de lesão prévia"
      ]
    },
    {
      "cell_type": "code",
      "execution_count": null,
      "metadata": {
        "id": "RrDeh8jdC9Ld"
      },
      "outputs": [],
      "source": [
        "fig = px.pie(df, names='Previous_Injuries', )\n",
        "fig.show()"
      ]
    },
    {
      "cell_type": "markdown",
      "metadata": {
        "id": "0CFO9RktC9Ld"
      },
      "source": [
        "### Intensidade do treino"
      ]
    },
    {
      "cell_type": "code",
      "execution_count": null,
      "metadata": {
        "id": "4cQpzCxGC9Ld"
      },
      "outputs": [],
      "source": [
        "fig = px.box(df, y='Training_Intensity')\n",
        "fig.show()\n"
      ]
    },
    {
      "cell_type": "markdown",
      "metadata": {
        "id": "A9fQs5dcC9Ld"
      },
      "source": [
        "### Tempo de recuperação em dias"
      ]
    },
    {
      "cell_type": "code",
      "execution_count": null,
      "metadata": {
        "id": "uYHul5MEC9Ld"
      },
      "outputs": [],
      "source": [
        "fig = px.box(df, y='Recovery_Time',title='Tempo de recuperação da lesão')\n",
        "fig.show()"
      ]
    }
  ],
  "metadata": {
    "kernelspec": {
      "display_name": "Python 3",
      "language": "python",
      "name": "python3"
    },
    "language_info": {
      "codemirror_mode": {
        "name": "ipython",
        "version": 3
      },
      "file_extension": ".py",
      "mimetype": "text/x-python",
      "name": "python",
      "nbconvert_exporter": "python",
      "pygments_lexer": "ipython3",
      "version": "3.10.12"
    },
    "colab": {
      "provenance": [],
      "toc_visible": true,
      "include_colab_link": true
    }
  },
  "nbformat": 4,
  "nbformat_minor": 0
}