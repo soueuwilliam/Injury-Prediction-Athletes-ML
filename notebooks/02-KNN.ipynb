{
  "cells": [
    {
      "cell_type": "markdown",
      "metadata": {
        "id": "view-in-github",
        "colab_type": "text"
      },
      "source": [
        "<a href=\"https://colab.research.google.com/github/soueuwilliam/Injury-Prediction-Athletes-ML/blob/main/notebooks/02-KNN.ipynb\" target=\"_parent\"><img src=\"https://colab.research.google.com/assets/colab-badge.svg\" alt=\"Open In Colab\"/></a>"
      ]
    },
    {
      "cell_type": "markdown",
      "source": [
        "# Application of the KNN algorithm to the dataset\n"
      ],
      "metadata": {
        "id": "DKpDPyRgUvgj"
      }
    },
    {
      "cell_type": "markdown",
      "source": [
        "# imports"
      ],
      "metadata": {
        "id": "JfBvYBqjVLej"
      }
    },
    {
      "cell_type": "markdown",
      "source": [
        "## Libraries"
      ],
      "metadata": {
        "id": "2-O3qgBeVQ6w"
      }
    },
    {
      "cell_type": "markdown",
      "source": [
        "### Data analysis\n"
      ],
      "metadata": {
        "id": "Ve5NeIVzWook"
      }
    },
    {
      "cell_type": "code",
      "source": [
        "import pandas as pd"
      ],
      "metadata": {
        "id": "RM5zb83PaGM9"
      },
      "execution_count": null,
      "outputs": []
    },
    {
      "cell_type": "markdown",
      "source": [
        "### File handling\n"
      ],
      "metadata": {
        "id": "kwgggMdOW01x"
      }
    },
    {
      "cell_type": "code",
      "source": [
        "import gdown"
      ],
      "metadata": {
        "id": "hKrKDH0lWy4k"
      },
      "execution_count": null,
      "outputs": []
    },
    {
      "cell_type": "markdown",
      "source": [
        "### Machine learning"
      ],
      "metadata": {
        "id": "rp5_lIAFWuKK"
      }
    },
    {
      "cell_type": "code",
      "execution_count": null,
      "metadata": {
        "id": "8vL1xMfKUtha"
      },
      "outputs": [],
      "source": [
        "from sklearn.model_selection import train_test_split\n",
        "from sklearn.preprocessing import StandardScaler\n",
        "from sklearn.neighbors import KNeighborsClassifier\n",
        "from sklearn.metrics import classification_report, confusion_matrix, accuracy_score"
      ]
    },
    {
      "cell_type": "markdown",
      "source": [
        "#Import dataset"
      ],
      "metadata": {
        "id": "RxF1dQL2b8Yu"
      }
    },
    {
      "cell_type": "code",
      "source": [
        "#Baixando Dataset\n",
        "url = 'https://drive.google.com/file/d/1Kf3L770vmOB5mbtmE6ku91dzv2813VjQ/view?usp=sharing'\n",
        "output = 'injury_dataset.csv'\n",
        "gdown.download(url=url , output=output, quiet=False, fuzzy=True)\n",
        "df = pd.read_csv('injury_dataset.csv')"
      ],
      "metadata": {
        "id": "s7TSgL2ZcBdt"
      },
      "execution_count": null,
      "outputs": []
    },
    {
      "cell_type": "markdown",
      "source": [
        "# Model application"
      ],
      "metadata": {
        "id": "Bh0wbVn5ciF-"
      }
    },
    {
      "cell_type": "code",
      "source": [
        "X = df.drop('Likelihood_of_Injury', axis=1)\n",
        "y = df['Likelihood_of_Injury']"
      ],
      "metadata": {
        "id": "yY6pNmB1FExU"
      },
      "execution_count": null,
      "outputs": []
    },
    {
      "cell_type": "code",
      "source": [
        "X_train, X_test, y_train, y_test = train_test_split(X, y, test_size=0.2, random_state=0)"
      ],
      "metadata": {
        "id": "7ZJ9B53aFIBK"
      },
      "execution_count": null,
      "outputs": []
    },
    {
      "cell_type": "code",
      "source": [
        "scaler = StandardScaler()\n",
        "X_train = scaler.fit_transform(X_train)\n",
        "X_test = scaler.transform(X_test)"
      ],
      "metadata": {
        "id": "LIT5k5g1FLDu"
      },
      "execution_count": null,
      "outputs": []
    },
    {
      "cell_type": "code",
      "source": [
        "knn = KNeighborsClassifier(n_neighbors=5)\n",
        "knn.fit(X_train, y_train)"
      ],
      "metadata": {
        "id": "sGlyfoAWFNdR"
      },
      "execution_count": null,
      "outputs": []
    },
    {
      "cell_type": "code",
      "source": [
        "y_pred = knn.predict(X_test)"
      ],
      "metadata": {
        "id": "SQCgfcXmFPoO"
      },
      "execution_count": null,
      "outputs": []
    },
    {
      "cell_type": "code",
      "source": [
        "print(\"\\nAccuracy Score:\")\n",
        "print(classification_report(y_test, y_pred))"
      ],
      "metadata": {
        "id": "PtgUOnBchyHa"
      },
      "execution_count": null,
      "outputs": []
    },
    {
      "cell_type": "code",
      "source": [
        "print(\"\\nAccuracy Score:\")\n",
        "print(accuracy_score(y_test, y_pred))"
      ],
      "metadata": {
        "id": "wwxz9ZFOFSUi"
      },
      "execution_count": null,
      "outputs": []
    }
  ],
  "metadata": {
    "kernelspec": {
      "display_name": "Python 3",
      "language": "python",
      "name": "python3"
    },
    "language_info": {
      "codemirror_mode": {
        "name": "ipython",
        "version": 3
      },
      "file_extension": ".py",
      "mimetype": "text/x-python",
      "name": "python",
      "nbconvert_exporter": "python",
      "pygments_lexer": "ipython3",
      "version": "3.10.12"
    },
    "colab": {
      "provenance": [],
      "toc_visible": true,
      "include_colab_link": true
    }
  },
  "nbformat": 4,
  "nbformat_minor": 0
}